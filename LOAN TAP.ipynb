{
 "cells": [
  {
   "cell_type": "markdown",
   "id": "077baddc",
   "metadata": {},
   "source": [
    "### ABOUT COMPANY"
   ]
  },
  {
   "cell_type": "markdown",
   "id": "68fe0fb7",
   "metadata": {},
   "source": [
    "LoanTap is an online platform committed to delivering customized loan products to millennials. They innovate in an otherwise dull loan segment, to deliver instant, flexible loans on consumer friendly terms to salaried professionals and businessmen.\n",
    "\n",
    "The data science team at LoanTap is building an underwriting layer to determine the creditworthiness of MSMEs as well as individuals.\n",
    "\n",
    "LoanTap deploys formal credit to salaried individuals and businesses 4 main financial instruments:\n",
    "\n",
    "    1. Personal Loan\n",
    "    2. EMI Free Loan\n",
    "    3. Personal Overdraft\n",
    "    4. Advance Salary Loan"
   ]
  },
  {
   "cell_type": "markdown",
   "id": "afd3b876",
   "metadata": {},
   "source": [
    "### PROBLEM STATEMENT"
   ]
  },
  {
   "cell_type": "markdown",
   "id": "df7a51e8",
   "metadata": {},
   "source": [
    "Given a set of attributes for an Individual, determine if a credit line should be extended to them. If so, what should the repayment terms be in business recommendations?"
   ]
  },
  {
   "cell_type": "markdown",
   "id": "ee9ab0ae",
   "metadata": {},
   "source": [
    "### IMPORT LIBRARIES"
   ]
  },
  {
   "cell_type": "code",
   "execution_count": 850,
   "id": "2fe10402",
   "metadata": {},
   "outputs": [],
   "source": [
    "import pandas as pd\n",
    "import numpy as np\n",
    "import matplotlib.pyplot as plt\n",
    "import seaborn as sns\n",
    "from scipy.stats import pearsonr,f_oneway,chi2_contingency,shapiro,norm,kstest\n",
    "import warnings\n",
    "from sklearn.linear_model import LogisticRegression\n",
    "from sklearn import metrics\n",
    "from sklearn.metrics import confusion_matrix\n",
    "from sklearn.metrics import classification_report\n",
    "from sklearn.metrics import roc_auc_score\n",
    "from sklearn.metrics import roc_curve\n",
    "from sklearn.metrics import precision_recall_curve\n",
    "from sklearn.model_selection import train_test_split, KFold, cross_val_score, GridSearchCV\n",
    "from sklearn.preprocessing import MinMaxScaler, OneHotEncoder, StandardScaler, LabelEncoder\n",
    "from sklearn.metrics import (\n",
    "    accuracy_score, confusion_matrix, classification_report,\n",
    "    roc_auc_score, roc_curve, auc,\n",
    "    plot_confusion_matrix, plot_roc_curve,ConfusionMatrixDisplay, precision_recall_curve\n",
    ")\n",
    "from statsmodels.stats.outliers_influence import variance_inflation_factor\n",
    "from imblearn.over_sampling import SMOTE\n",
    "from sklearn.impute import KNNImputer\n",
    "from category_encoders import TargetEncoder\n",
    "from scipy.stats import chi2_contingency\n",
    "from imblearn.over_sampling import SMOTE\n",
    "warnings.filterwarnings('ignore')"
   ]
  },
  {
   "cell_type": "markdown",
   "id": "9cbaecd5",
   "metadata": {},
   "source": [
    "### IMPORT DATASET"
   ]
  },
  {
   "cell_type": "code",
   "execution_count": 851,
   "id": "b05ae8f7",
   "metadata": {},
   "outputs": [],
   "source": [
    "df=pd.read_csv(r\"logistic_regression.csv\")"
   ]
  },
  {
   "cell_type": "markdown",
   "id": "0c120a0c",
   "metadata": {},
   "source": [
    "### DATA EXPLORATION"
   ]
  },
  {
   "cell_type": "code",
   "execution_count": 852,
   "id": "f05cefb7",
   "metadata": {},
   "outputs": [
    {
     "data": {
      "text/html": [
       "<div>\n",
       "<style scoped>\n",
       "    .dataframe tbody tr th:only-of-type {\n",
       "        vertical-align: middle;\n",
       "    }\n",
       "\n",
       "    .dataframe tbody tr th {\n",
       "        vertical-align: top;\n",
       "    }\n",
       "\n",
       "    .dataframe thead th {\n",
       "        text-align: right;\n",
       "    }\n",
       "</style>\n",
       "<table border=\"1\" class=\"dataframe\">\n",
       "  <thead>\n",
       "    <tr style=\"text-align: right;\">\n",
       "      <th></th>\n",
       "      <th>loan_amnt</th>\n",
       "      <th>term</th>\n",
       "      <th>int_rate</th>\n",
       "      <th>installment</th>\n",
       "      <th>grade</th>\n",
       "      <th>sub_grade</th>\n",
       "      <th>emp_title</th>\n",
       "      <th>emp_length</th>\n",
       "      <th>home_ownership</th>\n",
       "      <th>annual_inc</th>\n",
       "      <th>...</th>\n",
       "      <th>open_acc</th>\n",
       "      <th>pub_rec</th>\n",
       "      <th>revol_bal</th>\n",
       "      <th>revol_util</th>\n",
       "      <th>total_acc</th>\n",
       "      <th>initial_list_status</th>\n",
       "      <th>application_type</th>\n",
       "      <th>mort_acc</th>\n",
       "      <th>pub_rec_bankruptcies</th>\n",
       "      <th>address</th>\n",
       "    </tr>\n",
       "  </thead>\n",
       "  <tbody>\n",
       "    <tr>\n",
       "      <th>0</th>\n",
       "      <td>10000.0</td>\n",
       "      <td>36 months</td>\n",
       "      <td>11.44</td>\n",
       "      <td>329.48</td>\n",
       "      <td>B</td>\n",
       "      <td>B4</td>\n",
       "      <td>Marketing</td>\n",
       "      <td>10+ years</td>\n",
       "      <td>RENT</td>\n",
       "      <td>117000.0</td>\n",
       "      <td>...</td>\n",
       "      <td>16.0</td>\n",
       "      <td>0.0</td>\n",
       "      <td>36369.0</td>\n",
       "      <td>41.8</td>\n",
       "      <td>25.0</td>\n",
       "      <td>w</td>\n",
       "      <td>INDIVIDUAL</td>\n",
       "      <td>0.0</td>\n",
       "      <td>0.0</td>\n",
       "      <td>0174 Michelle Gateway\\r\\nMendozaberg, OK 22690</td>\n",
       "    </tr>\n",
       "    <tr>\n",
       "      <th>1</th>\n",
       "      <td>8000.0</td>\n",
       "      <td>36 months</td>\n",
       "      <td>11.99</td>\n",
       "      <td>265.68</td>\n",
       "      <td>B</td>\n",
       "      <td>B5</td>\n",
       "      <td>Credit analyst</td>\n",
       "      <td>4 years</td>\n",
       "      <td>MORTGAGE</td>\n",
       "      <td>65000.0</td>\n",
       "      <td>...</td>\n",
       "      <td>17.0</td>\n",
       "      <td>0.0</td>\n",
       "      <td>20131.0</td>\n",
       "      <td>53.3</td>\n",
       "      <td>27.0</td>\n",
       "      <td>f</td>\n",
       "      <td>INDIVIDUAL</td>\n",
       "      <td>3.0</td>\n",
       "      <td>0.0</td>\n",
       "      <td>1076 Carney Fort Apt. 347\\r\\nLoganmouth, SD 05113</td>\n",
       "    </tr>\n",
       "    <tr>\n",
       "      <th>2</th>\n",
       "      <td>15600.0</td>\n",
       "      <td>36 months</td>\n",
       "      <td>10.49</td>\n",
       "      <td>506.97</td>\n",
       "      <td>B</td>\n",
       "      <td>B3</td>\n",
       "      <td>Statistician</td>\n",
       "      <td>&lt; 1 year</td>\n",
       "      <td>RENT</td>\n",
       "      <td>43057.0</td>\n",
       "      <td>...</td>\n",
       "      <td>13.0</td>\n",
       "      <td>0.0</td>\n",
       "      <td>11987.0</td>\n",
       "      <td>92.2</td>\n",
       "      <td>26.0</td>\n",
       "      <td>f</td>\n",
       "      <td>INDIVIDUAL</td>\n",
       "      <td>0.0</td>\n",
       "      <td>0.0</td>\n",
       "      <td>87025 Mark Dale Apt. 269\\r\\nNew Sabrina, WV 05113</td>\n",
       "    </tr>\n",
       "    <tr>\n",
       "      <th>3</th>\n",
       "      <td>7200.0</td>\n",
       "      <td>36 months</td>\n",
       "      <td>6.49</td>\n",
       "      <td>220.65</td>\n",
       "      <td>A</td>\n",
       "      <td>A2</td>\n",
       "      <td>Client Advocate</td>\n",
       "      <td>6 years</td>\n",
       "      <td>RENT</td>\n",
       "      <td>54000.0</td>\n",
       "      <td>...</td>\n",
       "      <td>6.0</td>\n",
       "      <td>0.0</td>\n",
       "      <td>5472.0</td>\n",
       "      <td>21.5</td>\n",
       "      <td>13.0</td>\n",
       "      <td>f</td>\n",
       "      <td>INDIVIDUAL</td>\n",
       "      <td>0.0</td>\n",
       "      <td>0.0</td>\n",
       "      <td>823 Reid Ford\\r\\nDelacruzside, MA 00813</td>\n",
       "    </tr>\n",
       "    <tr>\n",
       "      <th>4</th>\n",
       "      <td>24375.0</td>\n",
       "      <td>60 months</td>\n",
       "      <td>17.27</td>\n",
       "      <td>609.33</td>\n",
       "      <td>C</td>\n",
       "      <td>C5</td>\n",
       "      <td>Destiny Management Inc.</td>\n",
       "      <td>9 years</td>\n",
       "      <td>MORTGAGE</td>\n",
       "      <td>55000.0</td>\n",
       "      <td>...</td>\n",
       "      <td>13.0</td>\n",
       "      <td>0.0</td>\n",
       "      <td>24584.0</td>\n",
       "      <td>69.8</td>\n",
       "      <td>43.0</td>\n",
       "      <td>f</td>\n",
       "      <td>INDIVIDUAL</td>\n",
       "      <td>1.0</td>\n",
       "      <td>0.0</td>\n",
       "      <td>679 Luna Roads\\r\\nGreggshire, VA 11650</td>\n",
       "    </tr>\n",
       "  </tbody>\n",
       "</table>\n",
       "<p>5 rows × 27 columns</p>\n",
       "</div>"
      ],
      "text/plain": [
       "   loan_amnt        term  int_rate  installment grade sub_grade  \\\n",
       "0    10000.0   36 months     11.44       329.48     B        B4   \n",
       "1     8000.0   36 months     11.99       265.68     B        B5   \n",
       "2    15600.0   36 months     10.49       506.97     B        B3   \n",
       "3     7200.0   36 months      6.49       220.65     A        A2   \n",
       "4    24375.0   60 months     17.27       609.33     C        C5   \n",
       "\n",
       "                 emp_title emp_length home_ownership  annual_inc  ...  \\\n",
       "0                Marketing  10+ years           RENT    117000.0  ...   \n",
       "1          Credit analyst     4 years       MORTGAGE     65000.0  ...   \n",
       "2             Statistician   < 1 year           RENT     43057.0  ...   \n",
       "3          Client Advocate    6 years           RENT     54000.0  ...   \n",
       "4  Destiny Management Inc.    9 years       MORTGAGE     55000.0  ...   \n",
       "\n",
       "  open_acc pub_rec revol_bal revol_util total_acc  initial_list_status  \\\n",
       "0     16.0     0.0   36369.0       41.8      25.0                    w   \n",
       "1     17.0     0.0   20131.0       53.3      27.0                    f   \n",
       "2     13.0     0.0   11987.0       92.2      26.0                    f   \n",
       "3      6.0     0.0    5472.0       21.5      13.0                    f   \n",
       "4     13.0     0.0   24584.0       69.8      43.0                    f   \n",
       "\n",
       "  application_type  mort_acc  pub_rec_bankruptcies  \\\n",
       "0       INDIVIDUAL       0.0                   0.0   \n",
       "1       INDIVIDUAL       3.0                   0.0   \n",
       "2       INDIVIDUAL       0.0                   0.0   \n",
       "3       INDIVIDUAL       0.0                   0.0   \n",
       "4       INDIVIDUAL       1.0                   0.0   \n",
       "\n",
       "                                             address  \n",
       "0     0174 Michelle Gateway\\r\\nMendozaberg, OK 22690  \n",
       "1  1076 Carney Fort Apt. 347\\r\\nLoganmouth, SD 05113  \n",
       "2  87025 Mark Dale Apt. 269\\r\\nNew Sabrina, WV 05113  \n",
       "3            823 Reid Ford\\r\\nDelacruzside, MA 00813  \n",
       "4             679 Luna Roads\\r\\nGreggshire, VA 11650  \n",
       "\n",
       "[5 rows x 27 columns]"
      ]
     },
     "execution_count": 852,
     "metadata": {},
     "output_type": "execute_result"
    }
   ],
   "source": [
    "#First 5 rows#\n",
    "\n",
    "df.head()"
   ]
  },
  {
   "cell_type": "markdown",
   "id": "0568a68a",
   "metadata": {},
   "source": [
    "1. **loan_amnt** : The listed amount of the loan applied for by the borrower. If at some point in time, the credit department reduces the loan amount, then it will be reflected in this value.\n",
    "2. **term**: The number of payments on the loan. Values are in months and can be either 36 or 60.\n",
    "3. **int_rate** : Interest Rate on the loan\n",
    "4. **installment** : The monthly payment owed by the borrower if the loan originates.\n",
    "5. **grade** : LoanTap assigned loan grade\n",
    "6. **sub_grade** : LoanTap assigned loan subgrade\n",
    "7. **emp_title** :The job title supplied by the Borrower when applying for the loan.*\n",
    "8. **emp_length** : Employment length in years. Possible values are between 0 and 10 where 0 means less than one year and 10 means ten or more years.\n",
    "9. **home_ownership** : The home ownership status provided by the borrower during registration or obtained from the credit report.\n",
    "10. **annual_inc** : The self-reported annual income provided by the borrower during registration.\n",
    "11. **verification_status** : Indicates if income was verified by LoanTap, not verified, or if the income source was verified\n",
    "12. **issue_d** : The month which the loan was funded\n",
    "13. **loan_status** : Current status of the loan - Target Variable\n",
    "14. **purpose** : A category provided by the borrower for the loan request.\n",
    "15. **title** : The loan title provided by the borrower\n",
    "16. **dti** : A ratio calculated using the borrower’s total monthly debt payments on the total debt obligations, excluding mortgage and the requested LoanTap loan, divided by the borrower’s self-reported monthly income.\n",
    "17. **earliest_cr_line** :The month the borrower's earliest reported credit line was opened\n",
    "18. **open_acc** : The number of open credit lines in the borrower's credit file.\n",
    "19. **pub_rec** : Number of derogatory public records\n",
    "20. **revol_bal** : Total credit revolving balance\n",
    "21. **revol_util** : Revolving line utilization rate, or the amount of credit the borrower is using relative to all available revolving credit.\n",
    "22. **total_acc** : The total number of credit lines currently in the borrower's credit file\n",
    "23. **initial_list_status** : The initial listing status of the loan. Possible values are – W, F\n",
    "24. **application_type** : Indicates whether the loan is an individual application or a joint application with two co-borrowers\n",
    "25. **mort_acc** : Number of mortgage accounts.\n",
    "26. **pub_rec_bankruptcies** : Number of public record bankruptcies\n",
    "27. **Address**: Address of the individual"
   ]
  },
  {
   "cell_type": "code",
   "execution_count": 853,
   "id": "3c6c0e00",
   "metadata": {},
   "outputs": [
    {
     "data": {
      "text/plain": [
       "(396030, 27)"
      ]
     },
     "execution_count": 853,
     "metadata": {},
     "output_type": "execute_result"
    }
   ],
   "source": [
    "df.shape"
   ]
  },
  {
   "cell_type": "markdown",
   "id": "ca815614",
   "metadata": {},
   "source": [
    "There are around 396000 data points and 27 features in the dataset"
   ]
  },
  {
   "cell_type": "code",
   "execution_count": 854,
   "id": "6f60fc04",
   "metadata": {},
   "outputs": [
    {
     "name": "stdout",
     "output_type": "stream",
     "text": [
      "<class 'pandas.core.frame.DataFrame'>\n",
      "RangeIndex: 396030 entries, 0 to 396029\n",
      "Data columns (total 27 columns):\n",
      " #   Column                Non-Null Count   Dtype  \n",
      "---  ------                --------------   -----  \n",
      " 0   loan_amnt             396030 non-null  float64\n",
      " 1   term                  396030 non-null  object \n",
      " 2   int_rate              396030 non-null  float64\n",
      " 3   installment           396030 non-null  float64\n",
      " 4   grade                 396030 non-null  object \n",
      " 5   sub_grade             396030 non-null  object \n",
      " 6   emp_title             373103 non-null  object \n",
      " 7   emp_length            377729 non-null  object \n",
      " 8   home_ownership        396030 non-null  object \n",
      " 9   annual_inc            396030 non-null  float64\n",
      " 10  verification_status   396030 non-null  object \n",
      " 11  issue_d               396030 non-null  object \n",
      " 12  loan_status           396030 non-null  object \n",
      " 13  purpose               396030 non-null  object \n",
      " 14  title                 394275 non-null  object \n",
      " 15  dti                   396030 non-null  float64\n",
      " 16  earliest_cr_line      396030 non-null  object \n",
      " 17  open_acc              396030 non-null  float64\n",
      " 18  pub_rec               396030 non-null  float64\n",
      " 19  revol_bal             396030 non-null  float64\n",
      " 20  revol_util            395754 non-null  float64\n",
      " 21  total_acc             396030 non-null  float64\n",
      " 22  initial_list_status   396030 non-null  object \n",
      " 23  application_type      396030 non-null  object \n",
      " 24  mort_acc              358235 non-null  float64\n",
      " 25  pub_rec_bankruptcies  395495 non-null  float64\n",
      " 26  address               396030 non-null  object \n",
      "dtypes: float64(12), object(15)\n",
      "memory usage: 81.6+ MB\n"
     ]
    }
   ],
   "source": [
    "#Info on datatypes of features, count of non null data points#\n",
    "\n",
    "df.info()"
   ]
  },
  {
   "cell_type": "code",
   "execution_count": 855,
   "id": "bb41a057",
   "metadata": {},
   "outputs": [
    {
     "data": {
      "text/html": [
       "<div>\n",
       "<style scoped>\n",
       "    .dataframe tbody tr th:only-of-type {\n",
       "        vertical-align: middle;\n",
       "    }\n",
       "\n",
       "    .dataframe tbody tr th {\n",
       "        vertical-align: top;\n",
       "    }\n",
       "\n",
       "    .dataframe thead th {\n",
       "        text-align: right;\n",
       "    }\n",
       "</style>\n",
       "<table border=\"1\" class=\"dataframe\">\n",
       "  <thead>\n",
       "    <tr style=\"text-align: right;\">\n",
       "      <th></th>\n",
       "      <th>loan_amnt</th>\n",
       "      <th>int_rate</th>\n",
       "      <th>installment</th>\n",
       "      <th>annual_inc</th>\n",
       "      <th>dti</th>\n",
       "      <th>open_acc</th>\n",
       "      <th>pub_rec</th>\n",
       "      <th>revol_bal</th>\n",
       "      <th>revol_util</th>\n",
       "      <th>total_acc</th>\n",
       "      <th>mort_acc</th>\n",
       "      <th>pub_rec_bankruptcies</th>\n",
       "    </tr>\n",
       "  </thead>\n",
       "  <tbody>\n",
       "    <tr>\n",
       "      <th>count</th>\n",
       "      <td>396030.000000</td>\n",
       "      <td>396030.000000</td>\n",
       "      <td>396030.000000</td>\n",
       "      <td>3.960300e+05</td>\n",
       "      <td>396030.000000</td>\n",
       "      <td>396030.000000</td>\n",
       "      <td>396030.000000</td>\n",
       "      <td>3.960300e+05</td>\n",
       "      <td>395754.000000</td>\n",
       "      <td>396030.000000</td>\n",
       "      <td>358235.000000</td>\n",
       "      <td>395495.000000</td>\n",
       "    </tr>\n",
       "    <tr>\n",
       "      <th>mean</th>\n",
       "      <td>14113.888089</td>\n",
       "      <td>13.639400</td>\n",
       "      <td>431.849698</td>\n",
       "      <td>7.420318e+04</td>\n",
       "      <td>17.379514</td>\n",
       "      <td>11.311153</td>\n",
       "      <td>0.178191</td>\n",
       "      <td>1.584454e+04</td>\n",
       "      <td>53.791749</td>\n",
       "      <td>25.414744</td>\n",
       "      <td>1.813991</td>\n",
       "      <td>0.121648</td>\n",
       "    </tr>\n",
       "    <tr>\n",
       "      <th>std</th>\n",
       "      <td>8357.441341</td>\n",
       "      <td>4.472157</td>\n",
       "      <td>250.727790</td>\n",
       "      <td>6.163762e+04</td>\n",
       "      <td>18.019092</td>\n",
       "      <td>5.137649</td>\n",
       "      <td>0.530671</td>\n",
       "      <td>2.059184e+04</td>\n",
       "      <td>24.452193</td>\n",
       "      <td>11.886991</td>\n",
       "      <td>2.147930</td>\n",
       "      <td>0.356174</td>\n",
       "    </tr>\n",
       "    <tr>\n",
       "      <th>min</th>\n",
       "      <td>500.000000</td>\n",
       "      <td>5.320000</td>\n",
       "      <td>16.080000</td>\n",
       "      <td>0.000000e+00</td>\n",
       "      <td>0.000000</td>\n",
       "      <td>0.000000</td>\n",
       "      <td>0.000000</td>\n",
       "      <td>0.000000e+00</td>\n",
       "      <td>0.000000</td>\n",
       "      <td>2.000000</td>\n",
       "      <td>0.000000</td>\n",
       "      <td>0.000000</td>\n",
       "    </tr>\n",
       "    <tr>\n",
       "      <th>25%</th>\n",
       "      <td>8000.000000</td>\n",
       "      <td>10.490000</td>\n",
       "      <td>250.330000</td>\n",
       "      <td>4.500000e+04</td>\n",
       "      <td>11.280000</td>\n",
       "      <td>8.000000</td>\n",
       "      <td>0.000000</td>\n",
       "      <td>6.025000e+03</td>\n",
       "      <td>35.800000</td>\n",
       "      <td>17.000000</td>\n",
       "      <td>0.000000</td>\n",
       "      <td>0.000000</td>\n",
       "    </tr>\n",
       "    <tr>\n",
       "      <th>50%</th>\n",
       "      <td>12000.000000</td>\n",
       "      <td>13.330000</td>\n",
       "      <td>375.430000</td>\n",
       "      <td>6.400000e+04</td>\n",
       "      <td>16.910000</td>\n",
       "      <td>10.000000</td>\n",
       "      <td>0.000000</td>\n",
       "      <td>1.118100e+04</td>\n",
       "      <td>54.800000</td>\n",
       "      <td>24.000000</td>\n",
       "      <td>1.000000</td>\n",
       "      <td>0.000000</td>\n",
       "    </tr>\n",
       "    <tr>\n",
       "      <th>75%</th>\n",
       "      <td>20000.000000</td>\n",
       "      <td>16.490000</td>\n",
       "      <td>567.300000</td>\n",
       "      <td>9.000000e+04</td>\n",
       "      <td>22.980000</td>\n",
       "      <td>14.000000</td>\n",
       "      <td>0.000000</td>\n",
       "      <td>1.962000e+04</td>\n",
       "      <td>72.900000</td>\n",
       "      <td>32.000000</td>\n",
       "      <td>3.000000</td>\n",
       "      <td>0.000000</td>\n",
       "    </tr>\n",
       "    <tr>\n",
       "      <th>max</th>\n",
       "      <td>40000.000000</td>\n",
       "      <td>30.990000</td>\n",
       "      <td>1533.810000</td>\n",
       "      <td>8.706582e+06</td>\n",
       "      <td>9999.000000</td>\n",
       "      <td>90.000000</td>\n",
       "      <td>86.000000</td>\n",
       "      <td>1.743266e+06</td>\n",
       "      <td>892.300000</td>\n",
       "      <td>151.000000</td>\n",
       "      <td>34.000000</td>\n",
       "      <td>8.000000</td>\n",
       "    </tr>\n",
       "  </tbody>\n",
       "</table>\n",
       "</div>"
      ],
      "text/plain": [
       "           loan_amnt       int_rate    installment    annual_inc  \\\n",
       "count  396030.000000  396030.000000  396030.000000  3.960300e+05   \n",
       "mean    14113.888089      13.639400     431.849698  7.420318e+04   \n",
       "std      8357.441341       4.472157     250.727790  6.163762e+04   \n",
       "min       500.000000       5.320000      16.080000  0.000000e+00   \n",
       "25%      8000.000000      10.490000     250.330000  4.500000e+04   \n",
       "50%     12000.000000      13.330000     375.430000  6.400000e+04   \n",
       "75%     20000.000000      16.490000     567.300000  9.000000e+04   \n",
       "max     40000.000000      30.990000    1533.810000  8.706582e+06   \n",
       "\n",
       "                 dti       open_acc        pub_rec     revol_bal  \\\n",
       "count  396030.000000  396030.000000  396030.000000  3.960300e+05   \n",
       "mean       17.379514      11.311153       0.178191  1.584454e+04   \n",
       "std        18.019092       5.137649       0.530671  2.059184e+04   \n",
       "min         0.000000       0.000000       0.000000  0.000000e+00   \n",
       "25%        11.280000       8.000000       0.000000  6.025000e+03   \n",
       "50%        16.910000      10.000000       0.000000  1.118100e+04   \n",
       "75%        22.980000      14.000000       0.000000  1.962000e+04   \n",
       "max      9999.000000      90.000000      86.000000  1.743266e+06   \n",
       "\n",
       "          revol_util      total_acc       mort_acc  pub_rec_bankruptcies  \n",
       "count  395754.000000  396030.000000  358235.000000         395495.000000  \n",
       "mean       53.791749      25.414744       1.813991              0.121648  \n",
       "std        24.452193      11.886991       2.147930              0.356174  \n",
       "min         0.000000       2.000000       0.000000              0.000000  \n",
       "25%        35.800000      17.000000       0.000000              0.000000  \n",
       "50%        54.800000      24.000000       1.000000              0.000000  \n",
       "75%        72.900000      32.000000       3.000000              0.000000  \n",
       "max       892.300000     151.000000      34.000000              8.000000  "
      ]
     },
     "execution_count": 855,
     "metadata": {},
     "output_type": "execute_result"
    }
   ],
   "source": [
    "df.describe()"
   ]
  },
  {
   "cell_type": "code",
   "execution_count": 856,
   "id": "c5eeed09",
   "metadata": {},
   "outputs": [
    {
     "data": {
      "text/plain": [
       "loan_amnt                   0\n",
       "term                        0\n",
       "int_rate                    0\n",
       "installment                 0\n",
       "grade                       0\n",
       "sub_grade                   0\n",
       "emp_title               22927\n",
       "emp_length              18301\n",
       "home_ownership              0\n",
       "annual_inc                  0\n",
       "verification_status         0\n",
       "issue_d                     0\n",
       "loan_status                 0\n",
       "purpose                     0\n",
       "title                    1755\n",
       "dti                         0\n",
       "earliest_cr_line            0\n",
       "open_acc                    0\n",
       "pub_rec                     0\n",
       "revol_bal                   0\n",
       "revol_util                276\n",
       "total_acc                   0\n",
       "initial_list_status         0\n",
       "application_type            0\n",
       "mort_acc                37795\n",
       "pub_rec_bankruptcies      535\n",
       "address                     0\n",
       "dtype: int64"
      ]
     },
     "execution_count": 856,
     "metadata": {},
     "output_type": "execute_result"
    }
   ],
   "source": [
    "#Count of null values in each column#\n",
    "\n",
    "df.isnull().sum()"
   ]
  },
  {
   "cell_type": "markdown",
   "id": "7f7b11ce",
   "metadata": {},
   "source": [
    "There are null values present in 6 columns"
   ]
  },
  {
   "cell_type": "code",
   "execution_count": 857,
   "id": "ac0567e1",
   "metadata": {},
   "outputs": [
    {
     "data": {
      "text/html": [
       "<div>\n",
       "<style scoped>\n",
       "    .dataframe tbody tr th:only-of-type {\n",
       "        vertical-align: middle;\n",
       "    }\n",
       "\n",
       "    .dataframe tbody tr th {\n",
       "        vertical-align: top;\n",
       "    }\n",
       "\n",
       "    .dataframe thead th {\n",
       "        text-align: right;\n",
       "    }\n",
       "</style>\n",
       "<table border=\"1\" class=\"dataframe\">\n",
       "  <thead>\n",
       "    <tr style=\"text-align: right;\">\n",
       "      <th></th>\n",
       "      <th>Columns</th>\n",
       "      <th>Count of Columns</th>\n",
       "    </tr>\n",
       "  </thead>\n",
       "  <tbody>\n",
       "    <tr>\n",
       "      <th>0</th>\n",
       "      <td>loan_amnt</td>\n",
       "      <td>1397</td>\n",
       "    </tr>\n",
       "    <tr>\n",
       "      <th>1</th>\n",
       "      <td>term</td>\n",
       "      <td>2</td>\n",
       "    </tr>\n",
       "    <tr>\n",
       "      <th>2</th>\n",
       "      <td>int_rate</td>\n",
       "      <td>566</td>\n",
       "    </tr>\n",
       "    <tr>\n",
       "      <th>3</th>\n",
       "      <td>installment</td>\n",
       "      <td>55706</td>\n",
       "    </tr>\n",
       "    <tr>\n",
       "      <th>4</th>\n",
       "      <td>grade</td>\n",
       "      <td>7</td>\n",
       "    </tr>\n",
       "    <tr>\n",
       "      <th>5</th>\n",
       "      <td>sub_grade</td>\n",
       "      <td>35</td>\n",
       "    </tr>\n",
       "    <tr>\n",
       "      <th>6</th>\n",
       "      <td>emp_title</td>\n",
       "      <td>173105</td>\n",
       "    </tr>\n",
       "    <tr>\n",
       "      <th>7</th>\n",
       "      <td>emp_length</td>\n",
       "      <td>11</td>\n",
       "    </tr>\n",
       "    <tr>\n",
       "      <th>8</th>\n",
       "      <td>home_ownership</td>\n",
       "      <td>6</td>\n",
       "    </tr>\n",
       "    <tr>\n",
       "      <th>9</th>\n",
       "      <td>annual_inc</td>\n",
       "      <td>27197</td>\n",
       "    </tr>\n",
       "    <tr>\n",
       "      <th>10</th>\n",
       "      <td>verification_status</td>\n",
       "      <td>3</td>\n",
       "    </tr>\n",
       "    <tr>\n",
       "      <th>11</th>\n",
       "      <td>issue_d</td>\n",
       "      <td>115</td>\n",
       "    </tr>\n",
       "    <tr>\n",
       "      <th>12</th>\n",
       "      <td>loan_status</td>\n",
       "      <td>2</td>\n",
       "    </tr>\n",
       "    <tr>\n",
       "      <th>13</th>\n",
       "      <td>purpose</td>\n",
       "      <td>14</td>\n",
       "    </tr>\n",
       "    <tr>\n",
       "      <th>14</th>\n",
       "      <td>title</td>\n",
       "      <td>48817</td>\n",
       "    </tr>\n",
       "    <tr>\n",
       "      <th>15</th>\n",
       "      <td>dti</td>\n",
       "      <td>4262</td>\n",
       "    </tr>\n",
       "    <tr>\n",
       "      <th>16</th>\n",
       "      <td>earliest_cr_line</td>\n",
       "      <td>684</td>\n",
       "    </tr>\n",
       "    <tr>\n",
       "      <th>17</th>\n",
       "      <td>open_acc</td>\n",
       "      <td>61</td>\n",
       "    </tr>\n",
       "    <tr>\n",
       "      <th>18</th>\n",
       "      <td>pub_rec</td>\n",
       "      <td>20</td>\n",
       "    </tr>\n",
       "    <tr>\n",
       "      <th>19</th>\n",
       "      <td>revol_bal</td>\n",
       "      <td>55622</td>\n",
       "    </tr>\n",
       "    <tr>\n",
       "      <th>20</th>\n",
       "      <td>revol_util</td>\n",
       "      <td>1226</td>\n",
       "    </tr>\n",
       "    <tr>\n",
       "      <th>21</th>\n",
       "      <td>total_acc</td>\n",
       "      <td>118</td>\n",
       "    </tr>\n",
       "    <tr>\n",
       "      <th>22</th>\n",
       "      <td>initial_list_status</td>\n",
       "      <td>2</td>\n",
       "    </tr>\n",
       "    <tr>\n",
       "      <th>23</th>\n",
       "      <td>application_type</td>\n",
       "      <td>3</td>\n",
       "    </tr>\n",
       "    <tr>\n",
       "      <th>24</th>\n",
       "      <td>mort_acc</td>\n",
       "      <td>33</td>\n",
       "    </tr>\n",
       "    <tr>\n",
       "      <th>25</th>\n",
       "      <td>pub_rec_bankruptcies</td>\n",
       "      <td>9</td>\n",
       "    </tr>\n",
       "    <tr>\n",
       "      <th>26</th>\n",
       "      <td>address</td>\n",
       "      <td>393700</td>\n",
       "    </tr>\n",
       "  </tbody>\n",
       "</table>\n",
       "</div>"
      ],
      "text/plain": [
       "                 Columns  Count of Columns\n",
       "0              loan_amnt              1397\n",
       "1                   term                 2\n",
       "2               int_rate               566\n",
       "3            installment             55706\n",
       "4                  grade                 7\n",
       "5              sub_grade                35\n",
       "6              emp_title            173105\n",
       "7             emp_length                11\n",
       "8         home_ownership                 6\n",
       "9             annual_inc             27197\n",
       "10   verification_status                 3\n",
       "11               issue_d               115\n",
       "12           loan_status                 2\n",
       "13               purpose                14\n",
       "14                 title             48817\n",
       "15                   dti              4262\n",
       "16      earliest_cr_line               684\n",
       "17              open_acc                61\n",
       "18               pub_rec                20\n",
       "19             revol_bal             55622\n",
       "20            revol_util              1226\n",
       "21             total_acc               118\n",
       "22   initial_list_status                 2\n",
       "23      application_type                 3\n",
       "24              mort_acc                33\n",
       "25  pub_rec_bankruptcies                 9\n",
       "26               address            393700"
      ]
     },
     "execution_count": 857,
     "metadata": {},
     "output_type": "execute_result"
    }
   ],
   "source": [
    "#Count of unique values in each columns#\n",
    "\n",
    "count_of_unique=[]\n",
    "columns_=[]\n",
    "for i in df.columns:\n",
    "    columns_.append(i)\n",
    "    count_of_unique.append(df[i].nunique())\n",
    "pd.DataFrame({'Columns':columns_,'Count of Columns':count_of_unique})"
   ]
  },
  {
   "cell_type": "markdown",
   "id": "ba5ea76d",
   "metadata": {},
   "source": [
    "* There are 173105, 48817 & 393700 unique items respectively in emp_title, title & address column. For further analysis, these columns are dropped because there is no value addition in encoding these categorical datas"
   ]
  },
  {
   "cell_type": "code",
   "execution_count": 858,
   "id": "a06a2155",
   "metadata": {
    "scrolled": true
   },
   "outputs": [
    {
     "data": {
      "image/png": "[encoded data removed]",
      "text/plain": [
       "<Figure size 1200x800 with 2 Axes>"
      ]
     },
     "metadata": {},
     "output_type": "display_data"
    }
   ],
   "source": [
    "#Correlation heatmap\n",
    "\n",
    "plt.figure(figsize=(12, 8))\n",
    "sns.heatmap(df.corr(method='spearman'), annot=True, cmap='viridis')\n",
    "plt.show()"
   ]
  },
  {
   "cell_type": "markdown",
   "id": "f0c3d8d2",
   "metadata": {},
   "source": [
    "**Spearman** method is used since the interest is on checking the correlation between 2 features and understand whether if one feature changes, how well the other features changes. The change may be non linear<br>\n",
    "**Pearson** to be used when there is a linear correlation between the features"
   ]
  },
  {
   "cell_type": "markdown",
   "id": "00dca21f",
   "metadata": {},
   "source": [
    "Installments and loan_amount is having very high correlation of 0.97. So one of the feature can be removed<br>\n",
    "In this case, installment feature is removed"
   ]
  },
  {
   "cell_type": "code",
   "execution_count": 859,
   "id": "41c284a1",
   "metadata": {},
   "outputs": [],
   "source": [
    "#Drop installment column\n",
    "\n",
    "df.drop(columns=['installment'], axis=1, inplace=True)"
   ]
  },
  {
   "cell_type": "code",
   "execution_count": 860,
   "id": "6d3d3ede",
   "metadata": {},
   "outputs": [
    {
     "data": {
      "text/html": [
       "<div>\n",
       "<style scoped>\n",
       "    .dataframe tbody tr th:only-of-type {\n",
       "        vertical-align: middle;\n",
       "    }\n",
       "\n",
       "    .dataframe tbody tr th {\n",
       "        vertical-align: top;\n",
       "    }\n",
       "\n",
       "    .dataframe thead th {\n",
       "        text-align: right;\n",
       "    }\n",
       "</style>\n",
       "<table border=\"1\" class=\"dataframe\">\n",
       "  <thead>\n",
       "    <tr style=\"text-align: right;\">\n",
       "      <th></th>\n",
       "      <th>count</th>\n",
       "      <th>mean</th>\n",
       "      <th>std</th>\n",
       "      <th>min</th>\n",
       "      <th>25%</th>\n",
       "      <th>50%</th>\n",
       "      <th>75%</th>\n",
       "      <th>max</th>\n",
       "    </tr>\n",
       "    <tr>\n",
       "      <th>loan_status</th>\n",
       "      <th></th>\n",
       "      <th></th>\n",
       "      <th></th>\n",
       "      <th></th>\n",
       "      <th></th>\n",
       "      <th></th>\n",
       "      <th></th>\n",
       "      <th></th>\n",
       "    </tr>\n",
       "  </thead>\n",
       "  <tbody>\n",
       "    <tr>\n",
       "      <th>Charged Off</th>\n",
       "      <td>77673.0</td>\n",
       "      <td>15126.300967</td>\n",
       "      <td>8505.090557</td>\n",
       "      <td>1000.0</td>\n",
       "      <td>8525.0</td>\n",
       "      <td>14000.0</td>\n",
       "      <td>20000.0</td>\n",
       "      <td>40000.0</td>\n",
       "    </tr>\n",
       "    <tr>\n",
       "      <th>Fully Paid</th>\n",
       "      <td>318357.0</td>\n",
       "      <td>13866.878771</td>\n",
       "      <td>8302.319699</td>\n",
       "      <td>500.0</td>\n",
       "      <td>7500.0</td>\n",
       "      <td>12000.0</td>\n",
       "      <td>19225.0</td>\n",
       "      <td>40000.0</td>\n",
       "    </tr>\n",
       "  </tbody>\n",
       "</table>\n",
       "</div>"
      ],
      "text/plain": [
       "                count          mean          std     min     25%      50%  \\\n",
       "loan_status                                                                 \n",
       "Charged Off   77673.0  15126.300967  8505.090557  1000.0  8525.0  14000.0   \n",
       "Fully Paid   318357.0  13866.878771  8302.319699   500.0  7500.0  12000.0   \n",
       "\n",
       "                 75%      max  \n",
       "loan_status                    \n",
       "Charged Off  20000.0  40000.0  \n",
       "Fully Paid   19225.0  40000.0  "
      ]
     },
     "execution_count": 860,
     "metadata": {},
     "output_type": "execute_result"
    }
   ],
   "source": [
    "#loan_status vs loan_amount\n",
    "\n",
    "df.groupby(by='loan_status')['loan_amnt'].describe()"
   ]
  },
  {
   "cell_type": "markdown",
   "id": "2b3dedec",
   "metadata": {},
   "source": [
    "* Close to 3.2 lakh people (80%) paid back their loan while 78k loans (20%) were charged off\n",
    "* The mean charged off loan amount is higher than the fully paid loan amount by 9%\n",
    "* Mean is more than the median in both loan_status which means the distribution is right tailed"
   ]
  },
  {
   "cell_type": "code",
   "execution_count": 870,
   "id": "b25dcc76",
   "metadata": {},
   "outputs": [
    {
     "data": {
      "text/html": [
       "<div>\n",
       "<style scoped>\n",
       "    .dataframe tbody tr th:only-of-type {\n",
       "        vertical-align: middle;\n",
       "    }\n",
       "\n",
       "    .dataframe tbody tr th {\n",
       "        vertical-align: top;\n",
       "    }\n",
       "\n",
       "    .dataframe thead th {\n",
       "        text-align: right;\n",
       "    }\n",
       "</style>\n",
       "<table border=\"1\" class=\"dataframe\">\n",
       "  <thead>\n",
       "    <tr style=\"text-align: right;\">\n",
       "      <th></th>\n",
       "      <th>count</th>\n",
       "      <th>mean</th>\n",
       "      <th>std</th>\n",
       "      <th>min</th>\n",
       "      <th>25%</th>\n",
       "      <th>50%</th>\n",
       "      <th>75%</th>\n",
       "      <th>max</th>\n",
       "    </tr>\n",
       "    <tr>\n",
       "      <th>loan_status</th>\n",
       "      <th></th>\n",
       "      <th></th>\n",
       "      <th></th>\n",
       "      <th></th>\n",
       "      <th></th>\n",
       "      <th></th>\n",
       "      <th></th>\n",
       "      <th></th>\n",
       "    </tr>\n",
       "  </thead>\n",
       "  <tbody>\n",
       "    <tr>\n",
       "      <th>Charged Off</th>\n",
       "      <td>77673.0</td>\n",
       "      <td>19.656346</td>\n",
       "      <td>36.781068</td>\n",
       "      <td>0.0</td>\n",
       "      <td>13.33</td>\n",
       "      <td>19.34</td>\n",
       "      <td>25.55</td>\n",
       "      <td>9999.0</td>\n",
       "    </tr>\n",
       "    <tr>\n",
       "      <th>Fully Paid</th>\n",
       "      <td>318357.0</td>\n",
       "      <td>16.824010</td>\n",
       "      <td>8.500979</td>\n",
       "      <td>0.0</td>\n",
       "      <td>10.87</td>\n",
       "      <td>16.34</td>\n",
       "      <td>22.29</td>\n",
       "      <td>1622.0</td>\n",
       "    </tr>\n",
       "  </tbody>\n",
       "</table>\n",
       "</div>"
      ],
      "text/plain": [
       "                count       mean        std  min    25%    50%    75%     max\n",
       "loan_status                                                                  \n",
       "Charged Off   77673.0  19.656346  36.781068  0.0  13.33  19.34  25.55  9999.0\n",
       "Fully Paid   318357.0  16.824010   8.500979  0.0  10.87  16.34  22.29  1622.0"
      ]
     },
     "execution_count": 870,
     "metadata": {},
     "output_type": "execute_result"
    }
   ],
   "source": [
    "#loan_status vs dti\n",
    "\n",
    "df.groupby(by='loan_status')['dti'].describe()"
   ]
  },
  {
   "cell_type": "markdown",
   "id": "a1d7a276",
   "metadata": {},
   "source": [
    "* Those with higher dti has higher chances of being a defaulter\n",
    "* Variance is higher for the defaulters. Confidence interval of Defaulters and Non defaulters will be overlapping and hence one cannot be exactly differentiated from the other only with 'dti' feature\n",
    "* Mean is equal to the median in both categories and hence the distribution will be symmetrical and there will less number of outliers"
   ]
  },
  {
   "cell_type": "code",
   "execution_count": 878,
   "id": "2bcb1607",
   "metadata": {},
   "outputs": [
    {
     "data": {
      "text/html": [
       "<div>\n",
       "<style scoped>\n",
       "    .dataframe tbody tr th:only-of-type {\n",
       "        vertical-align: middle;\n",
       "    }\n",
       "\n",
       "    .dataframe tbody tr th {\n",
       "        vertical-align: top;\n",
       "    }\n",
       "\n",
       "    .dataframe thead th {\n",
       "        text-align: right;\n",
       "    }\n",
       "</style>\n",
       "<table border=\"1\" class=\"dataframe\">\n",
       "  <thead>\n",
       "    <tr style=\"text-align: right;\">\n",
       "      <th></th>\n",
       "      <th>count</th>\n",
       "      <th>mean</th>\n",
       "      <th>std</th>\n",
       "      <th>min</th>\n",
       "      <th>25%</th>\n",
       "      <th>50%</th>\n",
       "      <th>75%</th>\n",
       "      <th>max</th>\n",
       "    </tr>\n",
       "    <tr>\n",
       "      <th>loan_status</th>\n",
       "      <th></th>\n",
       "      <th></th>\n",
       "      <th></th>\n",
       "      <th></th>\n",
       "      <th></th>\n",
       "      <th></th>\n",
       "      <th></th>\n",
       "      <th></th>\n",
       "    </tr>\n",
       "  </thead>\n",
       "  <tbody>\n",
       "    <tr>\n",
       "      <th>Charged Off</th>\n",
       "      <td>77673.0</td>\n",
       "      <td>15.882587</td>\n",
       "      <td>4.388135</td>\n",
       "      <td>5.32</td>\n",
       "      <td>12.99</td>\n",
       "      <td>15.61</td>\n",
       "      <td>18.64</td>\n",
       "      <td>30.99</td>\n",
       "    </tr>\n",
       "    <tr>\n",
       "      <th>Fully Paid</th>\n",
       "      <td>318357.0</td>\n",
       "      <td>13.092105</td>\n",
       "      <td>4.319105</td>\n",
       "      <td>5.32</td>\n",
       "      <td>9.91</td>\n",
       "      <td>12.99</td>\n",
       "      <td>15.61</td>\n",
       "      <td>30.99</td>\n",
       "    </tr>\n",
       "  </tbody>\n",
       "</table>\n",
       "</div>"
      ],
      "text/plain": [
       "                count       mean       std   min    25%    50%    75%    max\n",
       "loan_status                                                                 \n",
       "Charged Off   77673.0  15.882587  4.388135  5.32  12.99  15.61  18.64  30.99\n",
       "Fully Paid   318357.0  13.092105  4.319105  5.32   9.91  12.99  15.61  30.99"
      ]
     },
     "execution_count": 878,
     "metadata": {},
     "output_type": "execute_result"
    }
   ],
   "source": [
    "#loan_status vs interest rate\n",
    "\n",
    "df.groupby(by='loan_status')['int_rate'].describe()"
   ]
  },
  {
   "cell_type": "markdown",
   "id": "dd33060c",
   "metadata": {},
   "source": [
    "* Interest rates for defaulters are higher than non defaulters\n",
    "* Less outliers are present due to symmetrical distribution"
   ]
  },
  {
   "cell_type": "code",
   "execution_count": 879,
   "id": "aa2c61b0",
   "metadata": {},
   "outputs": [
    {
     "data": {
      "text/html": [
       "<div>\n",
       "<style scoped>\n",
       "    .dataframe tbody tr th:only-of-type {\n",
       "        vertical-align: middle;\n",
       "    }\n",
       "\n",
       "    .dataframe tbody tr th {\n",
       "        vertical-align: top;\n",
       "    }\n",
       "\n",
       "    .dataframe thead th {\n",
       "        text-align: right;\n",
       "    }\n",
       "</style>\n",
       "<table border=\"1\" class=\"dataframe\">\n",
       "  <thead>\n",
       "    <tr style=\"text-align: right;\">\n",
       "      <th></th>\n",
       "      <th>count</th>\n",
       "      <th>mean</th>\n",
       "      <th>std</th>\n",
       "      <th>min</th>\n",
       "      <th>25%</th>\n",
       "      <th>50%</th>\n",
       "      <th>75%</th>\n",
       "      <th>max</th>\n",
       "    </tr>\n",
       "    <tr>\n",
       "      <th>loan_status</th>\n",
       "      <th></th>\n",
       "      <th></th>\n",
       "      <th></th>\n",
       "      <th></th>\n",
       "      <th></th>\n",
       "      <th></th>\n",
       "      <th></th>\n",
       "      <th></th>\n",
       "    </tr>\n",
       "  </thead>\n",
       "  <tbody>\n",
       "    <tr>\n",
       "      <th>Charged Off</th>\n",
       "      <td>77673.0</td>\n",
       "      <td>67535.537710</td>\n",
       "      <td>58303.457136</td>\n",
       "      <td>0.0</td>\n",
       "      <td>42000.00</td>\n",
       "      <td>59000.0</td>\n",
       "      <td>80000.0</td>\n",
       "      <td>8706582.0</td>\n",
       "    </tr>\n",
       "    <tr>\n",
       "      <th>Fully Paid</th>\n",
       "      <td>318357.0</td>\n",
       "      <td>75829.951566</td>\n",
       "      <td>62315.991907</td>\n",
       "      <td>600.0</td>\n",
       "      <td>46050.53</td>\n",
       "      <td>65000.0</td>\n",
       "      <td>90000.0</td>\n",
       "      <td>7600000.0</td>\n",
       "    </tr>\n",
       "  </tbody>\n",
       "</table>\n",
       "</div>"
      ],
      "text/plain": [
       "                count          mean           std    min       25%      50%  \\\n",
       "loan_status                                                                   \n",
       "Charged Off   77673.0  67535.537710  58303.457136    0.0  42000.00  59000.0   \n",
       "Fully Paid   318357.0  75829.951566  62315.991907  600.0  46050.53  65000.0   \n",
       "\n",
       "                 75%        max  \n",
       "loan_status                      \n",
       "Charged Off  80000.0  8706582.0  \n",
       "Fully Paid   90000.0  7600000.0  "
      ]
     },
     "execution_count": 879,
     "metadata": {},
     "output_type": "execute_result"
    }
   ],
   "source": [
    "#loan_status vs Annual income\n",
    "\n",
    "df.groupby(by='loan_status')['annual_inc'].describe()"
   ]
  },
  {
   "cell_type": "markdown",
   "id": "aa1597a3",
   "metadata": {},
   "source": [
    "* Annual income for defaulters are lower than non defaulters\n",
    "* Distribution is right tailed"
   ]
  },
  {
   "cell_type": "code",
   "execution_count": 861,
   "id": "87ee5e80",
   "metadata": {
    "colab": {
     "base_uri": "https://localhost:8080/"
    },
    "id": "e1hNNNJJr0Dk",
    "outputId": "b3413f27-da53-4123-f978-3e64915783ab",
    "scrolled": true
   },
   "outputs": [
    {
     "data": {
      "text/plain": [
       "MORTGAGE    198348\n",
       "RENT        159790\n",
       "OWN          37746\n",
       "OTHER          112\n",
       "NONE            31\n",
       "ANY              3\n",
       "Name: home_ownership, dtype: int64"
      ]
     },
     "execution_count": 861,
     "metadata": {},
     "output_type": "execute_result"
    }
   ],
   "source": [
    "#Splitup of home ownership\n",
    "\n",
    "df['home_ownership'].value_counts()"
   ]
  },
  {
   "cell_type": "markdown",
   "id": "13847579",
   "metadata": {},
   "source": [
    "90% of people have home ownership as Mortgage and Rent"
   ]
  },
  {
   "cell_type": "code",
   "execution_count": 862,
   "id": "865a09da",
   "metadata": {
    "colab": {
     "base_uri": "https://localhost:8080/"
    },
    "id": "nSgRHIN-r0JH",
    "outputId": "700bb507-f06d-4690-cc34-819df144c4d2"
   },
   "outputs": [
    {
     "data": {
      "text/plain": [
       "MORTGAGE    198348\n",
       "RENT        159790\n",
       "OWN          37746\n",
       "OTHER          146\n",
       "Name: home_ownership, dtype: int64"
      ]
     },
     "execution_count": 862,
     "metadata": {},
     "output_type": "execute_result"
    }
   ],
   "source": [
    "df.loc[(df['home_ownership'] == 'ANY') | (df['home_ownership'] == 'NONE'),'home_ownership'] = 'OTHER'\n",
    "df['home_ownership'].value_counts()"
   ]
  },
  {
   "cell_type": "markdown",
   "id": "3914735d",
   "metadata": {},
   "source": [
    "Minority classes are combined under \"OTHER\" "
   ]
  },
  {
   "cell_type": "code",
   "execution_count": 863,
   "id": "a03be0f3",
   "metadata": {},
   "outputs": [],
   "source": [
    "#Drop the columns#\n",
    "\n",
    "df.drop(['emp_title', 'title'],inplace=True,axis=1)"
   ]
  },
  {
   "cell_type": "markdown",
   "id": "7c571220",
   "metadata": {},
   "source": [
    "'emp_title', 'title columns are dropped from analysis since there are 50k + unique values in the columns and it is not adding much value "
   ]
  },
  {
   "cell_type": "code",
   "execution_count": 864,
   "id": "06d5a0a6",
   "metadata": {},
   "outputs": [],
   "source": [
    "#Extract zip code from address and delete address column\n",
    "\n",
    "df['zip']=df['address'].apply(lambda x:x[-5:])\n",
    "df.drop('address',inplace=True,axis=1)"
   ]
  },
  {
   "cell_type": "code",
   "execution_count": 865,
   "id": "591cf063",
   "metadata": {},
   "outputs": [
    {
     "data": {
      "image/png": "[encoded data removed]",
      "text/plain": [
       "<Figure size 1500x1000 with 2 Axes>"
      ]
     },
     "metadata": {},
     "output_type": "display_data"
    }
   ],
   "source": [
    "# Grade / sub grade vs loan_status\n",
    "\n",
    "plt.figure(figsize=(15, 10))\n",
    "\n",
    "plt.subplot(2, 2, 1)\n",
    "grade = sorted(df['grade'].unique().tolist())\n",
    "sns.countplot(x='grade', data=df, hue='loan_status', order=grade)\n",
    "\n",
    "plt.subplot(2, 2, 2)\n",
    "sub_grade = sorted(df['sub_grade'].unique().tolist())\n",
    "g = sns.countplot(x='sub_grade', data=df, hue='loan_status', order=sub_grade)\n",
    "g.set_xticklabels(g.get_xticklabels(), rotation=90);"
   ]
  },
  {
   "cell_type": "markdown",
   "id": "c250f95f",
   "metadata": {},
   "source": [
    "People under 'B' grade and 'B3' sub grade has higher chance of paying back the loan"
   ]
  },
  {
   "cell_type": "code",
   "execution_count": 866,
   "id": "eea327a9",
   "metadata": {},
   "outputs": [
    {
     "data": {
      "image/png": "[encoded data removed]",
      "text/plain": [
       "<Figure size 1500x2000 with 4 Axes>"
      ]
     },
     "metadata": {},
     "output_type": "display_data"
    }
   ],
   "source": [
    "# term / home ownership / verification status / purpose vs loan_status\n",
    "\n",
    "plt.figure(figsize=(15, 20))\n",
    "\n",
    "plt.subplot(4, 2, 1)\n",
    "sns.countplot(x='term', data=df, hue='loan_status')\n",
    "\n",
    "plt.subplot(4, 2, 2)\n",
    "sns.countplot(x='home_ownership', data=df, hue='loan_status')\n",
    "\n",
    "plt.subplot(4, 2, 3)\n",
    "sns.countplot(x='verification_status', data=df, hue='loan_status')\n",
    "\n",
    "plt.subplot(4, 2, 4)\n",
    "g = sns.countplot(x='purpose', data=df, hue='loan_status')\n",
    "g.set_xticklabels(g.get_xticklabels(), rotation=90);"
   ]
  },
  {
   "cell_type": "markdown",
   "id": "c5c2b1da",
   "metadata": {},
   "source": [
    "People with '36 month loan term', home ownership of 'Mortgage' or 'Rent' , purpose of 'debt consolidation' or 'credit cards' has higher chance of paying pack the loan"
   ]
  },
  {
   "cell_type": "code",
   "execution_count": 867,
   "id": "58e40dad",
   "metadata": {},
   "outputs": [
    {
     "data": {
      "image/png": "[encoded data removed]",
      "text/plain": [
       "<Figure size 1500x1200 with 1 Axes>"
      ]
     },
     "metadata": {},
     "output_type": "display_data"
    }
   ],
   "source": [
    "# Emp_length vs loan_status\n",
    "\n",
    "plt.figure(figsize=(15, 12))\n",
    "\n",
    "order = ['< 1 year', '1 year', '2 years', '3 years', '4 years', '5 years',\n",
    "          '6 years', '7 years', '8 years', '9 years', '10+ years',]\n",
    "g = sns.countplot(x='emp_length', data=df, hue='loan_status', order=order)\n",
    "g.set_xticklabels(g.get_xticklabels(), rotation=90);\n",
    "\n"
   ]
  },
  {
   "cell_type": "markdown",
   "id": "ff661763",
   "metadata": {},
   "source": [
    "People with 10+ years of work experience have higher chance of paying back the loan"
   ]
  },
  {
   "cell_type": "markdown",
   "id": "67b68b94",
   "metadata": {},
   "source": [
    "### DATA PREPROCESSING"
   ]
  },
  {
   "cell_type": "markdown",
   "id": "3f91a536",
   "metadata": {},
   "source": [
    "**Update loan_status column**"
   ]
  },
  {
   "cell_type": "code",
   "execution_count": 628,
   "id": "bd2ebb97",
   "metadata": {},
   "outputs": [
    {
     "data": {
      "text/plain": [
       "Fully Paid     318357\n",
       "Charged Off     77673\n",
       "Name: loan_status, dtype: int64"
      ]
     },
     "execution_count": 628,
     "metadata": {},
     "output_type": "execute_result"
    }
   ],
   "source": [
    "df['loan_status'].value_counts()"
   ]
  },
  {
   "cell_type": "code",
   "execution_count": 629,
   "id": "eee08b63",
   "metadata": {},
   "outputs": [],
   "source": [
    "#Encode loan_status column as per the dictionary{'Fully Paid':0,'Charged Off':1}#\n",
    "\n",
    "df['loan_status']=df['loan_status'].map({'Fully Paid':0,'Charged Off':1})\n",
    "\n",
    "#Update data type of loan_status column to integer type#\n",
    "\n",
    "df['loan_status']=df['loan_status'].astype('int64')"
   ]
  },
  {
   "cell_type": "markdown",
   "id": "38984772",
   "metadata": {},
   "source": [
    "**Update term column**"
   ]
  },
  {
   "cell_type": "code",
   "execution_count": 630,
   "id": "93c36c29",
   "metadata": {},
   "outputs": [
    {
     "data": {
      "text/plain": [
       " 36 months    302005\n",
       " 60 months     94025\n",
       "Name: term, dtype: int64"
      ]
     },
     "execution_count": 630,
     "metadata": {},
     "output_type": "execute_result"
    }
   ],
   "source": [
    "df['term'].value_counts()"
   ]
  },
  {
   "cell_type": "code",
   "execution_count": 631,
   "id": "c41bc5fe",
   "metadata": {},
   "outputs": [
    {
     "data": {
      "text/html": [
       "<div>\n",
       "<style scoped>\n",
       "    .dataframe tbody tr th:only-of-type {\n",
       "        vertical-align: middle;\n",
       "    }\n",
       "\n",
       "    .dataframe tbody tr th {\n",
       "        vertical-align: top;\n",
       "    }\n",
       "\n",
       "    .dataframe thead th {\n",
       "        text-align: right;\n",
       "    }\n",
       "</style>\n",
       "<table border=\"1\" class=\"dataframe\">\n",
       "  <thead>\n",
       "    <tr style=\"text-align: right;\">\n",
       "      <th>loan_status</th>\n",
       "      <th>0</th>\n",
       "      <th>1</th>\n",
       "    </tr>\n",
       "    <tr>\n",
       "      <th>term</th>\n",
       "      <th></th>\n",
       "      <th></th>\n",
       "    </tr>\n",
       "  </thead>\n",
       "  <tbody>\n",
       "    <tr>\n",
       "      <th>36 months</th>\n",
       "      <td>254365</td>\n",
       "      <td>47640</td>\n",
       "    </tr>\n",
       "    <tr>\n",
       "      <th>60 months</th>\n",
       "      <td>63992</td>\n",
       "      <td>30033</td>\n",
       "    </tr>\n",
       "  </tbody>\n",
       "</table>\n",
       "</div>"
      ],
      "text/plain": [
       "loan_status       0      1\n",
       "term                      \n",
       " 36 months   254365  47640\n",
       " 60 months    63992  30033"
      ]
     },
     "execution_count": 631,
     "metadata": {},
     "output_type": "execute_result"
    }
   ],
   "source": [
    "#crosstab for hypothesis testing ( Chisquare )\n",
    "\n",
    "a=pd.crosstab(index=df['term'],columns=df['loan_status'])\n",
    "a"
   ]
  },
  {
   "cell_type": "code",
   "execution_count": 632,
   "id": "c3523a2b",
   "metadata": {},
   "outputs": [
    {
     "name": "stdout",
     "output_type": "stream",
     "text": [
      "The feature is significant\n",
      "0.0\n"
     ]
    }
   ],
   "source": [
    "#Chisquare test\n",
    "\n",
    "chi_stat,p_val,dof,expected_val=chi2_contingency(a)\n",
    "\n",
    "if p_val<0.05:\n",
    "    print('The feature is significant')\n",
    "    print(p_val)\n",
    "else:\n",
    "    print('The feature is not significant')\n",
    "    print(p_val)"
   ]
  },
  {
   "cell_type": "code",
   "execution_count": 633,
   "id": "cfdd530a",
   "metadata": {},
   "outputs": [],
   "source": [
    "#Perform onehotencoding\n",
    "\n",
    "df = pd.get_dummies(df, columns=['term'], drop_first=True)"
   ]
  },
  {
   "cell_type": "markdown",
   "id": "3ce619e2",
   "metadata": {},
   "source": [
    "**Update grade column**"
   ]
  },
  {
   "cell_type": "code",
   "execution_count": 634,
   "id": "4c26118a",
   "metadata": {},
   "outputs": [
    {
     "data": {
      "text/plain": [
       "B    116018\n",
       "C    105987\n",
       "A     64187\n",
       "D     63524\n",
       "E     31488\n",
       "F     11772\n",
       "G      3054\n",
       "Name: grade, dtype: int64"
      ]
     },
     "execution_count": 634,
     "metadata": {},
     "output_type": "execute_result"
    }
   ],
   "source": [
    "df['grade'].value_counts()"
   ]
  },
  {
   "cell_type": "code",
   "execution_count": 635,
   "id": "382a1bc1",
   "metadata": {},
   "outputs": [
    {
     "data": {
      "text/html": [
       "<div>\n",
       "<style scoped>\n",
       "    .dataframe tbody tr th:only-of-type {\n",
       "        vertical-align: middle;\n",
       "    }\n",
       "\n",
       "    .dataframe tbody tr th {\n",
       "        vertical-align: top;\n",
       "    }\n",
       "\n",
       "    .dataframe thead th {\n",
       "        text-align: right;\n",
       "    }\n",
       "</style>\n",
       "<table border=\"1\" class=\"dataframe\">\n",
       "  <thead>\n",
       "    <tr style=\"text-align: right;\">\n",
       "      <th>loan_status</th>\n",
       "      <th>0</th>\n",
       "      <th>1</th>\n",
       "    </tr>\n",
       "    <tr>\n",
       "      <th>grade</th>\n",
       "      <th></th>\n",
       "      <th></th>\n",
       "    </tr>\n",
       "  </thead>\n",
       "  <tbody>\n",
       "    <tr>\n",
       "      <th>A</th>\n",
       "      <td>60151</td>\n",
       "      <td>4036</td>\n",
       "    </tr>\n",
       "    <tr>\n",
       "      <th>B</th>\n",
       "      <td>101431</td>\n",
       "      <td>14587</td>\n",
       "    </tr>\n",
       "    <tr>\n",
       "      <th>C</th>\n",
       "      <td>83538</td>\n",
       "      <td>22449</td>\n",
       "    </tr>\n",
       "    <tr>\n",
       "      <th>D</th>\n",
       "      <td>45186</td>\n",
       "      <td>18338</td>\n",
       "    </tr>\n",
       "    <tr>\n",
       "      <th>E</th>\n",
       "      <td>19723</td>\n",
       "      <td>11765</td>\n",
       "    </tr>\n",
       "    <tr>\n",
       "      <th>F</th>\n",
       "      <td>6735</td>\n",
       "      <td>5037</td>\n",
       "    </tr>\n",
       "    <tr>\n",
       "      <th>G</th>\n",
       "      <td>1593</td>\n",
       "      <td>1461</td>\n",
       "    </tr>\n",
       "  </tbody>\n",
       "</table>\n",
       "</div>"
      ],
      "text/plain": [
       "loan_status       0      1\n",
       "grade                     \n",
       "A             60151   4036\n",
       "B            101431  14587\n",
       "C             83538  22449\n",
       "D             45186  18338\n",
       "E             19723  11765\n",
       "F              6735   5037\n",
       "G              1593   1461"
      ]
     },
     "execution_count": 635,
     "metadata": {},
     "output_type": "execute_result"
    }
   ],
   "source": [
    "#crosstab for hypothesis testing ( Chisquare )\n",
    "\n",
    "b=pd.crosstab(index=df['grade'],columns=df['loan_status'])\n",
    "b"
   ]
  },
  {
   "cell_type": "code",
   "execution_count": 636,
   "id": "c6e4ee08",
   "metadata": {},
   "outputs": [
    {
     "name": "stdout",
     "output_type": "stream",
     "text": [
      "The feature is significant\n",
      "0.0\n"
     ]
    }
   ],
   "source": [
    "#Chisquare test\n",
    "\n",
    "chi_stat,p_val,dof,expected_val=chi2_contingency(b)\n",
    "\n",
    "if p_val<0.05:\n",
    "    print('The feature is significant')\n",
    "    print(p_val)\n",
    "else:\n",
    "    print('The feature is not significant')\n",
    "    print(p_val)"
   ]
  },
  {
   "cell_type": "code",
   "execution_count": 637,
   "id": "d4ceb2f1",
   "metadata": {},
   "outputs": [],
   "source": [
    "#Perform target encoding\n",
    "\n",
    "te=TargetEncoder()\n",
    "df['grade']=te.fit_transform(df['grade'],df['loan_status'])"
   ]
  },
  {
   "cell_type": "markdown",
   "id": "d27fa708",
   "metadata": {},
   "source": [
    "**Update sub_grade column**"
   ]
  },
  {
   "cell_type": "code",
   "execution_count": 638,
   "id": "96d33ccf",
   "metadata": {
    "scrolled": true
   },
   "outputs": [
    {
     "data": {
      "text/plain": [
       "B3    26655\n",
       "B4    25601\n",
       "C1    23662\n",
       "C2    22580\n",
       "B2    22495\n",
       "B5    22085\n",
       "C3    21221\n",
       "C4    20280\n",
       "B1    19182\n",
       "A5    18526\n",
       "C5    18244\n",
       "D1    15993\n",
       "A4    15789\n",
       "D2    13951\n",
       "D3    12223\n",
       "D4    11657\n",
       "A3    10576\n",
       "A1     9729\n",
       "D5     9700\n",
       "A2     9567\n",
       "E1     7917\n",
       "E2     7431\n",
       "E3     6207\n",
       "E4     5361\n",
       "E5     4572\n",
       "F1     3536\n",
       "F2     2766\n",
       "F3     2286\n",
       "F4     1787\n",
       "F5     1397\n",
       "G1     1058\n",
       "G2      754\n",
       "G3      552\n",
       "G4      374\n",
       "G5      316\n",
       "Name: sub_grade, dtype: int64"
      ]
     },
     "execution_count": 638,
     "metadata": {},
     "output_type": "execute_result"
    }
   ],
   "source": [
    "df['sub_grade'].value_counts()"
   ]
  },
  {
   "cell_type": "code",
   "execution_count": 639,
   "id": "9ecfeea4",
   "metadata": {
    "scrolled": true
   },
   "outputs": [
    {
     "data": {
      "text/html": [
       "<div>\n",
       "<style scoped>\n",
       "    .dataframe tbody tr th:only-of-type {\n",
       "        vertical-align: middle;\n",
       "    }\n",
       "\n",
       "    .dataframe tbody tr th {\n",
       "        vertical-align: top;\n",
       "    }\n",
       "\n",
       "    .dataframe thead th {\n",
       "        text-align: right;\n",
       "    }\n",
       "</style>\n",
       "<table border=\"1\" class=\"dataframe\">\n",
       "  <thead>\n",
       "    <tr style=\"text-align: right;\">\n",
       "      <th>loan_status</th>\n",
       "      <th>0</th>\n",
       "      <th>1</th>\n",
       "    </tr>\n",
       "    <tr>\n",
       "      <th>sub_grade</th>\n",
       "      <th></th>\n",
       "      <th></th>\n",
       "    </tr>\n",
       "  </thead>\n",
       "  <tbody>\n",
       "    <tr>\n",
       "      <th>A1</th>\n",
       "      <td>9450</td>\n",
       "      <td>279</td>\n",
       "    </tr>\n",
       "    <tr>\n",
       "      <th>A2</th>\n",
       "      <td>9106</td>\n",
       "      <td>461</td>\n",
       "    </tr>\n",
       "    <tr>\n",
       "      <th>A3</th>\n",
       "      <td>9962</td>\n",
       "      <td>614</td>\n",
       "    </tr>\n",
       "    <tr>\n",
       "      <th>A4</th>\n",
       "      <td>14680</td>\n",
       "      <td>1109</td>\n",
       "    </tr>\n",
       "    <tr>\n",
       "      <th>A5</th>\n",
       "      <td>16953</td>\n",
       "      <td>1573</td>\n",
       "    </tr>\n",
       "    <tr>\n",
       "      <th>B1</th>\n",
       "      <td>17291</td>\n",
       "      <td>1891</td>\n",
       "    </tr>\n",
       "    <tr>\n",
       "      <th>B2</th>\n",
       "      <td>20054</td>\n",
       "      <td>2441</td>\n",
       "    </tr>\n",
       "    <tr>\n",
       "      <th>B3</th>\n",
       "      <td>23367</td>\n",
       "      <td>3288</td>\n",
       "    </tr>\n",
       "    <tr>\n",
       "      <th>B4</th>\n",
       "      <td>22058</td>\n",
       "      <td>3543</td>\n",
       "    </tr>\n",
       "    <tr>\n",
       "      <th>B5</th>\n",
       "      <td>18661</td>\n",
       "      <td>3424</td>\n",
       "    </tr>\n",
       "    <tr>\n",
       "      <th>C1</th>\n",
       "      <td>19552</td>\n",
       "      <td>4110</td>\n",
       "    </tr>\n",
       "    <tr>\n",
       "      <th>C2</th>\n",
       "      <td>18120</td>\n",
       "      <td>4460</td>\n",
       "    </tr>\n",
       "    <tr>\n",
       "      <th>C3</th>\n",
       "      <td>16586</td>\n",
       "      <td>4635</td>\n",
       "    </tr>\n",
       "    <tr>\n",
       "      <th>C4</th>\n",
       "      <td>15507</td>\n",
       "      <td>4773</td>\n",
       "    </tr>\n",
       "    <tr>\n",
       "      <th>C5</th>\n",
       "      <td>13773</td>\n",
       "      <td>4471</td>\n",
       "    </tr>\n",
       "    <tr>\n",
       "      <th>D1</th>\n",
       "      <td>11774</td>\n",
       "      <td>4219</td>\n",
       "    </tr>\n",
       "    <tr>\n",
       "      <th>D2</th>\n",
       "      <td>10040</td>\n",
       "      <td>3911</td>\n",
       "    </tr>\n",
       "    <tr>\n",
       "      <th>D3</th>\n",
       "      <td>8749</td>\n",
       "      <td>3474</td>\n",
       "    </tr>\n",
       "    <tr>\n",
       "      <th>D4</th>\n",
       "      <td>8028</td>\n",
       "      <td>3629</td>\n",
       "    </tr>\n",
       "    <tr>\n",
       "      <th>D5</th>\n",
       "      <td>6595</td>\n",
       "      <td>3105</td>\n",
       "    </tr>\n",
       "    <tr>\n",
       "      <th>E1</th>\n",
       "      <td>5193</td>\n",
       "      <td>2724</td>\n",
       "    </tr>\n",
       "    <tr>\n",
       "      <th>E2</th>\n",
       "      <td>4701</td>\n",
       "      <td>2730</td>\n",
       "    </tr>\n",
       "    <tr>\n",
       "      <th>E3</th>\n",
       "      <td>3846</td>\n",
       "      <td>2361</td>\n",
       "    </tr>\n",
       "    <tr>\n",
       "      <th>E4</th>\n",
       "      <td>3254</td>\n",
       "      <td>2107</td>\n",
       "    </tr>\n",
       "    <tr>\n",
       "      <th>E5</th>\n",
       "      <td>2729</td>\n",
       "      <td>1843</td>\n",
       "    </tr>\n",
       "    <tr>\n",
       "      <th>F1</th>\n",
       "      <td>2166</td>\n",
       "      <td>1370</td>\n",
       "    </tr>\n",
       "    <tr>\n",
       "      <th>F2</th>\n",
       "      <td>1591</td>\n",
       "      <td>1175</td>\n",
       "    </tr>\n",
       "    <tr>\n",
       "      <th>F3</th>\n",
       "      <td>1289</td>\n",
       "      <td>997</td>\n",
       "    </tr>\n",
       "    <tr>\n",
       "      <th>F4</th>\n",
       "      <td>972</td>\n",
       "      <td>815</td>\n",
       "    </tr>\n",
       "    <tr>\n",
       "      <th>F5</th>\n",
       "      <td>717</td>\n",
       "      <td>680</td>\n",
       "    </tr>\n",
       "    <tr>\n",
       "      <th>G1</th>\n",
       "      <td>570</td>\n",
       "      <td>488</td>\n",
       "    </tr>\n",
       "    <tr>\n",
       "      <th>G2</th>\n",
       "      <td>390</td>\n",
       "      <td>364</td>\n",
       "    </tr>\n",
       "    <tr>\n",
       "      <th>G3</th>\n",
       "      <td>270</td>\n",
       "      <td>282</td>\n",
       "    </tr>\n",
       "    <tr>\n",
       "      <th>G4</th>\n",
       "      <td>206</td>\n",
       "      <td>168</td>\n",
       "    </tr>\n",
       "    <tr>\n",
       "      <th>G5</th>\n",
       "      <td>157</td>\n",
       "      <td>159</td>\n",
       "    </tr>\n",
       "  </tbody>\n",
       "</table>\n",
       "</div>"
      ],
      "text/plain": [
       "loan_status      0     1\n",
       "sub_grade               \n",
       "A1            9450   279\n",
       "A2            9106   461\n",
       "A3            9962   614\n",
       "A4           14680  1109\n",
       "A5           16953  1573\n",
       "B1           17291  1891\n",
       "B2           20054  2441\n",
       "B3           23367  3288\n",
       "B4           22058  3543\n",
       "B5           18661  3424\n",
       "C1           19552  4110\n",
       "C2           18120  4460\n",
       "C3           16586  4635\n",
       "C4           15507  4773\n",
       "C5           13773  4471\n",
       "D1           11774  4219\n",
       "D2           10040  3911\n",
       "D3            8749  3474\n",
       "D4            8028  3629\n",
       "D5            6595  3105\n",
       "E1            5193  2724\n",
       "E2            4701  2730\n",
       "E3            3846  2361\n",
       "E4            3254  2107\n",
       "E5            2729  1843\n",
       "F1            2166  1370\n",
       "F2            1591  1175\n",
       "F3            1289   997\n",
       "F4             972   815\n",
       "F5             717   680\n",
       "G1             570   488\n",
       "G2             390   364\n",
       "G3             270   282\n",
       "G4             206   168\n",
       "G5             157   159"
      ]
     },
     "execution_count": 639,
     "metadata": {},
     "output_type": "execute_result"
    }
   ],
   "source": [
    "#crosstab for hypothesis testing ( Chisquare )\n",
    "\n",
    "c=pd.crosstab(index=df['sub_grade'],columns=df['loan_status'])\n",
    "c"
   ]
  },
  {
   "cell_type": "code",
   "execution_count": 640,
   "id": "b0b1b438",
   "metadata": {},
   "outputs": [
    {
     "name": "stdout",
     "output_type": "stream",
     "text": [
      "The feature is significant\n",
      "0.0\n"
     ]
    }
   ],
   "source": [
    "#Chisquare test\n",
    "\n",
    "chi_stat,p_val,dof,expected_val=chi2_contingency(c)\n",
    "\n",
    "if p_val<0.05:\n",
    "    print('The feature is significant')\n",
    "    print(p_val)\n",
    "else:\n",
    "    print('The feature is not significant')\n",
    "    print(p_val)"
   ]
  },
  {
   "cell_type": "code",
   "execution_count": 641,
   "id": "f32f85b0",
   "metadata": {},
   "outputs": [],
   "source": [
    "#Perform target encoding\n",
    "\n",
    "te=TargetEncoder()\n",
    "df['sub_grade']=te.fit_transform(df['sub_grade'],df['loan_status'])"
   ]
  },
  {
   "cell_type": "markdown",
   "id": "b5c95bee",
   "metadata": {},
   "source": [
    "**Update emp_length column**"
   ]
  },
  {
   "cell_type": "code",
   "execution_count": 642,
   "id": "2bda16ba",
   "metadata": {},
   "outputs": [
    {
     "data": {
      "text/plain": [
       "10+ years    126041\n",
       "2 years       35827\n",
       "< 1 year      31725\n",
       "3 years       31665\n",
       "5 years       26495\n",
       "1 year        25882\n",
       "4 years       23952\n",
       "6 years       20841\n",
       "7 years       20819\n",
       "8 years       19168\n",
       "9 years       15314\n",
       "Name: emp_length, dtype: int64"
      ]
     },
     "execution_count": 642,
     "metadata": {},
     "output_type": "execute_result"
    }
   ],
   "source": [
    "df['emp_length'].value_counts()"
   ]
  },
  {
   "cell_type": "code",
   "execution_count": 643,
   "id": "c8593da7",
   "metadata": {
    "scrolled": true
   },
   "outputs": [
    {
     "data": {
      "text/html": [
       "<div>\n",
       "<style scoped>\n",
       "    .dataframe tbody tr th:only-of-type {\n",
       "        vertical-align: middle;\n",
       "    }\n",
       "\n",
       "    .dataframe tbody tr th {\n",
       "        vertical-align: top;\n",
       "    }\n",
       "\n",
       "    .dataframe thead th {\n",
       "        text-align: right;\n",
       "    }\n",
       "</style>\n",
       "<table border=\"1\" class=\"dataframe\">\n",
       "  <thead>\n",
       "    <tr style=\"text-align: right;\">\n",
       "      <th>loan_status</th>\n",
       "      <th>0</th>\n",
       "      <th>1</th>\n",
       "    </tr>\n",
       "    <tr>\n",
       "      <th>emp_length</th>\n",
       "      <th></th>\n",
       "      <th></th>\n",
       "    </tr>\n",
       "  </thead>\n",
       "  <tbody>\n",
       "    <tr>\n",
       "      <th>1 year</th>\n",
       "      <td>20728</td>\n",
       "      <td>5154</td>\n",
       "    </tr>\n",
       "    <tr>\n",
       "      <th>10+ years</th>\n",
       "      <td>102826</td>\n",
       "      <td>23215</td>\n",
       "    </tr>\n",
       "    <tr>\n",
       "      <th>2 years</th>\n",
       "      <td>28903</td>\n",
       "      <td>6924</td>\n",
       "    </tr>\n",
       "    <tr>\n",
       "      <th>3 years</th>\n",
       "      <td>25483</td>\n",
       "      <td>6182</td>\n",
       "    </tr>\n",
       "    <tr>\n",
       "      <th>4 years</th>\n",
       "      <td>19344</td>\n",
       "      <td>4608</td>\n",
       "    </tr>\n",
       "    <tr>\n",
       "      <th>5 years</th>\n",
       "      <td>21403</td>\n",
       "      <td>5092</td>\n",
       "    </tr>\n",
       "    <tr>\n",
       "      <th>6 years</th>\n",
       "      <td>16898</td>\n",
       "      <td>3943</td>\n",
       "    </tr>\n",
       "    <tr>\n",
       "      <th>7 years</th>\n",
       "      <td>16764</td>\n",
       "      <td>4055</td>\n",
       "    </tr>\n",
       "    <tr>\n",
       "      <th>8 years</th>\n",
       "      <td>15339</td>\n",
       "      <td>3829</td>\n",
       "    </tr>\n",
       "    <tr>\n",
       "      <th>9 years</th>\n",
       "      <td>12244</td>\n",
       "      <td>3070</td>\n",
       "    </tr>\n",
       "    <tr>\n",
       "      <th>&lt; 1 year</th>\n",
       "      <td>25162</td>\n",
       "      <td>6563</td>\n",
       "    </tr>\n",
       "  </tbody>\n",
       "</table>\n",
       "</div>"
      ],
      "text/plain": [
       "loan_status       0      1\n",
       "emp_length                \n",
       "1 year        20728   5154\n",
       "10+ years    102826  23215\n",
       "2 years       28903   6924\n",
       "3 years       25483   6182\n",
       "4 years       19344   4608\n",
       "5 years       21403   5092\n",
       "6 years       16898   3943\n",
       "7 years       16764   4055\n",
       "8 years       15339   3829\n",
       "9 years       12244   3070\n",
       "< 1 year      25162   6563"
      ]
     },
     "execution_count": 643,
     "metadata": {},
     "output_type": "execute_result"
    }
   ],
   "source": [
    "#crosstab for hypothesis testing ( Chisquare )\n",
    "\n",
    "d=pd.crosstab(index=df['emp_length'],columns=df['loan_status'])\n",
    "d"
   ]
  },
  {
   "cell_type": "code",
   "execution_count": 644,
   "id": "a1204ac6",
   "metadata": {},
   "outputs": [
    {
     "name": "stdout",
     "output_type": "stream",
     "text": [
      "The feature is significant\n",
      "1.88404995201913e-21\n"
     ]
    }
   ],
   "source": [
    "#Chisquare test\n",
    "\n",
    "chi_stat,p_val,dof,expected_val=chi2_contingency(d)\n",
    "\n",
    "if p_val<0.05:\n",
    "    print('The feature is significant')\n",
    "    print(p_val)\n",
    "else:\n",
    "    print('The feature is not significant')\n",
    "    print(p_val)"
   ]
  },
  {
   "cell_type": "code",
   "execution_count": 645,
   "id": "ac89f5af",
   "metadata": {},
   "outputs": [],
   "source": [
    "#Update emp_length column ( ex : 10+ years ----> 10 years, < 1 year----> 1 years )#\n",
    "\n",
    "df['emp_length'].replace('10+ years','10 years',inplace=True)\n",
    "df['emp_length'].replace('< 1 year','0 years',inplace=True)\n",
    "\n",
    "#Update emp_length column ( ex : 2 years ----> 2 )#\n",
    "\n",
    "df['emp_length'][df['emp_length'].isna()==False]=df['emp_length'][df['emp_length'].isna()==False].apply(lambda x:x.split()[0])\n",
    "\n",
    "#Update data type of emp_length column to integer type#\n",
    "\n",
    "df['emp_length'][df['emp_length'].isna()==False]=df['emp_length'][df['emp_length'].isna()==False].astype('float64')\n",
    "\n",
    "df['emp_length']=df['emp_length'].apply(lambda x:x)"
   ]
  },
  {
   "cell_type": "code",
   "execution_count": 646,
   "id": "dacb1343",
   "metadata": {
    "scrolled": true
   },
   "outputs": [
    {
     "data": {
      "text/plain": [
       "10.0    126041\n",
       "2.0      35827\n",
       "0.0      31725\n",
       "3.0      31665\n",
       "5.0      26495\n",
       "1.0      25882\n",
       "4.0      23952\n",
       "6.0      20841\n",
       "7.0      20819\n",
       "8.0      19168\n",
       "9.0      15314\n",
       "Name: emp_length, dtype: int64"
      ]
     },
     "execution_count": 646,
     "metadata": {},
     "output_type": "execute_result"
    }
   ],
   "source": [
    "df['emp_length'].value_counts()"
   ]
  },
  {
   "cell_type": "code",
   "execution_count": 647,
   "id": "8c7800c4",
   "metadata": {},
   "outputs": [
    {
     "name": "stdout",
     "output_type": "stream",
     "text": [
      "Warning: No categorical columns found. Calling 'transform' will only return input data.\n"
     ]
    }
   ],
   "source": [
    "#Perform target encoding\n",
    "\n",
    "te=TargetEncoder()\n",
    "df['emp_length']=te.fit_transform(df['emp_length'],df['loan_status'])"
   ]
  },
  {
   "cell_type": "markdown",
   "id": "68602fc5",
   "metadata": {},
   "source": [
    "**Update home_ownership column**"
   ]
  },
  {
   "cell_type": "code",
   "execution_count": 648,
   "id": "b19d067d",
   "metadata": {},
   "outputs": [
    {
     "data": {
      "text/plain": [
       "MORTGAGE    198348\n",
       "RENT        159790\n",
       "OWN          37746\n",
       "OTHER          146\n",
       "Name: home_ownership, dtype: int64"
      ]
     },
     "execution_count": 648,
     "metadata": {},
     "output_type": "execute_result"
    }
   ],
   "source": [
    "df['home_ownership'].value_counts()"
   ]
  },
  {
   "cell_type": "code",
   "execution_count": 649,
   "id": "1e6a97c8",
   "metadata": {
    "scrolled": true
   },
   "outputs": [
    {
     "data": {
      "text/html": [
       "<div>\n",
       "<style scoped>\n",
       "    .dataframe tbody tr th:only-of-type {\n",
       "        vertical-align: middle;\n",
       "    }\n",
       "\n",
       "    .dataframe tbody tr th {\n",
       "        vertical-align: top;\n",
       "    }\n",
       "\n",
       "    .dataframe thead th {\n",
       "        text-align: right;\n",
       "    }\n",
       "</style>\n",
       "<table border=\"1\" class=\"dataframe\">\n",
       "  <thead>\n",
       "    <tr style=\"text-align: right;\">\n",
       "      <th>loan_status</th>\n",
       "      <th>0</th>\n",
       "      <th>1</th>\n",
       "    </tr>\n",
       "    <tr>\n",
       "      <th>home_ownership</th>\n",
       "      <th></th>\n",
       "      <th></th>\n",
       "    </tr>\n",
       "  </thead>\n",
       "  <tbody>\n",
       "    <tr>\n",
       "      <th>MORTGAGE</th>\n",
       "      <td>164716</td>\n",
       "      <td>33632</td>\n",
       "    </tr>\n",
       "    <tr>\n",
       "      <th>OTHER</th>\n",
       "      <td>123</td>\n",
       "      <td>23</td>\n",
       "    </tr>\n",
       "    <tr>\n",
       "      <th>OWN</th>\n",
       "      <td>29940</td>\n",
       "      <td>7806</td>\n",
       "    </tr>\n",
       "    <tr>\n",
       "      <th>RENT</th>\n",
       "      <td>123578</td>\n",
       "      <td>36212</td>\n",
       "    </tr>\n",
       "  </tbody>\n",
       "</table>\n",
       "</div>"
      ],
      "text/plain": [
       "loan_status          0      1\n",
       "home_ownership               \n",
       "MORTGAGE        164716  33632\n",
       "OTHER              123     23\n",
       "OWN              29940   7806\n",
       "RENT            123578  36212"
      ]
     },
     "execution_count": 649,
     "metadata": {},
     "output_type": "execute_result"
    }
   ],
   "source": [
    "#crosstab for hypothesis testing ( Chisquare )\n",
    "\n",
    "e=pd.crosstab(index=df['home_ownership'],columns=df['loan_status'])\n",
    "e"
   ]
  },
  {
   "cell_type": "code",
   "execution_count": 650,
   "id": "a9a00421",
   "metadata": {},
   "outputs": [
    {
     "name": "stdout",
     "output_type": "stream",
     "text": [
      "The feature is significant\n",
      "0.0\n"
     ]
    }
   ],
   "source": [
    "#Chisquare test\n",
    "\n",
    "chi_stat,p_val,dof,expected_val=chi2_contingency(e)\n",
    "\n",
    "if p_val<0.05:\n",
    "    print('The feature is significant')\n",
    "    print(p_val)\n",
    "else:\n",
    "    print('The feature is not significant')\n",
    "    print(p_val)"
   ]
  },
  {
   "cell_type": "code",
   "execution_count": 651,
   "id": "fc7202b6",
   "metadata": {
    "scrolled": true
   },
   "outputs": [],
   "source": [
    "#Perform onehotencoding\n",
    "\n",
    "df = pd.get_dummies(df, columns=['home_ownership'], drop_first=True)"
   ]
  },
  {
   "cell_type": "markdown",
   "id": "18875e4b",
   "metadata": {},
   "source": [
    "**Update verification_status column**"
   ]
  },
  {
   "cell_type": "code",
   "execution_count": 652,
   "id": "854b835c",
   "metadata": {},
   "outputs": [
    {
     "data": {
      "text/plain": [
       "Verified           139563\n",
       "Source Verified    131385\n",
       "Not Verified       125082\n",
       "Name: verification_status, dtype: int64"
      ]
     },
     "execution_count": 652,
     "metadata": {},
     "output_type": "execute_result"
    }
   ],
   "source": [
    "df['verification_status'].value_counts()"
   ]
  },
  {
   "cell_type": "code",
   "execution_count": 653,
   "id": "3fca4dc9",
   "metadata": {
    "scrolled": true
   },
   "outputs": [
    {
     "data": {
      "text/html": [
       "<div>\n",
       "<style scoped>\n",
       "    .dataframe tbody tr th:only-of-type {\n",
       "        vertical-align: middle;\n",
       "    }\n",
       "\n",
       "    .dataframe tbody tr th {\n",
       "        vertical-align: top;\n",
       "    }\n",
       "\n",
       "    .dataframe thead th {\n",
       "        text-align: right;\n",
       "    }\n",
       "</style>\n",
       "<table border=\"1\" class=\"dataframe\">\n",
       "  <thead>\n",
       "    <tr style=\"text-align: right;\">\n",
       "      <th>loan_status</th>\n",
       "      <th>0</th>\n",
       "      <th>1</th>\n",
       "    </tr>\n",
       "    <tr>\n",
       "      <th>verification_status</th>\n",
       "      <th></th>\n",
       "      <th></th>\n",
       "    </tr>\n",
       "  </thead>\n",
       "  <tbody>\n",
       "    <tr>\n",
       "      <th>Not Verified</th>\n",
       "      <td>106775</td>\n",
       "      <td>18307</td>\n",
       "    </tr>\n",
       "    <tr>\n",
       "      <th>Source Verified</th>\n",
       "      <td>103171</td>\n",
       "      <td>28214</td>\n",
       "    </tr>\n",
       "    <tr>\n",
       "      <th>Verified</th>\n",
       "      <td>108411</td>\n",
       "      <td>31152</td>\n",
       "    </tr>\n",
       "  </tbody>\n",
       "</table>\n",
       "</div>"
      ],
      "text/plain": [
       "loan_status               0      1\n",
       "verification_status               \n",
       "Not Verified         106775  18307\n",
       "Source Verified      103171  28214\n",
       "Verified             108411  31152"
      ]
     },
     "execution_count": 653,
     "metadata": {},
     "output_type": "execute_result"
    }
   ],
   "source": [
    "#crosstab for hypothesis testing ( Chisquare )\n",
    "\n",
    "f=pd.crosstab(index=df['verification_status'],columns=df['loan_status'])\n",
    "f"
   ]
  },
  {
   "cell_type": "code",
   "execution_count": 654,
   "id": "90c06fbf",
   "metadata": {},
   "outputs": [
    {
     "name": "stdout",
     "output_type": "stream",
     "text": [
      "The feature is significant\n",
      "0.0\n"
     ]
    }
   ],
   "source": [
    "#Chisquare test\n",
    "\n",
    "chi_stat,p_val,dof,expected_val=chi2_contingency(f)\n",
    "\n",
    "if p_val<0.05:\n",
    "    print('The feature is significant')\n",
    "    print(p_val)\n",
    "else:\n",
    "    print('The feature is not significant')\n",
    "    print(p_val)"
   ]
  },
  {
   "cell_type": "code",
   "execution_count": 655,
   "id": "ad69f5e3",
   "metadata": {},
   "outputs": [],
   "source": [
    "#Perform onehotencoding\n",
    "\n",
    "df = pd.get_dummies(df, columns=['verification_status'], drop_first=True)"
   ]
  },
  {
   "cell_type": "markdown",
   "id": "e42d296d",
   "metadata": {},
   "source": [
    "**Update issue_d column**"
   ]
  },
  {
   "cell_type": "markdown",
   "id": "92458bbf",
   "metadata": {},
   "source": [
    "Since issue_d or loan issue date column will not make sense for new customers because the data on which the model will be trained will be the years in the past and it wont be present in the test data. so it will affect the accuracy of the model and hence it is removed from further analysis"
   ]
  },
  {
   "cell_type": "code",
   "execution_count": 656,
   "id": "1faf9c71",
   "metadata": {},
   "outputs": [
    {
     "data": {
      "text/plain": [
       "Oct-2014    14846\n",
       "Jul-2014    12609\n",
       "Jan-2015    11705\n",
       "Dec-2013    10618\n",
       "Nov-2013    10496\n",
       "            ...  \n",
       "Jul-2007       26\n",
       "Sep-2008       25\n",
       "Nov-2007       22\n",
       "Sep-2007       15\n",
       "Jun-2007        1\n",
       "Name: issue_d, Length: 115, dtype: int64"
      ]
     },
     "execution_count": 656,
     "metadata": {},
     "output_type": "execute_result"
    }
   ],
   "source": [
    "df['issue_d'].value_counts()"
   ]
  },
  {
   "cell_type": "code",
   "execution_count": 657,
   "id": "5d0fb0ed",
   "metadata": {},
   "outputs": [],
   "source": [
    "df.drop('issue_d',axis=1,inplace=True)"
   ]
  },
  {
   "cell_type": "markdown",
   "id": "10643e76",
   "metadata": {},
   "source": [
    "**Update purpose column**"
   ]
  },
  {
   "cell_type": "code",
   "execution_count": 658,
   "id": "d0e87fb5",
   "metadata": {},
   "outputs": [
    {
     "data": {
      "text/plain": [
       "debt_consolidation    234507\n",
       "credit_card            83019\n",
       "home_improvement       24030\n",
       "other                  21185\n",
       "major_purchase          8790\n",
       "small_business          5701\n",
       "car                     4697\n",
       "medical                 4196\n",
       "moving                  2854\n",
       "vacation                2452\n",
       "house                   2201\n",
       "wedding                 1812\n",
       "renewable_energy         329\n",
       "educational              257\n",
       "Name: purpose, dtype: int64"
      ]
     },
     "execution_count": 658,
     "metadata": {},
     "output_type": "execute_result"
    }
   ],
   "source": [
    "df['purpose'].value_counts()"
   ]
  },
  {
   "cell_type": "code",
   "execution_count": 659,
   "id": "83b1077d",
   "metadata": {
    "scrolled": true
   },
   "outputs": [
    {
     "data": {
      "text/html": [
       "<div>\n",
       "<style scoped>\n",
       "    .dataframe tbody tr th:only-of-type {\n",
       "        vertical-align: middle;\n",
       "    }\n",
       "\n",
       "    .dataframe tbody tr th {\n",
       "        vertical-align: top;\n",
       "    }\n",
       "\n",
       "    .dataframe thead th {\n",
       "        text-align: right;\n",
       "    }\n",
       "</style>\n",
       "<table border=\"1\" class=\"dataframe\">\n",
       "  <thead>\n",
       "    <tr style=\"text-align: right;\">\n",
       "      <th>loan_status</th>\n",
       "      <th>0</th>\n",
       "      <th>1</th>\n",
       "    </tr>\n",
       "    <tr>\n",
       "      <th>purpose</th>\n",
       "      <th></th>\n",
       "      <th></th>\n",
       "    </tr>\n",
       "  </thead>\n",
       "  <tbody>\n",
       "    <tr>\n",
       "      <th>car</th>\n",
       "      <td>4064</td>\n",
       "      <td>633</td>\n",
       "    </tr>\n",
       "    <tr>\n",
       "      <th>credit_card</th>\n",
       "      <td>69145</td>\n",
       "      <td>13874</td>\n",
       "    </tr>\n",
       "    <tr>\n",
       "      <th>debt_consolidation</th>\n",
       "      <td>185867</td>\n",
       "      <td>48640</td>\n",
       "    </tr>\n",
       "    <tr>\n",
       "      <th>educational</th>\n",
       "      <td>215</td>\n",
       "      <td>42</td>\n",
       "    </tr>\n",
       "    <tr>\n",
       "      <th>home_improvement</th>\n",
       "      <td>19943</td>\n",
       "      <td>4087</td>\n",
       "    </tr>\n",
       "    <tr>\n",
       "      <th>house</th>\n",
       "      <td>1767</td>\n",
       "      <td>434</td>\n",
       "    </tr>\n",
       "    <tr>\n",
       "      <th>major_purchase</th>\n",
       "      <td>7342</td>\n",
       "      <td>1448</td>\n",
       "    </tr>\n",
       "    <tr>\n",
       "      <th>medical</th>\n",
       "      <td>3285</td>\n",
       "      <td>911</td>\n",
       "    </tr>\n",
       "    <tr>\n",
       "      <th>moving</th>\n",
       "      <td>2184</td>\n",
       "      <td>670</td>\n",
       "    </tr>\n",
       "    <tr>\n",
       "      <th>other</th>\n",
       "      <td>16690</td>\n",
       "      <td>4495</td>\n",
       "    </tr>\n",
       "    <tr>\n",
       "      <th>renewable_energy</th>\n",
       "      <td>252</td>\n",
       "      <td>77</td>\n",
       "    </tr>\n",
       "    <tr>\n",
       "      <th>small_business</th>\n",
       "      <td>4022</td>\n",
       "      <td>1679</td>\n",
       "    </tr>\n",
       "    <tr>\n",
       "      <th>vacation</th>\n",
       "      <td>1988</td>\n",
       "      <td>464</td>\n",
       "    </tr>\n",
       "    <tr>\n",
       "      <th>wedding</th>\n",
       "      <td>1593</td>\n",
       "      <td>219</td>\n",
       "    </tr>\n",
       "  </tbody>\n",
       "</table>\n",
       "</div>"
      ],
      "text/plain": [
       "loan_status              0      1\n",
       "purpose                          \n",
       "car                   4064    633\n",
       "credit_card          69145  13874\n",
       "debt_consolidation  185867  48640\n",
       "educational            215     42\n",
       "home_improvement     19943   4087\n",
       "house                 1767    434\n",
       "major_purchase        7342   1448\n",
       "medical               3285    911\n",
       "moving                2184    670\n",
       "other                16690   4495\n",
       "renewable_energy       252     77\n",
       "small_business        4022   1679\n",
       "vacation              1988    464\n",
       "wedding               1593    219"
      ]
     },
     "execution_count": 659,
     "metadata": {},
     "output_type": "execute_result"
    }
   ],
   "source": [
    "#crosstab for hypothesis testing ( Chisquare )\n",
    "\n",
    "f=pd.crosstab(index=df['purpose'],columns=df['loan_status'])\n",
    "f"
   ]
  },
  {
   "cell_type": "code",
   "execution_count": 660,
   "id": "3df8acee",
   "metadata": {},
   "outputs": [
    {
     "name": "stdout",
     "output_type": "stream",
     "text": [
      "The feature is significant\n",
      "6.573354783158025e-291\n"
     ]
    }
   ],
   "source": [
    "#Chisquare test\n",
    "\n",
    "chi_stat,p_val,dof,expected_val=chi2_contingency(f)\n",
    "\n",
    "if p_val<0.05:\n",
    "    print('The feature is significant')\n",
    "    print(p_val)\n",
    "else:\n",
    "    print('The feature is not significant')\n",
    "    print(p_val)"
   ]
  },
  {
   "cell_type": "code",
   "execution_count": 661,
   "id": "c3bfdcd5",
   "metadata": {},
   "outputs": [],
   "source": [
    "#Perform target encoding\n",
    "\n",
    "te=TargetEncoder()\n",
    "df['purpose']=te.fit_transform(df['purpose'],df['loan_status'])"
   ]
  },
  {
   "cell_type": "markdown",
   "id": "4b9e522c",
   "metadata": {},
   "source": [
    "**Update earliest_cr_line column**"
   ]
  },
  {
   "cell_type": "code",
   "execution_count": 662,
   "id": "326e2a5e",
   "metadata": {},
   "outputs": [],
   "source": [
    "#Convert data type of earliest_cr_line column to datetime\n",
    "\n",
    "df['earliest_cr_line']=pd.to_datetime(df['earliest_cr_line'])\n",
    "\n",
    "#Extract Month\n",
    "\n",
    "df['earliest_cr_line_months']=df['earliest_cr_line'].dt.month\n",
    "\n",
    "#Extract Year\n",
    "\n",
    "df['earliest_cr_line_years']=df['earliest_cr_line'].dt.year"
   ]
  },
  {
   "cell_type": "code",
   "execution_count": 663,
   "id": "2819e562",
   "metadata": {},
   "outputs": [
    {
     "data": {
      "text/html": [
       "<div>\n",
       "<style scoped>\n",
       "    .dataframe tbody tr th:only-of-type {\n",
       "        vertical-align: middle;\n",
       "    }\n",
       "\n",
       "    .dataframe tbody tr th {\n",
       "        vertical-align: top;\n",
       "    }\n",
       "\n",
       "    .dataframe thead th {\n",
       "        text-align: right;\n",
       "    }\n",
       "</style>\n",
       "<table border=\"1\" class=\"dataframe\">\n",
       "  <thead>\n",
       "    <tr style=\"text-align: right;\">\n",
       "      <th>loan_status</th>\n",
       "      <th>0</th>\n",
       "      <th>1</th>\n",
       "    </tr>\n",
       "    <tr>\n",
       "      <th>earliest_cr_line_years</th>\n",
       "      <th></th>\n",
       "      <th></th>\n",
       "    </tr>\n",
       "  </thead>\n",
       "  <tbody>\n",
       "    <tr>\n",
       "      <th>1944</th>\n",
       "      <td>0</td>\n",
       "      <td>1</td>\n",
       "    </tr>\n",
       "    <tr>\n",
       "      <th>1948</th>\n",
       "      <td>1</td>\n",
       "      <td>0</td>\n",
       "    </tr>\n",
       "    <tr>\n",
       "      <th>1950</th>\n",
       "      <td>3</td>\n",
       "      <td>0</td>\n",
       "    </tr>\n",
       "    <tr>\n",
       "      <th>1951</th>\n",
       "      <td>2</td>\n",
       "      <td>1</td>\n",
       "    </tr>\n",
       "    <tr>\n",
       "      <th>1953</th>\n",
       "      <td>2</td>\n",
       "      <td>0</td>\n",
       "    </tr>\n",
       "    <tr>\n",
       "      <th>...</th>\n",
       "      <td>...</td>\n",
       "      <td>...</td>\n",
       "    </tr>\n",
       "    <tr>\n",
       "      <th>2009</th>\n",
       "      <td>2852</td>\n",
       "      <td>1022</td>\n",
       "    </tr>\n",
       "    <tr>\n",
       "      <th>2010</th>\n",
       "      <td>2295</td>\n",
       "      <td>861</td>\n",
       "    </tr>\n",
       "    <tr>\n",
       "      <th>2011</th>\n",
       "      <td>1556</td>\n",
       "      <td>577</td>\n",
       "    </tr>\n",
       "    <tr>\n",
       "      <th>2012</th>\n",
       "      <td>608</td>\n",
       "      <td>183</td>\n",
       "    </tr>\n",
       "    <tr>\n",
       "      <th>2013</th>\n",
       "      <td>93</td>\n",
       "      <td>6</td>\n",
       "    </tr>\n",
       "  </tbody>\n",
       "</table>\n",
       "<p>65 rows × 2 columns</p>\n",
       "</div>"
      ],
      "text/plain": [
       "loan_status                0     1\n",
       "earliest_cr_line_years            \n",
       "1944                       0     1\n",
       "1948                       1     0\n",
       "1950                       3     0\n",
       "1951                       2     1\n",
       "1953                       2     0\n",
       "...                      ...   ...\n",
       "2009                    2852  1022\n",
       "2010                    2295   861\n",
       "2011                    1556   577\n",
       "2012                     608   183\n",
       "2013                      93     6\n",
       "\n",
       "[65 rows x 2 columns]"
      ]
     },
     "execution_count": 663,
     "metadata": {},
     "output_type": "execute_result"
    }
   ],
   "source": [
    "#Crosstab for years vs loan_status\n",
    "\n",
    "g=pd.crosstab(index=df['earliest_cr_line_years'],columns=df['loan_status'])\n",
    "g"
   ]
  },
  {
   "cell_type": "code",
   "execution_count": 664,
   "id": "1723d75d",
   "metadata": {},
   "outputs": [
    {
     "name": "stdout",
     "output_type": "stream",
     "text": [
      "The feature is significant\n",
      "6.10476618638809e-198\n"
     ]
    }
   ],
   "source": [
    "#Chisquare test\n",
    "\n",
    "chi_stat,p_val,dof,expected_val=chi2_contingency(g)\n",
    "\n",
    "if p_val<0.05:\n",
    "    print('The feature is significant')\n",
    "    print(p_val)\n",
    "else:\n",
    "    print('The feature is not significant')\n",
    "    print(p_val)"
   ]
  },
  {
   "cell_type": "code",
   "execution_count": 665,
   "id": "6bdfd8f9",
   "metadata": {},
   "outputs": [
    {
     "data": {
      "text/html": [
       "<div>\n",
       "<style scoped>\n",
       "    .dataframe tbody tr th:only-of-type {\n",
       "        vertical-align: middle;\n",
       "    }\n",
       "\n",
       "    .dataframe tbody tr th {\n",
       "        vertical-align: top;\n",
       "    }\n",
       "\n",
       "    .dataframe thead th {\n",
       "        text-align: right;\n",
       "    }\n",
       "</style>\n",
       "<table border=\"1\" class=\"dataframe\">\n",
       "  <thead>\n",
       "    <tr style=\"text-align: right;\">\n",
       "      <th>loan_status</th>\n",
       "      <th>0</th>\n",
       "      <th>1</th>\n",
       "    </tr>\n",
       "    <tr>\n",
       "      <th>earliest_cr_line_months</th>\n",
       "      <th></th>\n",
       "      <th></th>\n",
       "    </tr>\n",
       "  </thead>\n",
       "  <tbody>\n",
       "    <tr>\n",
       "      <th>1</th>\n",
       "      <td>24681</td>\n",
       "      <td>6013</td>\n",
       "    </tr>\n",
       "    <tr>\n",
       "      <th>2</th>\n",
       "      <td>23365</td>\n",
       "      <td>5678</td>\n",
       "    </tr>\n",
       "    <tr>\n",
       "      <th>3</th>\n",
       "      <td>25276</td>\n",
       "      <td>6341</td>\n",
       "    </tr>\n",
       "    <tr>\n",
       "      <th>4</th>\n",
       "      <td>23388</td>\n",
       "      <td>5843</td>\n",
       "    </tr>\n",
       "    <tr>\n",
       "      <th>5</th>\n",
       "      <td>24389</td>\n",
       "      <td>6056</td>\n",
       "    </tr>\n",
       "    <tr>\n",
       "      <th>6</th>\n",
       "      <td>24537</td>\n",
       "      <td>5908</td>\n",
       "    </tr>\n",
       "    <tr>\n",
       "      <th>7</th>\n",
       "      <td>25637</td>\n",
       "      <td>6335</td>\n",
       "    </tr>\n",
       "    <tr>\n",
       "      <th>8</th>\n",
       "      <td>29977</td>\n",
       "      <td>7372</td>\n",
       "    </tr>\n",
       "    <tr>\n",
       "      <th>9</th>\n",
       "      <td>30349</td>\n",
       "      <td>7324</td>\n",
       "    </tr>\n",
       "    <tr>\n",
       "      <th>10</th>\n",
       "      <td>30933</td>\n",
       "      <td>7358</td>\n",
       "    </tr>\n",
       "    <tr>\n",
       "      <th>11</th>\n",
       "      <td>28625</td>\n",
       "      <td>6958</td>\n",
       "    </tr>\n",
       "    <tr>\n",
       "      <th>12</th>\n",
       "      <td>27200</td>\n",
       "      <td>6487</td>\n",
       "    </tr>\n",
       "  </tbody>\n",
       "</table>\n",
       "</div>"
      ],
      "text/plain": [
       "loan_status                  0     1\n",
       "earliest_cr_line_months             \n",
       "1                        24681  6013\n",
       "2                        23365  5678\n",
       "3                        25276  6341\n",
       "4                        23388  5843\n",
       "5                        24389  6056\n",
       "6                        24537  5908\n",
       "7                        25637  6335\n",
       "8                        29977  7372\n",
       "9                        30349  7324\n",
       "10                       30933  7358\n",
       "11                       28625  6958\n",
       "12                       27200  6487"
      ]
     },
     "execution_count": 665,
     "metadata": {},
     "output_type": "execute_result"
    }
   ],
   "source": [
    "h=pd.crosstab(index=df['earliest_cr_line_months'],columns=df['loan_status'])\n",
    "h"
   ]
  },
  {
   "cell_type": "code",
   "execution_count": 666,
   "id": "f727420e",
   "metadata": {},
   "outputs": [
    {
     "name": "stdout",
     "output_type": "stream",
     "text": [
      "The feature is not significant\n",
      "0.09441118313230627\n"
     ]
    }
   ],
   "source": [
    "#Chisquare test\n",
    "\n",
    "chi_stat,p_val,dof,expected_val=chi2_contingency(h)\n",
    "\n",
    "if p_val<0.05:\n",
    "    print('The feature is significant')\n",
    "    print(p_val)\n",
    "else:\n",
    "    print('The feature is not significant')\n",
    "    print(p_val)"
   ]
  },
  {
   "cell_type": "markdown",
   "id": "2ab35304",
   "metadata": {},
   "source": [
    "* Year of earliest credit line is significant and month is not significant\n",
    "* Since year column will not make sense for new customers because the data on which the model will be trained will be the years in the past and it wont be present in the test data. so it will affect the accuracy of the model\n",
    "* So the earliest_cr_line column is removed"
   ]
  },
  {
   "cell_type": "code",
   "execution_count": 667,
   "id": "442019e0",
   "metadata": {},
   "outputs": [],
   "source": [
    "df.drop(['earliest_cr_line','earliest_cr_line_months','earliest_cr_line_years'],axis=1,inplace=True)"
   ]
  },
  {
   "cell_type": "markdown",
   "id": "46ba0adb",
   "metadata": {},
   "source": [
    "**Update pub_rec, mort_acc, pub_rec_bankruptcies columns**"
   ]
  },
  {
   "cell_type": "code",
   "execution_count": 668,
   "id": "c0447ef3",
   "metadata": {
    "scrolled": true
   },
   "outputs": [
    {
     "name": "stdout",
     "output_type": "stream",
     "text": [
      "0.0     338272\n",
      "1.0      49739\n",
      "2.0       5476\n",
      "3.0       1521\n",
      "4.0        527\n",
      "5.0        237\n",
      "6.0        122\n",
      "7.0         56\n",
      "8.0         34\n",
      "9.0         12\n",
      "10.0        11\n",
      "11.0         8\n",
      "13.0         4\n",
      "12.0         4\n",
      "19.0         2\n",
      "40.0         1\n",
      "17.0         1\n",
      "86.0         1\n",
      "24.0         1\n",
      "15.0         1\n",
      "Name: pub_rec, dtype: int64\n",
      "0.0     139777\n",
      "1.0      60416\n",
      "2.0      49948\n",
      "3.0      38049\n",
      "4.0      27887\n",
      "5.0      18194\n",
      "6.0      11069\n",
      "7.0       6052\n",
      "8.0       3121\n",
      "9.0       1656\n",
      "10.0       865\n",
      "11.0       479\n",
      "12.0       264\n",
      "13.0       146\n",
      "14.0       107\n",
      "15.0        61\n",
      "16.0        37\n",
      "17.0        22\n",
      "18.0        18\n",
      "19.0        15\n",
      "20.0        13\n",
      "24.0        10\n",
      "22.0         7\n",
      "21.0         4\n",
      "25.0         4\n",
      "27.0         3\n",
      "32.0         2\n",
      "31.0         2\n",
      "23.0         2\n",
      "26.0         2\n",
      "28.0         1\n",
      "30.0         1\n",
      "34.0         1\n",
      "Name: mort_acc, dtype: int64\n",
      "0.0    350380\n",
      "1.0     42790\n",
      "2.0      1847\n",
      "3.0       351\n",
      "4.0        82\n",
      "5.0        32\n",
      "6.0         7\n",
      "7.0         4\n",
      "8.0         2\n",
      "Name: pub_rec_bankruptcies, dtype: int64\n"
     ]
    }
   ],
   "source": [
    "for i in ['pub_rec', 'mort_acc', 'pub_rec_bankruptcies']:\n",
    "    print(df[i].value_counts())"
   ]
  },
  {
   "cell_type": "markdown",
   "id": "37efabb6",
   "metadata": {},
   "source": [
    "Feature Engineering:\n",
    "\n",
    "1. Since there are large number of datapoints with '0' as the value in the 3 columns, it will create a bias towards '0'\n",
    "2. Therefore the columns will be updated in such a way that if value is greater than '1', it is '1' else it is '0'\n",
    "3. Also it is logical that it only matters whether there is any derogatory public records / mortgage accounts / bankruptcies or not. It doesnt actually matter on how many such cases are there"
   ]
  },
  {
   "cell_type": "code",
   "execution_count": 669,
   "id": "e12fb9b2",
   "metadata": {},
   "outputs": [],
   "source": [
    "#Function to return '1' if the value is >=1 else return 0\n",
    "\n",
    "def func(x):\n",
    "    if x>=1:\n",
    "        return 1\n",
    "    else:\n",
    "        return 0\n",
    "    \n",
    "df['pub_rec']=df['pub_rec'].apply(func)\n",
    "df['mort_acc']=df['mort_acc'].apply(func)\n",
    "df['pub_rec_bankruptcies']=df['pub_rec_bankruptcies'].apply(func)"
   ]
  },
  {
   "cell_type": "markdown",
   "id": "c88a8cfd",
   "metadata": {},
   "source": [
    "**Update initial_list_status column**"
   ]
  },
  {
   "cell_type": "code",
   "execution_count": 670,
   "id": "fdd6029f",
   "metadata": {},
   "outputs": [
    {
     "data": {
      "text/plain": [
       "f    238066\n",
       "w    157964\n",
       "Name: initial_list_status, dtype: int64"
      ]
     },
     "execution_count": 670,
     "metadata": {},
     "output_type": "execute_result"
    }
   ],
   "source": [
    "df['initial_list_status'].value_counts()"
   ]
  },
  {
   "cell_type": "code",
   "execution_count": 671,
   "id": "c0f6abaf",
   "metadata": {},
   "outputs": [
    {
     "data": {
      "text/html": [
       "<div>\n",
       "<style scoped>\n",
       "    .dataframe tbody tr th:only-of-type {\n",
       "        vertical-align: middle;\n",
       "    }\n",
       "\n",
       "    .dataframe tbody tr th {\n",
       "        vertical-align: top;\n",
       "    }\n",
       "\n",
       "    .dataframe thead th {\n",
       "        text-align: right;\n",
       "    }\n",
       "</style>\n",
       "<table border=\"1\" class=\"dataframe\">\n",
       "  <thead>\n",
       "    <tr style=\"text-align: right;\">\n",
       "      <th>loan_status</th>\n",
       "      <th>0</th>\n",
       "      <th>1</th>\n",
       "    </tr>\n",
       "    <tr>\n",
       "      <th>initial_list_status</th>\n",
       "      <th></th>\n",
       "      <th></th>\n",
       "    </tr>\n",
       "  </thead>\n",
       "  <tbody>\n",
       "    <tr>\n",
       "      <th>f</th>\n",
       "      <td>192105</td>\n",
       "      <td>45961</td>\n",
       "    </tr>\n",
       "    <tr>\n",
       "      <th>w</th>\n",
       "      <td>126252</td>\n",
       "      <td>31712</td>\n",
       "    </tr>\n",
       "  </tbody>\n",
       "</table>\n",
       "</div>"
      ],
      "text/plain": [
       "loan_status               0      1\n",
       "initial_list_status               \n",
       "f                    192105  45961\n",
       "w                    126252  31712"
      ]
     },
     "execution_count": 671,
     "metadata": {},
     "output_type": "execute_result"
    }
   ],
   "source": [
    "i=pd.crosstab(index=df['initial_list_status'],columns=df['loan_status'])\n",
    "i"
   ]
  },
  {
   "cell_type": "code",
   "execution_count": 672,
   "id": "06cd820b",
   "metadata": {},
   "outputs": [
    {
     "name": "stdout",
     "output_type": "stream",
     "text": [
      "The feature is significant\n",
      "2.408916483118551e-09\n"
     ]
    }
   ],
   "source": [
    "#Chisquare test\n",
    "\n",
    "chi_stat,p_val,dof,expected_val=chi2_contingency(i)\n",
    "\n",
    "if p_val<0.05:\n",
    "    print('The feature is significant')\n",
    "    print(p_val)\n",
    "else:\n",
    "    print('The feature is not significant')\n",
    "    print(p_val)"
   ]
  },
  {
   "cell_type": "code",
   "execution_count": 673,
   "id": "d81d0162",
   "metadata": {},
   "outputs": [],
   "source": [
    "#Perform onehotencoding\n",
    "\n",
    "df = pd.get_dummies(df, columns=['initial_list_status'], drop_first=True)"
   ]
  },
  {
   "cell_type": "markdown",
   "id": "7112401c",
   "metadata": {},
   "source": [
    "**Update application_type column**"
   ]
  },
  {
   "cell_type": "code",
   "execution_count": 674,
   "id": "8283a47e",
   "metadata": {},
   "outputs": [
    {
     "data": {
      "text/plain": [
       "INDIVIDUAL    395319\n",
       "JOINT            425\n",
       "DIRECT_PAY       286\n",
       "Name: application_type, dtype: int64"
      ]
     },
     "execution_count": 674,
     "metadata": {},
     "output_type": "execute_result"
    }
   ],
   "source": [
    "df['application_type'].value_counts()"
   ]
  },
  {
   "cell_type": "code",
   "execution_count": 675,
   "id": "397625fb",
   "metadata": {},
   "outputs": [
    {
     "data": {
      "text/html": [
       "<div>\n",
       "<style scoped>\n",
       "    .dataframe tbody tr th:only-of-type {\n",
       "        vertical-align: middle;\n",
       "    }\n",
       "\n",
       "    .dataframe tbody tr th {\n",
       "        vertical-align: top;\n",
       "    }\n",
       "\n",
       "    .dataframe thead th {\n",
       "        text-align: right;\n",
       "    }\n",
       "</style>\n",
       "<table border=\"1\" class=\"dataframe\">\n",
       "  <thead>\n",
       "    <tr style=\"text-align: right;\">\n",
       "      <th>loan_status</th>\n",
       "      <th>0</th>\n",
       "      <th>1</th>\n",
       "    </tr>\n",
       "    <tr>\n",
       "      <th>application_type</th>\n",
       "      <th></th>\n",
       "      <th></th>\n",
       "    </tr>\n",
       "  </thead>\n",
       "  <tbody>\n",
       "    <tr>\n",
       "      <th>DIRECT_PAY</th>\n",
       "      <td>184</td>\n",
       "      <td>102</td>\n",
       "    </tr>\n",
       "    <tr>\n",
       "      <th>INDIVIDUAL</th>\n",
       "      <td>317802</td>\n",
       "      <td>77517</td>\n",
       "    </tr>\n",
       "    <tr>\n",
       "      <th>JOINT</th>\n",
       "      <td>371</td>\n",
       "      <td>54</td>\n",
       "    </tr>\n",
       "  </tbody>\n",
       "</table>\n",
       "</div>"
      ],
      "text/plain": [
       "loan_status            0      1\n",
       "application_type               \n",
       "DIRECT_PAY           184    102\n",
       "INDIVIDUAL        317802  77517\n",
       "JOINT                371     54"
      ]
     },
     "execution_count": 675,
     "metadata": {},
     "output_type": "execute_result"
    }
   ],
   "source": [
    "j=pd.crosstab(index=df['application_type'],columns=df['loan_status'])\n",
    "j"
   ]
  },
  {
   "cell_type": "code",
   "execution_count": 676,
   "id": "ea8a4949",
   "metadata": {},
   "outputs": [
    {
     "name": "stdout",
     "output_type": "stream",
     "text": [
      "The feature is significant\n",
      "1.1418557766942247e-13\n"
     ]
    }
   ],
   "source": [
    "#Chisquare test\n",
    "\n",
    "chi_stat,p_val,dof,expected_val=chi2_contingency(j)\n",
    "\n",
    "if p_val<0.05:\n",
    "    print('The feature is significant')\n",
    "    print(p_val)\n",
    "else:\n",
    "    print('The feature is not significant')\n",
    "    print(p_val)"
   ]
  },
  {
   "cell_type": "code",
   "execution_count": 677,
   "id": "f124cdb8",
   "metadata": {},
   "outputs": [],
   "source": [
    "#Perform onehotencoding\n",
    "\n",
    "df = pd.get_dummies(df, columns=['application_type'], drop_first=True)"
   ]
  },
  {
   "cell_type": "markdown",
   "id": "a721aef3",
   "metadata": {},
   "source": [
    "**Update zip column**"
   ]
  },
  {
   "cell_type": "code",
   "execution_count": 678,
   "id": "52d7d328",
   "metadata": {},
   "outputs": [
    {
     "data": {
      "text/plain": [
       "70466    56985\n",
       "30723    56546\n",
       "22690    56527\n",
       "48052    55917\n",
       "00813    45824\n",
       "29597    45471\n",
       "05113    45402\n",
       "11650    11226\n",
       "93700    11151\n",
       "86630    10981\n",
       "Name: zip, dtype: int64"
      ]
     },
     "execution_count": 678,
     "metadata": {},
     "output_type": "execute_result"
    }
   ],
   "source": [
    "df['zip'].value_counts()"
   ]
  },
  {
   "cell_type": "code",
   "execution_count": 679,
   "id": "1167b661",
   "metadata": {},
   "outputs": [
    {
     "data": {
      "text/html": [
       "<div>\n",
       "<style scoped>\n",
       "    .dataframe tbody tr th:only-of-type {\n",
       "        vertical-align: middle;\n",
       "    }\n",
       "\n",
       "    .dataframe tbody tr th {\n",
       "        vertical-align: top;\n",
       "    }\n",
       "\n",
       "    .dataframe thead th {\n",
       "        text-align: right;\n",
       "    }\n",
       "</style>\n",
       "<table border=\"1\" class=\"dataframe\">\n",
       "  <thead>\n",
       "    <tr style=\"text-align: right;\">\n",
       "      <th>loan_status</th>\n",
       "      <th>0</th>\n",
       "      <th>1</th>\n",
       "    </tr>\n",
       "    <tr>\n",
       "      <th>zip</th>\n",
       "      <th></th>\n",
       "      <th></th>\n",
       "    </tr>\n",
       "  </thead>\n",
       "  <tbody>\n",
       "    <tr>\n",
       "      <th>00813</th>\n",
       "      <td>45824</td>\n",
       "      <td>0</td>\n",
       "    </tr>\n",
       "    <tr>\n",
       "      <th>05113</th>\n",
       "      <td>45402</td>\n",
       "      <td>0</td>\n",
       "    </tr>\n",
       "    <tr>\n",
       "      <th>11650</th>\n",
       "      <td>0</td>\n",
       "      <td>11226</td>\n",
       "    </tr>\n",
       "    <tr>\n",
       "      <th>22690</th>\n",
       "      <td>45573</td>\n",
       "      <td>10954</td>\n",
       "    </tr>\n",
       "    <tr>\n",
       "      <th>29597</th>\n",
       "      <td>45471</td>\n",
       "      <td>0</td>\n",
       "    </tr>\n",
       "    <tr>\n",
       "      <th>30723</th>\n",
       "      <td>45525</td>\n",
       "      <td>11021</td>\n",
       "    </tr>\n",
       "    <tr>\n",
       "      <th>48052</th>\n",
       "      <td>44725</td>\n",
       "      <td>11192</td>\n",
       "    </tr>\n",
       "    <tr>\n",
       "      <th>70466</th>\n",
       "      <td>45837</td>\n",
       "      <td>11148</td>\n",
       "    </tr>\n",
       "    <tr>\n",
       "      <th>86630</th>\n",
       "      <td>0</td>\n",
       "      <td>10981</td>\n",
       "    </tr>\n",
       "    <tr>\n",
       "      <th>93700</th>\n",
       "      <td>0</td>\n",
       "      <td>11151</td>\n",
       "    </tr>\n",
       "  </tbody>\n",
       "</table>\n",
       "</div>"
      ],
      "text/plain": [
       "loan_status      0      1\n",
       "zip                      \n",
       "00813        45824      0\n",
       "05113        45402      0\n",
       "11650            0  11226\n",
       "22690        45573  10954\n",
       "29597        45471      0\n",
       "30723        45525  11021\n",
       "48052        44725  11192\n",
       "70466        45837  11148\n",
       "86630            0  10981\n",
       "93700            0  11151"
      ]
     },
     "execution_count": 679,
     "metadata": {},
     "output_type": "execute_result"
    }
   ],
   "source": [
    "k=pd.crosstab(index=df['zip'],columns=df['loan_status'])\n",
    "k"
   ]
  },
  {
   "cell_type": "code",
   "execution_count": 680,
   "id": "8b11d00b",
   "metadata": {},
   "outputs": [
    {
     "name": "stdout",
     "output_type": "stream",
     "text": [
      "The feature is significant\n",
      "0.0\n"
     ]
    }
   ],
   "source": [
    "#Chisquare test\n",
    "\n",
    "chi_stat,p_val,dof,expected_val=chi2_contingency(k)\n",
    "\n",
    "if p_val<0.05:\n",
    "    print('The feature is significant')\n",
    "    print(p_val)\n",
    "else:\n",
    "    print('The feature is not significant')\n",
    "    print(p_val)"
   ]
  },
  {
   "cell_type": "code",
   "execution_count": 681,
   "id": "226c562f",
   "metadata": {},
   "outputs": [],
   "source": [
    "#Perform target encoding\n",
    "\n",
    "te=TargetEncoder()\n",
    "df['zip']=te.fit_transform(df['zip'],df['loan_status'])"
   ]
  },
  {
   "cell_type": "code",
   "execution_count": 682,
   "id": "ffc24c07",
   "metadata": {},
   "outputs": [
    {
     "data": {
      "text/plain": [
       "Index(['loan_amnt', 'int_rate', 'grade', 'sub_grade', 'emp_length',\n",
       "       'annual_inc', 'loan_status', 'purpose', 'dti', 'open_acc', 'pub_rec',\n",
       "       'revol_bal', 'revol_util', 'total_acc', 'mort_acc',\n",
       "       'pub_rec_bankruptcies', 'zip', 'term_ 60 months',\n",
       "       'home_ownership_OTHER', 'home_ownership_OWN', 'home_ownership_RENT',\n",
       "       'verification_status_Source Verified', 'verification_status_Verified',\n",
       "       'initial_list_status_w', 'application_type_INDIVIDUAL',\n",
       "       'application_type_JOINT'],\n",
       "      dtype='object')"
      ]
     },
     "execution_count": 682,
     "metadata": {},
     "output_type": "execute_result"
    }
   ],
   "source": [
    "df.columns"
   ]
  },
  {
   "cell_type": "code",
   "execution_count": 683,
   "id": "dfeb7410",
   "metadata": {},
   "outputs": [
    {
     "data": {
      "text/plain": [
       "(396030, 26)"
      ]
     },
     "execution_count": 683,
     "metadata": {},
     "output_type": "execute_result"
    }
   ],
   "source": [
    "df.shape"
   ]
  },
  {
   "cell_type": "code",
   "execution_count": 684,
   "id": "b0e7d07e",
   "metadata": {
    "scrolled": true
   },
   "outputs": [
    {
     "name": "stdout",
     "output_type": "stream",
     "text": [
      "<class 'pandas.core.frame.DataFrame'>\n",
      "RangeIndex: 396030 entries, 0 to 396029\n",
      "Data columns (total 26 columns):\n",
      " #   Column                               Non-Null Count   Dtype  \n",
      "---  ------                               --------------   -----  \n",
      " 0   loan_amnt                            396030 non-null  float64\n",
      " 1   int_rate                             396030 non-null  float64\n",
      " 2   grade                                396030 non-null  float64\n",
      " 3   sub_grade                            396030 non-null  float64\n",
      " 4   emp_length                           377729 non-null  float64\n",
      " 5   annual_inc                           396030 non-null  float64\n",
      " 6   loan_status                          396030 non-null  int64  \n",
      " 7   purpose                              396030 non-null  float64\n",
      " 8   dti                                  396030 non-null  float64\n",
      " 9   open_acc                             396030 non-null  float64\n",
      " 10  pub_rec                              396030 non-null  int64  \n",
      " 11  revol_bal                            396030 non-null  float64\n",
      " 12  revol_util                           395754 non-null  float64\n",
      " 13  total_acc                            396030 non-null  float64\n",
      " 14  mort_acc                             396030 non-null  int64  \n",
      " 15  pub_rec_bankruptcies                 396030 non-null  int64  \n",
      " 16  zip                                  396030 non-null  float64\n",
      " 17  term_ 60 months                      396030 non-null  uint8  \n",
      " 18  home_ownership_OTHER                 396030 non-null  uint8  \n",
      " 19  home_ownership_OWN                   396030 non-null  uint8  \n",
      " 20  home_ownership_RENT                  396030 non-null  uint8  \n",
      " 21  verification_status_Source Verified  396030 non-null  uint8  \n",
      " 22  verification_status_Verified         396030 non-null  uint8  \n",
      " 23  initial_list_status_w                396030 non-null  uint8  \n",
      " 24  application_type_INDIVIDUAL          396030 non-null  uint8  \n",
      " 25  application_type_JOINT               396030 non-null  uint8  \n",
      "dtypes: float64(13), int64(4), uint8(9)\n",
      "memory usage: 54.8 MB\n"
     ]
    }
   ],
   "source": [
    "#Check the data type after pre processing\n",
    "\n",
    "df.info()"
   ]
  },
  {
   "cell_type": "code",
   "execution_count": 685,
   "id": "ab9c795b",
   "metadata": {},
   "outputs": [
    {
     "data": {
      "text/plain": [
       "loan_amnt                                  0\n",
       "int_rate                                   0\n",
       "grade                                      0\n",
       "sub_grade                                  0\n",
       "emp_length                             18301\n",
       "annual_inc                                 0\n",
       "loan_status                                0\n",
       "purpose                                    0\n",
       "dti                                        0\n",
       "open_acc                                   0\n",
       "pub_rec                                    0\n",
       "revol_bal                                  0\n",
       "revol_util                               276\n",
       "total_acc                                  0\n",
       "mort_acc                                   0\n",
       "pub_rec_bankruptcies                       0\n",
       "zip                                        0\n",
       "term_ 60 months                            0\n",
       "home_ownership_OTHER                       0\n",
       "home_ownership_OWN                         0\n",
       "home_ownership_RENT                        0\n",
       "verification_status_Source Verified        0\n",
       "verification_status_Verified               0\n",
       "initial_list_status_w                      0\n",
       "application_type_INDIVIDUAL                0\n",
       "application_type_JOINT                     0\n",
       "dtype: int64"
      ]
     },
     "execution_count": 685,
     "metadata": {},
     "output_type": "execute_result"
    }
   ],
   "source": [
    "# Count of null values in each columns\n",
    "\n",
    "df.isnull().sum()"
   ]
  },
  {
   "cell_type": "markdown",
   "id": "dc59b100",
   "metadata": {},
   "source": [
    "**Null Value imputation using KNN IMPUTER**"
   ]
  },
  {
   "cell_type": "markdown",
   "id": "04cbd3d7",
   "metadata": {},
   "source": [
    "KNN Imputer is used because:\n",
    "* Simple Mean/median/mode imputation is a univariate imputation method and does not consider multiple features at a time\n",
    "* Since there are 25+ features present in the dataset, it is more logical to consider KNN Imputaion which considers multiple features into account and impute based on similarities "
   ]
  },
  {
   "cell_type": "code",
   "execution_count": 686,
   "id": "b3c4acd1",
   "metadata": {},
   "outputs": [],
   "source": [
    "#KNN Imputation\n",
    "\n",
    "imputer=KNNImputer(n_neighbors=5,weights='distance')\n",
    "df2=imputer.fit_transform(df)"
   ]
  },
  {
   "cell_type": "code",
   "execution_count": 687,
   "id": "dafc77c9",
   "metadata": {},
   "outputs": [],
   "source": [
    "#Convert to dataframe\n",
    "\n",
    "df2=pd.DataFrame(df2,columns=df.columns)"
   ]
  },
  {
   "cell_type": "code",
   "execution_count": 688,
   "id": "e4779154",
   "metadata": {},
   "outputs": [],
   "source": [
    "df1=df2.copy()"
   ]
  },
  {
   "cell_type": "code",
   "execution_count": 689,
   "id": "6c8da00d",
   "metadata": {},
   "outputs": [
    {
     "data": {
      "text/plain": [
       "loan_amnt                              0\n",
       "int_rate                               0\n",
       "grade                                  0\n",
       "sub_grade                              0\n",
       "emp_length                             0\n",
       "annual_inc                             0\n",
       "loan_status                            0\n",
       "purpose                                0\n",
       "dti                                    0\n",
       "open_acc                               0\n",
       "pub_rec                                0\n",
       "revol_bal                              0\n",
       "revol_util                             0\n",
       "total_acc                              0\n",
       "mort_acc                               0\n",
       "pub_rec_bankruptcies                   0\n",
       "zip                                    0\n",
       "term_ 60 months                        0\n",
       "home_ownership_OTHER                   0\n",
       "home_ownership_OWN                     0\n",
       "home_ownership_RENT                    0\n",
       "verification_status_Source Verified    0\n",
       "verification_status_Verified           0\n",
       "initial_list_status_w                  0\n",
       "application_type_INDIVIDUAL            0\n",
       "application_type_JOINT                 0\n",
       "dtype: int64"
      ]
     },
     "execution_count": 689,
     "metadata": {},
     "output_type": "execute_result"
    }
   ],
   "source": [
    "#Check for null values\n",
    "\n",
    "df1.isnull().sum()"
   ]
  },
  {
   "cell_type": "markdown",
   "id": "453cecbd",
   "metadata": {},
   "source": [
    "### OUTLIER DETECTION"
   ]
  },
  {
   "cell_type": "code",
   "execution_count": 690,
   "id": "5dcc0fcc",
   "metadata": {},
   "outputs": [
    {
     "data": {
      "text/html": [
       "<div>\n",
       "<style scoped>\n",
       "    .dataframe tbody tr th:only-of-type {\n",
       "        vertical-align: middle;\n",
       "    }\n",
       "\n",
       "    .dataframe tbody tr th {\n",
       "        vertical-align: top;\n",
       "    }\n",
       "\n",
       "    .dataframe thead th {\n",
       "        text-align: right;\n",
       "    }\n",
       "</style>\n",
       "<table border=\"1\" class=\"dataframe\">\n",
       "  <thead>\n",
       "    <tr style=\"text-align: right;\">\n",
       "      <th></th>\n",
       "      <th>Columns</th>\n",
       "      <th>Count of Columns</th>\n",
       "    </tr>\n",
       "  </thead>\n",
       "  <tbody>\n",
       "    <tr>\n",
       "      <th>0</th>\n",
       "      <td>loan_amnt</td>\n",
       "      <td>1397</td>\n",
       "    </tr>\n",
       "    <tr>\n",
       "      <th>1</th>\n",
       "      <td>int_rate</td>\n",
       "      <td>566</td>\n",
       "    </tr>\n",
       "    <tr>\n",
       "      <th>2</th>\n",
       "      <td>grade</td>\n",
       "      <td>7</td>\n",
       "    </tr>\n",
       "    <tr>\n",
       "      <th>3</th>\n",
       "      <td>sub_grade</td>\n",
       "      <td>35</td>\n",
       "    </tr>\n",
       "    <tr>\n",
       "      <th>4</th>\n",
       "      <td>emp_length</td>\n",
       "      <td>18236</td>\n",
       "    </tr>\n",
       "    <tr>\n",
       "      <th>5</th>\n",
       "      <td>annual_inc</td>\n",
       "      <td>27197</td>\n",
       "    </tr>\n",
       "    <tr>\n",
       "      <th>6</th>\n",
       "      <td>loan_status</td>\n",
       "      <td>2</td>\n",
       "    </tr>\n",
       "    <tr>\n",
       "      <th>7</th>\n",
       "      <td>purpose</td>\n",
       "      <td>14</td>\n",
       "    </tr>\n",
       "    <tr>\n",
       "      <th>8</th>\n",
       "      <td>dti</td>\n",
       "      <td>4262</td>\n",
       "    </tr>\n",
       "    <tr>\n",
       "      <th>9</th>\n",
       "      <td>open_acc</td>\n",
       "      <td>61</td>\n",
       "    </tr>\n",
       "    <tr>\n",
       "      <th>10</th>\n",
       "      <td>pub_rec</td>\n",
       "      <td>2</td>\n",
       "    </tr>\n",
       "    <tr>\n",
       "      <th>11</th>\n",
       "      <td>revol_bal</td>\n",
       "      <td>55622</td>\n",
       "    </tr>\n",
       "    <tr>\n",
       "      <th>12</th>\n",
       "      <td>revol_util</td>\n",
       "      <td>1498</td>\n",
       "    </tr>\n",
       "    <tr>\n",
       "      <th>13</th>\n",
       "      <td>total_acc</td>\n",
       "      <td>118</td>\n",
       "    </tr>\n",
       "    <tr>\n",
       "      <th>14</th>\n",
       "      <td>mort_acc</td>\n",
       "      <td>2</td>\n",
       "    </tr>\n",
       "    <tr>\n",
       "      <th>15</th>\n",
       "      <td>pub_rec_bankruptcies</td>\n",
       "      <td>2</td>\n",
       "    </tr>\n",
       "    <tr>\n",
       "      <th>16</th>\n",
       "      <td>zip</td>\n",
       "      <td>6</td>\n",
       "    </tr>\n",
       "    <tr>\n",
       "      <th>17</th>\n",
       "      <td>term_ 60 months</td>\n",
       "      <td>2</td>\n",
       "    </tr>\n",
       "    <tr>\n",
       "      <th>18</th>\n",
       "      <td>home_ownership_OTHER</td>\n",
       "      <td>2</td>\n",
       "    </tr>\n",
       "    <tr>\n",
       "      <th>19</th>\n",
       "      <td>home_ownership_OWN</td>\n",
       "      <td>2</td>\n",
       "    </tr>\n",
       "    <tr>\n",
       "      <th>20</th>\n",
       "      <td>home_ownership_RENT</td>\n",
       "      <td>2</td>\n",
       "    </tr>\n",
       "    <tr>\n",
       "      <th>21</th>\n",
       "      <td>verification_status_Source Verified</td>\n",
       "      <td>2</td>\n",
       "    </tr>\n",
       "    <tr>\n",
       "      <th>22</th>\n",
       "      <td>verification_status_Verified</td>\n",
       "      <td>2</td>\n",
       "    </tr>\n",
       "    <tr>\n",
       "      <th>23</th>\n",
       "      <td>initial_list_status_w</td>\n",
       "      <td>2</td>\n",
       "    </tr>\n",
       "    <tr>\n",
       "      <th>24</th>\n",
       "      <td>application_type_INDIVIDUAL</td>\n",
       "      <td>2</td>\n",
       "    </tr>\n",
       "    <tr>\n",
       "      <th>25</th>\n",
       "      <td>application_type_JOINT</td>\n",
       "      <td>2</td>\n",
       "    </tr>\n",
       "  </tbody>\n",
       "</table>\n",
       "</div>"
      ],
      "text/plain": [
       "                                Columns  Count of Columns\n",
       "0                             loan_amnt              1397\n",
       "1                              int_rate               566\n",
       "2                                 grade                 7\n",
       "3                             sub_grade                35\n",
       "4                            emp_length             18236\n",
       "5                            annual_inc             27197\n",
       "6                           loan_status                 2\n",
       "7                               purpose                14\n",
       "8                                   dti              4262\n",
       "9                              open_acc                61\n",
       "10                              pub_rec                 2\n",
       "11                            revol_bal             55622\n",
       "12                           revol_util              1498\n",
       "13                            total_acc               118\n",
       "14                             mort_acc                 2\n",
       "15                 pub_rec_bankruptcies                 2\n",
       "16                                  zip                 6\n",
       "17                      term_ 60 months                 2\n",
       "18                 home_ownership_OTHER                 2\n",
       "19                   home_ownership_OWN                 2\n",
       "20                  home_ownership_RENT                 2\n",
       "21  verification_status_Source Verified                 2\n",
       "22         verification_status_Verified                 2\n",
       "23                initial_list_status_w                 2\n",
       "24          application_type_INDIVIDUAL                 2\n",
       "25               application_type_JOINT                 2"
      ]
     },
     "execution_count": 690,
     "metadata": {},
     "output_type": "execute_result"
    }
   ],
   "source": [
    "#Count of unique values in each columns#\n",
    "\n",
    "count_of_unique=[]\n",
    "columns_=[]\n",
    "for i in df1.columns:\n",
    "    columns_.append(i)\n",
    "    count_of_unique.append(df1[i].nunique())\n",
    "pd.DataFrame({'Columns':columns_,'Count of Columns':count_of_unique})"
   ]
  },
  {
   "cell_type": "code",
   "execution_count": 691,
   "id": "3ad3cb35",
   "metadata": {},
   "outputs": [],
   "source": [
    "#Select the columns where no of unique values are more than 10 \n",
    "#assuming that those having less than 10 will behave like a categorical data\n",
    "\n",
    "cols=[]\n",
    "for i in df.columns:\n",
    "    if df[i].nunique()>=10:\n",
    "        cols.append(i)  "
   ]
  },
  {
   "cell_type": "code",
   "execution_count": 692,
   "id": "f3c6e113",
   "metadata": {
    "scrolled": true
   },
   "outputs": [
    {
     "data": {
      "image/png": "[encoded data removed]",
      "text/plain": [
       "<Figure size 1500x2000 with 11 Axes>"
      ]
     },
     "metadata": {},
     "output_type": "display_data"
    }
   ],
   "source": [
    "# Box plots of columns\n",
    "\n",
    "plt.figure(figsize=(15, 20))\n",
    "\n",
    "for i in range(1,len(cols)+1):\n",
    "    plt.subplot(4, 3, i)\n",
    "    sns.boxplot(x=cols[i-1], data=df1)\n"
   ]
  },
  {
   "cell_type": "code",
   "execution_count": 693,
   "id": "09676044",
   "metadata": {},
   "outputs": [
    {
     "data": {
      "text/plain": [
       "(371458, 26)"
      ]
     },
     "execution_count": 693,
     "metadata": {},
     "output_type": "execute_result"
    }
   ],
   "source": [
    "# Remove Outliers considering those beyond z_score of 3 as outliers\n",
    "\n",
    "for col in cols:\n",
    "    mean = df1[col].mean()\n",
    "    std = df1[col].std()\n",
    "\n",
    "    upper_limit = mean+3*std\n",
    "    lower_limit = mean-3*std\n",
    "\n",
    "    df1 = df1[(df1[col]<upper_limit) & (df1[col]>lower_limit)]\n",
    "\n",
    "df1.shape"
   ]
  },
  {
   "cell_type": "markdown",
   "id": "a4b288eb",
   "metadata": {
    "id": "rRaA4CZvNAni"
   },
   "source": [
    "### Data Preparation for Modeling -"
   ]
  },
  {
   "cell_type": "code",
   "execution_count": 694,
   "id": "1b111ed9",
   "metadata": {
    "id": "UoI6ms-r2Fgq"
   },
   "outputs": [],
   "source": [
    "X = df1.drop('loan_status', axis=1)\n",
    "y = df1['loan_status']"
   ]
  },
  {
   "cell_type": "markdown",
   "id": "bf99f0a6",
   "metadata": {
    "id": "UfV0IKiuNAni"
   },
   "source": [
    "#### MinMaxScaler -\n",
    "\n",
    "For each value in a feature, MinMaxScaler subtracts the minimum value in the feature and then divides by the range. The range is the difference between the original maximum and original minimum.\n",
    "\n",
    "MinMaxScaler preserves the shape of the original distribution. It doesn’t meaningfully change the information embedded in the original data."
   ]
  },
  {
   "cell_type": "code",
   "execution_count": 695,
   "id": "4134f24c",
   "metadata": {
    "id": "3knpegGX2Fkq"
   },
   "outputs": [],
   "source": [
    "scaler = MinMaxScaler()\n",
    "X_sc = scaler.fit_transform(X)"
   ]
  },
  {
   "cell_type": "code",
   "execution_count": 696,
   "id": "b1ac3460",
   "metadata": {},
   "outputs": [],
   "source": [
    "X_sc = pd.DataFrame(X_sc,columns=X.columns)"
   ]
  },
  {
   "cell_type": "code",
   "execution_count": 697,
   "id": "961798cc",
   "metadata": {},
   "outputs": [
    {
     "data": {
      "text/html": [
       "<div>\n",
       "<style scoped>\n",
       "    .dataframe tbody tr th:only-of-type {\n",
       "        vertical-align: middle;\n",
       "    }\n",
       "\n",
       "    .dataframe tbody tr th {\n",
       "        vertical-align: top;\n",
       "    }\n",
       "\n",
       "    .dataframe thead th {\n",
       "        text-align: right;\n",
       "    }\n",
       "</style>\n",
       "<table border=\"1\" class=\"dataframe\">\n",
       "  <thead>\n",
       "    <tr style=\"text-align: right;\">\n",
       "      <th></th>\n",
       "      <th>loan_amnt</th>\n",
       "      <th>int_rate</th>\n",
       "      <th>grade</th>\n",
       "      <th>sub_grade</th>\n",
       "      <th>emp_length</th>\n",
       "      <th>annual_inc</th>\n",
       "      <th>purpose</th>\n",
       "      <th>dti</th>\n",
       "      <th>open_acc</th>\n",
       "      <th>pub_rec</th>\n",
       "      <th>...</th>\n",
       "      <th>zip</th>\n",
       "      <th>term_ 60 months</th>\n",
       "      <th>home_ownership_OTHER</th>\n",
       "      <th>home_ownership_OWN</th>\n",
       "      <th>home_ownership_RENT</th>\n",
       "      <th>verification_status_Source Verified</th>\n",
       "      <th>verification_status_Verified</th>\n",
       "      <th>initial_list_status_w</th>\n",
       "      <th>application_type_INDIVIDUAL</th>\n",
       "      <th>application_type_JOINT</th>\n",
       "    </tr>\n",
       "  </thead>\n",
       "  <tbody>\n",
       "    <tr>\n",
       "      <th>0</th>\n",
       "      <td>0.247880</td>\n",
       "      <td>0.282418</td>\n",
       "      <td>0.151264</td>\n",
       "      <td>0.231230</td>\n",
       "      <td>1.0</td>\n",
       "      <td>0.444882</td>\n",
       "      <td>0.544711</td>\n",
       "      <td>0.367507</td>\n",
       "      <td>0.615385</td>\n",
       "      <td>0.0</td>\n",
       "      <td>...</td>\n",
       "      <td>0.193784</td>\n",
       "      <td>0.0</td>\n",
       "      <td>0.0</td>\n",
       "      <td>0.0</td>\n",
       "      <td>1.0</td>\n",
       "      <td>0.0</td>\n",
       "      <td>0.0</td>\n",
       "      <td>1.0</td>\n",
       "      <td>1.0</td>\n",
       "      <td>0.0</td>\n",
       "    </tr>\n",
       "    <tr>\n",
       "      <th>1</th>\n",
       "      <td>0.195695</td>\n",
       "      <td>0.307799</td>\n",
       "      <td>0.151264</td>\n",
       "      <td>0.266309</td>\n",
       "      <td>0.4</td>\n",
       "      <td>0.240157</td>\n",
       "      <td>0.726533</td>\n",
       "      <td>0.308824</td>\n",
       "      <td>0.653846</td>\n",
       "      <td>0.0</td>\n",
       "      <td>...</td>\n",
       "      <td>0.000000</td>\n",
       "      <td>0.0</td>\n",
       "      <td>0.0</td>\n",
       "      <td>0.0</td>\n",
       "      <td>0.0</td>\n",
       "      <td>0.0</td>\n",
       "      <td>0.0</td>\n",
       "      <td>0.0</td>\n",
       "      <td>1.0</td>\n",
       "      <td>0.0</td>\n",
       "    </tr>\n",
       "    <tr>\n",
       "      <th>2</th>\n",
       "      <td>0.393999</td>\n",
       "      <td>0.238579</td>\n",
       "      <td>0.151264</td>\n",
       "      <td>0.199535</td>\n",
       "      <td>0.0</td>\n",
       "      <td>0.153768</td>\n",
       "      <td>0.323543</td>\n",
       "      <td>0.179132</td>\n",
       "      <td>0.500000</td>\n",
       "      <td>0.0</td>\n",
       "      <td>...</td>\n",
       "      <td>0.000000</td>\n",
       "      <td>0.0</td>\n",
       "      <td>0.0</td>\n",
       "      <td>0.0</td>\n",
       "      <td>1.0</td>\n",
       "      <td>1.0</td>\n",
       "      <td>0.0</td>\n",
       "      <td>0.0</td>\n",
       "      <td>1.0</td>\n",
       "      <td>0.0</td>\n",
       "    </tr>\n",
       "    <tr>\n",
       "      <th>3</th>\n",
       "      <td>0.174821</td>\n",
       "      <td>0.053992</td>\n",
       "      <td>0.000000</td>\n",
       "      <td>0.041117</td>\n",
       "      <td>0.6</td>\n",
       "      <td>0.196850</td>\n",
       "      <td>0.323543</td>\n",
       "      <td>0.036415</td>\n",
       "      <td>0.230769</td>\n",
       "      <td>0.0</td>\n",
       "      <td>...</td>\n",
       "      <td>0.000000</td>\n",
       "      <td>0.0</td>\n",
       "      <td>0.0</td>\n",
       "      <td>0.0</td>\n",
       "      <td>1.0</td>\n",
       "      <td>0.0</td>\n",
       "      <td>0.0</td>\n",
       "      <td>0.0</td>\n",
       "      <td>1.0</td>\n",
       "      <td>0.0</td>\n",
       "    </tr>\n",
       "    <tr>\n",
       "      <th>4</th>\n",
       "      <td>0.622962</td>\n",
       "      <td>0.551454</td>\n",
       "      <td>0.358427</td>\n",
       "      <td>0.456049</td>\n",
       "      <td>0.9</td>\n",
       "      <td>0.200787</td>\n",
       "      <td>0.323543</td>\n",
       "      <td>0.475490</td>\n",
       "      <td>0.500000</td>\n",
       "      <td>0.0</td>\n",
       "      <td>...</td>\n",
       "      <td>1.000000</td>\n",
       "      <td>1.0</td>\n",
       "      <td>0.0</td>\n",
       "      <td>0.0</td>\n",
       "      <td>0.0</td>\n",
       "      <td>0.0</td>\n",
       "      <td>1.0</td>\n",
       "      <td>0.0</td>\n",
       "      <td>1.0</td>\n",
       "      <td>0.0</td>\n",
       "    </tr>\n",
       "    <tr>\n",
       "      <th>...</th>\n",
       "      <td>...</td>\n",
       "      <td>...</td>\n",
       "      <td>...</td>\n",
       "      <td>...</td>\n",
       "      <td>...</td>\n",
       "      <td>...</td>\n",
       "      <td>...</td>\n",
       "      <td>...</td>\n",
       "      <td>...</td>\n",
       "      <td>...</td>\n",
       "      <td>...</td>\n",
       "      <td>...</td>\n",
       "      <td>...</td>\n",
       "      <td>...</td>\n",
       "      <td>...</td>\n",
       "      <td>...</td>\n",
       "      <td>...</td>\n",
       "      <td>...</td>\n",
       "      <td>...</td>\n",
       "      <td>...</td>\n",
       "      <td>...</td>\n",
       "    </tr>\n",
       "    <tr>\n",
       "      <th>371453</th>\n",
       "      <td>0.247880</td>\n",
       "      <td>0.261652</td>\n",
       "      <td>0.151264</td>\n",
       "      <td>0.231230</td>\n",
       "      <td>0.2</td>\n",
       "      <td>0.141732</td>\n",
       "      <td>0.726533</td>\n",
       "      <td>0.218908</td>\n",
       "      <td>0.230769</td>\n",
       "      <td>0.0</td>\n",
       "      <td>...</td>\n",
       "      <td>0.194903</td>\n",
       "      <td>1.0</td>\n",
       "      <td>0.0</td>\n",
       "      <td>0.0</td>\n",
       "      <td>1.0</td>\n",
       "      <td>1.0</td>\n",
       "      <td>0.0</td>\n",
       "      <td>1.0</td>\n",
       "      <td>1.0</td>\n",
       "      <td>0.0</td>\n",
       "    </tr>\n",
       "    <tr>\n",
       "      <th>371454</th>\n",
       "      <td>0.534899</td>\n",
       "      <td>0.321643</td>\n",
       "      <td>0.358427</td>\n",
       "      <td>0.305633</td>\n",
       "      <td>0.5</td>\n",
       "      <td>0.417323</td>\n",
       "      <td>0.726533</td>\n",
       "      <td>0.300420</td>\n",
       "      <td>0.230769</td>\n",
       "      <td>0.0</td>\n",
       "      <td>...</td>\n",
       "      <td>0.000000</td>\n",
       "      <td>0.0</td>\n",
       "      <td>0.0</td>\n",
       "      <td>0.0</td>\n",
       "      <td>0.0</td>\n",
       "      <td>1.0</td>\n",
       "      <td>0.0</td>\n",
       "      <td>0.0</td>\n",
       "      <td>1.0</td>\n",
       "      <td>0.0</td>\n",
       "    </tr>\n",
       "    <tr>\n",
       "      <th>371455</th>\n",
       "      <td>0.117417</td>\n",
       "      <td>0.215505</td>\n",
       "      <td>0.151264</td>\n",
       "      <td>0.147327</td>\n",
       "      <td>1.0</td>\n",
       "      <td>0.206693</td>\n",
       "      <td>0.726533</td>\n",
       "      <td>0.245938</td>\n",
       "      <td>0.576923</td>\n",
       "      <td>0.0</td>\n",
       "      <td>...</td>\n",
       "      <td>0.195630</td>\n",
       "      <td>0.0</td>\n",
       "      <td>0.0</td>\n",
       "      <td>0.0</td>\n",
       "      <td>1.0</td>\n",
       "      <td>0.0</td>\n",
       "      <td>1.0</td>\n",
       "      <td>0.0</td>\n",
       "      <td>1.0</td>\n",
       "      <td>0.0</td>\n",
       "    </tr>\n",
       "    <tr>\n",
       "      <th>371456</th>\n",
       "      <td>0.534899</td>\n",
       "      <td>0.461006</td>\n",
       "      <td>0.358427</td>\n",
       "      <td>0.355842</td>\n",
       "      <td>1.0</td>\n",
       "      <td>0.236220</td>\n",
       "      <td>0.726533</td>\n",
       "      <td>0.222409</td>\n",
       "      <td>0.346154</td>\n",
       "      <td>0.0</td>\n",
       "      <td>...</td>\n",
       "      <td>0.000000</td>\n",
       "      <td>1.0</td>\n",
       "      <td>0.0</td>\n",
       "      <td>0.0</td>\n",
       "      <td>0.0</td>\n",
       "      <td>0.0</td>\n",
       "      <td>1.0</td>\n",
       "      <td>0.0</td>\n",
       "      <td>1.0</td>\n",
       "      <td>0.0</td>\n",
       "    </tr>\n",
       "    <tr>\n",
       "      <th>371457</th>\n",
       "      <td>0.039139</td>\n",
       "      <td>0.382557</td>\n",
       "      <td>0.358427</td>\n",
       "      <td>0.355842</td>\n",
       "      <td>1.0</td>\n",
       "      <td>0.153528</td>\n",
       "      <td>0.726533</td>\n",
       "      <td>0.116527</td>\n",
       "      <td>0.115385</td>\n",
       "      <td>0.0</td>\n",
       "      <td>...</td>\n",
       "      <td>0.200154</td>\n",
       "      <td>0.0</td>\n",
       "      <td>0.0</td>\n",
       "      <td>0.0</td>\n",
       "      <td>1.0</td>\n",
       "      <td>0.0</td>\n",
       "      <td>1.0</td>\n",
       "      <td>0.0</td>\n",
       "      <td>1.0</td>\n",
       "      <td>0.0</td>\n",
       "    </tr>\n",
       "  </tbody>\n",
       "</table>\n",
       "<p>371458 rows × 25 columns</p>\n",
       "</div>"
      ],
      "text/plain": [
       "        loan_amnt  int_rate     grade  sub_grade  emp_length  annual_inc  \\\n",
       "0        0.247880  0.282418  0.151264   0.231230         1.0    0.444882   \n",
       "1        0.195695  0.307799  0.151264   0.266309         0.4    0.240157   \n",
       "2        0.393999  0.238579  0.151264   0.199535         0.0    0.153768   \n",
       "3        0.174821  0.053992  0.000000   0.041117         0.6    0.196850   \n",
       "4        0.622962  0.551454  0.358427   0.456049         0.9    0.200787   \n",
       "...           ...       ...       ...        ...         ...         ...   \n",
       "371453   0.247880  0.261652  0.151264   0.231230         0.2    0.141732   \n",
       "371454   0.534899  0.321643  0.358427   0.305633         0.5    0.417323   \n",
       "371455   0.117417  0.215505  0.151264   0.147327         1.0    0.206693   \n",
       "371456   0.534899  0.461006  0.358427   0.355842         1.0    0.236220   \n",
       "371457   0.039139  0.382557  0.358427   0.355842         1.0    0.153528   \n",
       "\n",
       "         purpose       dti  open_acc  pub_rec  ...       zip  term_ 60 months  \\\n",
       "0       0.544711  0.367507  0.615385      0.0  ...  0.193784              0.0   \n",
       "1       0.726533  0.308824  0.653846      0.0  ...  0.000000              0.0   \n",
       "2       0.323543  0.179132  0.500000      0.0  ...  0.000000              0.0   \n",
       "3       0.323543  0.036415  0.230769      0.0  ...  0.000000              0.0   \n",
       "4       0.323543  0.475490  0.500000      0.0  ...  1.000000              1.0   \n",
       "...          ...       ...       ...      ...  ...       ...              ...   \n",
       "371453  0.726533  0.218908  0.230769      0.0  ...  0.194903              1.0   \n",
       "371454  0.726533  0.300420  0.230769      0.0  ...  0.000000              0.0   \n",
       "371455  0.726533  0.245938  0.576923      0.0  ...  0.195630              0.0   \n",
       "371456  0.726533  0.222409  0.346154      0.0  ...  0.000000              1.0   \n",
       "371457  0.726533  0.116527  0.115385      0.0  ...  0.200154              0.0   \n",
       "\n",
       "        home_ownership_OTHER  home_ownership_OWN  home_ownership_RENT  \\\n",
       "0                        0.0                 0.0                  1.0   \n",
       "1                        0.0                 0.0                  0.0   \n",
       "2                        0.0                 0.0                  1.0   \n",
       "3                        0.0                 0.0                  1.0   \n",
       "4                        0.0                 0.0                  0.0   \n",
       "...                      ...                 ...                  ...   \n",
       "371453                   0.0                 0.0                  1.0   \n",
       "371454                   0.0                 0.0                  0.0   \n",
       "371455                   0.0                 0.0                  1.0   \n",
       "371456                   0.0                 0.0                  0.0   \n",
       "371457                   0.0                 0.0                  1.0   \n",
       "\n",
       "        verification_status_Source Verified  verification_status_Verified  \\\n",
       "0                                       0.0                           0.0   \n",
       "1                                       0.0                           0.0   \n",
       "2                                       1.0                           0.0   \n",
       "3                                       0.0                           0.0   \n",
       "4                                       0.0                           1.0   \n",
       "...                                     ...                           ...   \n",
       "371453                                  1.0                           0.0   \n",
       "371454                                  1.0                           0.0   \n",
       "371455                                  0.0                           1.0   \n",
       "371456                                  0.0                           1.0   \n",
       "371457                                  0.0                           1.0   \n",
       "\n",
       "        initial_list_status_w  application_type_INDIVIDUAL  \\\n",
       "0                         1.0                          1.0   \n",
       "1                         0.0                          1.0   \n",
       "2                         0.0                          1.0   \n",
       "3                         0.0                          1.0   \n",
       "4                         0.0                          1.0   \n",
       "...                       ...                          ...   \n",
       "371453                    1.0                          1.0   \n",
       "371454                    0.0                          1.0   \n",
       "371455                    0.0                          1.0   \n",
       "371456                    0.0                          1.0   \n",
       "371457                    0.0                          1.0   \n",
       "\n",
       "        application_type_JOINT  \n",
       "0                          0.0  \n",
       "1                          0.0  \n",
       "2                          0.0  \n",
       "3                          0.0  \n",
       "4                          0.0  \n",
       "...                        ...  \n",
       "371453                     0.0  \n",
       "371454                     0.0  \n",
       "371455                     0.0  \n",
       "371456                     0.0  \n",
       "371457                     0.0  \n",
       "\n",
       "[371458 rows x 25 columns]"
      ]
     },
     "execution_count": 697,
     "metadata": {},
     "output_type": "execute_result"
    }
   ],
   "source": [
    "X_sc"
   ]
  },
  {
   "cell_type": "code",
   "execution_count": 698,
   "id": "234a8fa4",
   "metadata": {},
   "outputs": [
    {
     "name": "stdout",
     "output_type": "stream",
     "text": [
      "**************************************************\n",
      "    index                             Features     VIF\n",
      "0       3                            sub_grade  139.43\n",
      "1       1                             int_rate   82.19\n",
      "2       2                                grade   59.13\n",
      "3      23          application_type_INDIVIDUAL   35.78\n",
      "4       8                             open_acc   13.64\n",
      "5      12                            total_acc   10.67\n",
      "6       6                              purpose   10.54\n",
      "7      11                           revol_util    9.01\n",
      "8       7                                  dti    8.00\n",
      "9       5                           annual_inc    7.36\n",
      "10      0                            loan_amnt    6.68\n",
      "11      9                              pub_rec    4.96\n",
      "12     10                            revol_bal    4.75\n",
      "13     14                 pub_rec_bankruptcies    4.75\n",
      "14      4                           emp_length    3.99\n",
      "15     13                             mort_acc    3.92\n",
      "16     19                  home_ownership_RENT    3.01\n",
      "17     21         verification_status_Verified    2.42\n",
      "18     20  verification_status_Source Verified    2.20\n",
      "19     16                      term_ 60 months    2.02\n",
      "20     22                initial_list_status_w    1.81\n",
      "21     15                                  zip    1.63\n",
      "22     18                   home_ownership_OWN    1.30\n",
      "23     24               application_type_JOINT    1.04\n",
      "24     17                 home_ownership_OTHER    1.00\n",
      "**************************************************\n",
      "**************************************************\n",
      "    index                             Features    VIF\n",
      "0       1                             int_rate  47.83\n",
      "1      22          application_type_INDIVIDUAL  35.76\n",
      "2       2                                grade  27.90\n",
      "3       7                             open_acc  13.63\n",
      "4      11                            total_acc  10.67\n",
      "5       5                              purpose  10.53\n",
      "6      10                           revol_util   9.00\n",
      "7       6                                  dti   7.99\n",
      "8       4                           annual_inc   7.35\n",
      "9       0                            loan_amnt   6.68\n",
      "10      8                              pub_rec   4.96\n",
      "11      9                            revol_bal   4.75\n",
      "12     13                 pub_rec_bankruptcies   4.75\n",
      "13      3                           emp_length   3.99\n",
      "14     12                             mort_acc   3.90\n",
      "15     18                  home_ownership_RENT   3.01\n",
      "16     20         verification_status_Verified   2.42\n",
      "17     19  verification_status_Source Verified   2.19\n",
      "18     15                      term_ 60 months   1.99\n",
      "19     21                initial_list_status_w   1.78\n",
      "20     14                                  zip   1.63\n",
      "21     17                   home_ownership_OWN   1.30\n",
      "22     23               application_type_JOINT   1.04\n",
      "23     16                 home_ownership_OTHER   1.00\n",
      "**************************************************\n",
      "**************************************************\n",
      "    index                             Features    VIF\n",
      "0      21          application_type_INDIVIDUAL  33.39\n",
      "1       6                             open_acc  13.58\n",
      "2      10                            total_acc  10.66\n",
      "3       4                              purpose  10.52\n",
      "4       9                           revol_util   8.68\n",
      "5       5                                  dti   7.99\n",
      "6       3                           annual_inc   7.33\n",
      "7       0                            loan_amnt   6.67\n",
      "8       7                              pub_rec   4.96\n",
      "9      12                 pub_rec_bankruptcies   4.74\n",
      "10      8                            revol_bal   4.73\n",
      "11      1                                grade   4.25\n",
      "12      2                           emp_length   3.98\n",
      "13     11                             mort_acc   3.89\n",
      "14     17                  home_ownership_RENT   3.00\n",
      "15     19         verification_status_Verified   2.40\n",
      "16     18  verification_status_Source Verified   2.19\n",
      "17     14                      term_ 60 months   1.99\n",
      "18     20                initial_list_status_w   1.76\n",
      "19     13                                  zip   1.63\n",
      "20     16                   home_ownership_OWN   1.30\n",
      "21     22               application_type_JOINT   1.04\n",
      "22     15                 home_ownership_OTHER   1.00\n",
      "**************************************************\n",
      "**************************************************\n",
      "    index                             Features    VIF\n",
      "0       6                             open_acc  12.63\n",
      "1      10                            total_acc  10.65\n",
      "2       4                              purpose   8.40\n",
      "3       5                                  dti   7.74\n",
      "4       9                           revol_util   7.44\n",
      "5       3                           annual_inc   6.86\n",
      "6       0                            loan_amnt   6.65\n",
      "7       7                              pub_rec   4.96\n",
      "8      12                 pub_rec_bankruptcies   4.74\n",
      "9       8                            revol_bal   4.54\n",
      "10      1                                grade   4.24\n",
      "11      2                           emp_length   3.77\n",
      "12     11                             mort_acc   3.73\n",
      "13     17                  home_ownership_RENT   2.64\n",
      "14     19         verification_status_Verified   2.38\n",
      "15     18  verification_status_Source Verified   2.17\n",
      "16     14                      term_ 60 months   1.99\n",
      "17     20                initial_list_status_w   1.74\n",
      "18     13                                  zip   1.62\n",
      "19     16                   home_ownership_OWN   1.24\n",
      "20     15                 home_ownership_OTHER   1.00\n",
      "21     21               application_type_JOINT   1.00\n",
      "**************************************************\n",
      "**************************************************\n",
      "    index                             Features   VIF\n",
      "0       4                              purpose  8.24\n",
      "1       8                           revol_util  7.27\n",
      "2       5                                  dti  7.16\n",
      "3       9                            total_acc  6.96\n",
      "4       3                           annual_inc  6.77\n",
      "5       0                            loan_amnt  6.64\n",
      "6       6                              pub_rec  4.95\n",
      "7      11                 pub_rec_bankruptcies  4.74\n",
      "8       7                            revol_bal  4.40\n",
      "9       1                                grade  4.21\n",
      "10      2                           emp_length  3.77\n",
      "11     10                             mort_acc  3.73\n",
      "12     16                  home_ownership_RENT  2.62\n",
      "13     18         verification_status_Verified  2.38\n",
      "14     17  verification_status_Source Verified  2.17\n",
      "15     13                      term_ 60 months  1.98\n",
      "16     19                initial_list_status_w  1.74\n",
      "17     12                                  zip  1.62\n",
      "18     15                   home_ownership_OWN  1.24\n",
      "19     14                 home_ownership_OTHER  1.00\n",
      "20     20               application_type_JOINT  1.00\n",
      "**************************************************\n",
      "Removed Features :  4\n"
     ]
    }
   ],
   "source": [
    "deleted_cols=[]\n",
    "def VIF(X_sc):\n",
    "    vif=pd.DataFrame()\n",
    "    vif['Features']=X_sc.columns\n",
    "    vif['VIF']=[variance_inflation_factor(X_sc,i) for i in range(X_sc.shape[1])]\n",
    "    vif['VIF']=round(vif['VIF'],2)\n",
    "    vif=vif.sort_values(by='VIF',ascending=False).reset_index()\n",
    "    print('**************************************************')\n",
    "    print(vif)\n",
    "    print('**************************************************')\n",
    "    if vif['VIF'][0]>=10:\n",
    "        deleted_cols.append(vif['Features'][0])\n",
    "        X_sc.drop(vif['Features'][0],inplace=True,axis=1)\n",
    "        VIF(X_sc)\n",
    "    return (X_sc,deleted_cols)\n",
    "\n",
    "X_sc,deleted_cols=VIF(X_sc)\n",
    "print(\"Removed Features : \" , len(deleted_cols))"
   ]
  },
  {
   "cell_type": "code",
   "execution_count": 777,
   "id": "90f6b9e7",
   "metadata": {
    "id": "BQjdalnj2Fag"
   },
   "outputs": [],
   "source": [
    "X_train, X_test, y_train, y_test = train_test_split(X_sc, y, test_size=0.20,\n",
    "                                                     random_state=42)"
   ]
  },
  {
   "cell_type": "code",
   "execution_count": 778,
   "id": "ff8ced2a",
   "metadata": {
    "colab": {
     "base_uri": "https://localhost:8080/"
    },
    "id": "o57V0RyfxcOD",
    "outputId": "a1cbf417-4ffb-40ef-dd0e-5446f7a84bdd"
   },
   "outputs": [
    {
     "name": "stdout",
     "output_type": "stream",
     "text": [
      "(297166, 21)\n",
      "(74292, 21)\n"
     ]
    }
   ],
   "source": [
    "print(X_train.shape)\n",
    "print(X_test.shape)"
   ]
  },
  {
   "cell_type": "code",
   "execution_count": 780,
   "id": "c0ea78f9",
   "metadata": {},
   "outputs": [
    {
     "data": {
      "text/plain": [
       "0.0    239177\n",
       "1.0     57989\n",
       "Name: loan_status, dtype: int64"
      ]
     },
     "execution_count": 780,
     "metadata": {},
     "output_type": "execute_result"
    }
   ],
   "source": [
    "y_train.value_counts()"
   ]
  },
  {
   "cell_type": "code",
   "execution_count": 782,
   "id": "38da4244",
   "metadata": {},
   "outputs": [],
   "source": [
    "smt=SMOTE()\n",
    "X_train_sm,y_train_sm=smt.fit_resample(X_train,y_train)"
   ]
  },
  {
   "cell_type": "code",
   "execution_count": 783,
   "id": "9ba60b3d",
   "metadata": {},
   "outputs": [
    {
     "data": {
      "text/plain": [
       "1.0    239177\n",
       "0.0    239177\n",
       "Name: loan_status, dtype: int64"
      ]
     },
     "execution_count": 783,
     "metadata": {},
     "output_type": "execute_result"
    }
   ],
   "source": [
    "y_train_sm.value_counts()"
   ]
  },
  {
   "cell_type": "markdown",
   "id": "02b923b7",
   "metadata": {
    "id": "9b5qqldTwvWf"
   },
   "source": [
    "### Logistic Regression - Base Model"
   ]
  },
  {
   "cell_type": "code",
   "execution_count": 784,
   "id": "5669a625",
   "metadata": {
    "colab": {
     "base_uri": "https://localhost:8080/"
    },
    "id": "kLTZnTgF2Fm6",
    "outputId": "f183585d-0bac-4523-cb0c-3904882ecba2"
   },
   "outputs": [
    {
     "data": {
      "text/plain": [
       "LogisticRegression()"
      ]
     },
     "execution_count": 784,
     "metadata": {},
     "output_type": "execute_result"
    }
   ],
   "source": [
    "logreg = LogisticRegression()\n",
    "logreg.fit(X_train_sm, y_train_sm)"
   ]
  },
  {
   "cell_type": "code",
   "execution_count": 785,
   "id": "b778d2c1",
   "metadata": {
    "colab": {
     "base_uri": "https://localhost:8080/"
    },
    "id": "KqPt-PJz2FpJ",
    "outputId": "64ae4916-351a-4898-bc7a-3540a071151d"
   },
   "outputs": [
    {
     "name": "stdout",
     "output_type": "stream",
     "text": [
      "Accuracy of Logistic Regression Classifier on test set: 0.807\n"
     ]
    }
   ],
   "source": [
    "y_pred = logreg.predict(X_test)\n",
    "print('Accuracy of Logistic Regression Classifier on test set: {:.3f}'.format(logreg.score(X_test, y_test)))"
   ]
  },
  {
   "cell_type": "markdown",
   "id": "39e06d27",
   "metadata": {
    "id": "5xZiz661t_Cr"
   },
   "source": [
    "#### Confusion Matrix -"
   ]
  },
  {
   "cell_type": "code",
   "execution_count": 786,
   "id": "7090cb54",
   "metadata": {
    "colab": {
     "base_uri": "https://localhost:8080/"
    },
    "id": "MJ1brs6c2Frd",
    "outputId": "430726ea-be1f-4fc3-c8d9-ece8f99da2a3"
   },
   "outputs": [
    {
     "data": {
      "text/plain": [
       "array([[48512, 11279],\n",
       "       [ 3043, 11458]], dtype=int64)"
      ]
     },
     "execution_count": 786,
     "metadata": {},
     "output_type": "execute_result"
    }
   ],
   "source": [
    "confusionmatrix = confusion_matrix(y_test, y_pred)\n",
    "confusionmatrix"
   ]
  },
  {
   "cell_type": "code",
   "execution_count": 787,
   "id": "952c1158",
   "metadata": {},
   "outputs": [
    {
     "data": {
      "text/plain": [
       "<sklearn.metrics._plot.confusion_matrix.ConfusionMatrixDisplay at 0x1c8062afeb0>"
      ]
     },
     "execution_count": 787,
     "metadata": {},
     "output_type": "execute_result"
    },
    {
     "data": {
      "image/png": "[encoded data removed]",
      "text/plain": [
       "<Figure size 640x480 with 2 Axes>"
      ]
     },
     "metadata": {},
     "output_type": "display_data"
    }
   ],
   "source": [
    "ConfusionMatrixDisplay(confusionmatrix).plot()"
   ]
  },
  {
   "cell_type": "markdown",
   "id": "aa773c53",
   "metadata": {},
   "source": [
    "TP --> 11458 <br>\n",
    "TN --> 48512 <br>\n",
    "FP --> 11279 <br>\n",
    "FN --> 3043 "
   ]
  },
  {
   "cell_type": "markdown",
   "id": "e8698b50",
   "metadata": {},
   "source": [
    "#### Metric Calculation -"
   ]
  },
  {
   "cell_type": "code",
   "execution_count": 790,
   "id": "4006332a",
   "metadata": {},
   "outputs": [
    {
     "name": "stdout",
     "output_type": "stream",
     "text": [
      "Accuracy --> 0.81\n",
      "Precision --> 0.5\n",
      "Recall --> 0.79 \n",
      "True Negative Rate --> 0.81\n",
      "False Positive Rate --> 0.19\n",
      "F1 Score --> 0.61\n"
     ]
    }
   ],
   "source": [
    "acc = np.round(np.diag(confusionmatrix).sum()/np.sum(confusionmatrix),2)\n",
    "prec = np.round(confusionmatrix[1,1]/np.sum(confusionmatrix[:,1:]),2)\n",
    "rec = np.round(confusionmatrix[1,1]/np.sum(confusionmatrix[1:,:]),2)\n",
    "tnr = np.round(confusionmatrix[0,0]/np.sum(confusionmatrix[0,:]),2)\n",
    "fpr = np.round(confusionmatrix[0,1]/np.sum(confusionmatrix[0,:]),2)\n",
    "f1 = np.round(2*prec*rec / (prec + rec),2)\n",
    "\n",
    "print(f'Accuracy --> {acc}\\nPrecision --> {prec}\\nRecall --> {rec} \\\n",
    "\\nTrue Negative Rate --> {tnr}\\nFalse Positive Rate --> {fpr}\\nF1 Score --> {f1}')"
   ]
  },
  {
   "cell_type": "markdown",
   "id": "63469d6e",
   "metadata": {
    "id": "MjmDt7wfu-py"
   },
   "source": [
    "#### Classification Report -"
   ]
  },
  {
   "cell_type": "code",
   "execution_count": 791,
   "id": "28b52d04",
   "metadata": {
    "colab": {
     "base_uri": "https://localhost:8080/"
    },
    "id": "P1PHIUsx2Ftg",
    "outputId": "e3dc3f82-9f8f-4768-d502-6c64fee06153"
   },
   "outputs": [
    {
     "name": "stdout",
     "output_type": "stream",
     "text": [
      "              precision    recall  f1-score   support\n",
      "\n",
      "         0.0       0.94      0.81      0.87     59791\n",
      "         1.0       0.50      0.79      0.62     14501\n",
      "\n",
      "    accuracy                           0.81     74292\n",
      "   macro avg       0.72      0.80      0.74     74292\n",
      "weighted avg       0.86      0.81      0.82     74292\n",
      "\n"
     ]
    }
   ],
   "source": [
    "print(classification_report(y_test, y_pred))"
   ]
  },
  {
   "cell_type": "markdown",
   "id": "d317f06c",
   "metadata": {
    "id": "RCEP6nRdtNlJ"
   },
   "source": [
    "#### ROC Curve -\n",
    "\n",
    "An ROC curve (receiver operating characteristic curve) is a graph showing the performance of a classification model at all classification thresholds. This curve plots two parameters:\n",
    "\n",
    "- True Positive Rate\n",
    "- False Positive Rate\n",
    "\n",
    "True Positive Rate (TPR) is a synonym for recall and is therefore defined as follows:\n",
    "\n",
    "- TPR=(TP)/(TP+FN)\n",
    "\n",
    "False Positive Rate (FPR) is defined as follows:\n",
    "\n",
    "- FPR=(FP)/(FP+TN)\n",
    "\n",
    "An ROC curve plots TPR vs. FPR at different classification thresholds. Lowering the classification threshold classifies more items as positive, thus increasing both False Positives and True Positives. The following figure shows a typical ROC curve."
   ]
  },
  {
   "cell_type": "markdown",
   "id": "ea725b89",
   "metadata": {
    "id": "aVHG2ck4tX-4"
   },
   "source": [
    "#### AUC (Area under the ROC Curve) -\n",
    "\n",
    "AUC stands for \"Area under the ROC Curve.\" That is, AUC measures the entire two-dimensional area underneath the entire ROC curve (think integral calculus) from (0,0) to (1,1).\n"
   ]
  },
  {
   "cell_type": "code",
   "execution_count": 739,
   "id": "3b125128",
   "metadata": {
    "colab": {
     "base_uri": "https://localhost:8080/",
     "height": 295
    },
    "id": "0ETktDQu2Fvv",
    "outputId": "eb39413c-27cd-4f0b-94d2-6c1d4abe6b61"
   },
   "outputs": [
    {
     "data": {
      "image/png": "[encoded data removed]",
      "text/plain": [
       "<Figure size 640x480 with 1 Axes>"
      ]
     },
     "metadata": {},
     "output_type": "display_data"
    }
   ],
   "source": [
    "logit_roc_auc = roc_auc_score(y_test, logreg.predict_proba(X_test)[:,1])\n",
    "fpr, tpr, thresholds = roc_curve(y_test, logreg.predict_proba(X_test)[:,1])\n",
    "plt.figure()\n",
    "plt.plot(fpr, tpr, label='Logistic Regression (area = %0.2f)' % logit_roc_auc)\n",
    "plt.plot([0, 1], [0, 1],'r--')\n",
    "\n",
    "plt.xlabel('False Positive Rate')\n",
    "plt.ylabel('True Positive Rate')\n",
    "plt.title('Receiver operating characteristic')\n",
    "plt.legend(loc=\"lower right\")\n",
    "\n",
    "plt.show()"
   ]
  },
  {
   "cell_type": "code",
   "execution_count": 740,
   "id": "47dc83ec",
   "metadata": {},
   "outputs": [
    {
     "data": {
      "image/png": "[encoded data removed]",
      "text/plain": [
       "<Figure size 640x480 with 1 Axes>"
      ]
     },
     "metadata": {},
     "output_type": "display_data"
    }
   ],
   "source": [
    "precisions, recalls, thresholds = precision_recall_curve(y_test, logreg.predict_proba(X_test)[:,1])\n",
    "logit_auc = auc(recalls, precisions)\n",
    "plt.figure()\n",
    "plt.plot(recalls, precisions, label='Logistic Regression (area = %0.2f)' % logit_auc)\n",
    "\n",
    "plt.xlabel('recalls')\n",
    "plt.ylabel('precisions')\n",
    "plt.title('PR Curve')\n",
    "plt.legend(loc=\"lower right\")\n",
    "\n",
    "plt.show()"
   ]
  },
  {
   "cell_type": "code",
   "execution_count": 741,
   "id": "f7f1015c",
   "metadata": {
    "colab": {
     "base_uri": "https://localhost:8080/",
     "height": 279
    },
    "id": "FXMya1BT2F2P",
    "outputId": "4f7d4d95-715f-4088-faef-40f272531ba7"
   },
   "outputs": [
    {
     "data": {
      "image/png": "[encoded data removed]",
      "text/plain": [
       "<Figure size 640x480 with 1 Axes>"
      ]
     },
     "metadata": {},
     "output_type": "display_data"
    }
   ],
   "source": [
    "def precision_recall_curve_plot(y_test, pred_proba_c1):\n",
    "    precisions, recalls, thresholds = precision_recall_curve(y_test, pred_proba_c1)\n",
    "\n",
    "    threshold_boundary = thresholds.shape[0]\n",
    "    # plot precision\n",
    "    plt.plot(thresholds, precisions[0:threshold_boundary], linestyle='--', label='precision')\n",
    "    # plot recall\n",
    "    plt.plot(thresholds, recalls[0:threshold_boundary], label='recalls')\n",
    "\n",
    "    plt.xlabel('Threshold Value')\n",
    "    plt.ylabel('Precision and Recall Value')\n",
    "    plt.legend()\n",
    "    plt.grid()\n",
    "    plt.show()\n",
    "\n",
    "precision_recall_curve_plot(y_test, logreg.predict_proba(X_test)[:,1])"
   ]
  },
  {
   "cell_type": "markdown",
   "id": "a37f7e29",
   "metadata": {},
   "source": [
    "### PRIORITIZING METRICS"
   ]
  },
  {
   "cell_type": "markdown",
   "id": "421bf0c8",
   "metadata": {},
   "source": [
    "**Recall :** <br>\n",
    "In credit default cases, it is very important that there are very less cases where the model has predicted as **NOT A DEFAULTER** but the person has actually **DEFAULTED** in credit payments. This is highly risky. \n",
    "Thus the **FALSE NEGATIVES (FN)** should be minimal. <br>\n",
    "Recall is the metric related to False Negatives (FN) ie, Recall = TP/(TP+FN) and hence needs to be minimum possible and thus **Recall is the first priority metric** <br>\n",
    "**Precision :** <br>\n",
    "It is also important that there are less cases where the model predicted as **DEFAULTER** but the person actually is **NOT A DEFAULTER** because it might result in missing out on customers and thereby reduction in the total revenue. Thus **FALSE POSITIVES** also should be minimal. <br>\n",
    "Precision is the metric related to False Positives (FP) ie, Precision = TP/(TP+FP) and hence needs to be minimum possible and hence **Precision will be the second priority metric**"
   ]
  },
  {
   "cell_type": "markdown",
   "id": "bc4bd4f8",
   "metadata": {},
   "source": [
    "Recall score achieved with the base model is 80% which is a decent score but precision is at 50%. Since the precision score is low, hyper parameter tuning will be done to improve the scores from the base model"
   ]
  },
  {
   "cell_type": "markdown",
   "id": "34e5d377",
   "metadata": {},
   "source": [
    "### HYPER PARAMETER TUNING"
   ]
  },
  {
   "cell_type": "code",
   "execution_count": 833,
   "id": "a939a0ba",
   "metadata": {},
   "outputs": [
    {
     "data": {
      "text/plain": [
       "GridSearchCV(cv=5, estimator=LogisticRegression(),\n",
       "             param_grid={'C': [90, 100, 110], 'max_iter': [340, 350, 360]},\n",
       "             scoring='recall')"
      ]
     },
     "execution_count": 833,
     "metadata": {},
     "output_type": "execute_result"
    }
   ],
   "source": [
    "logreg=LogisticRegression()\n",
    "param_grid={\n",
    " \n",
    "    'C' : [90,100,110],\n",
    "    'max_iter' : [340,350,360]\n",
    "}\n",
    "\n",
    "grid = GridSearchCV(estimator=logreg,param_grid=param_grid,cv=5,scoring='recall')\n",
    "grid.fit(X_train_sm, y_train_sm)"
   ]
  },
  {
   "cell_type": "code",
   "execution_count": 834,
   "id": "f54b361d",
   "metadata": {},
   "outputs": [
    {
     "data": {
      "text/plain": [
       "{'C': 100, 'max_iter': 340}"
      ]
     },
     "execution_count": 834,
     "metadata": {},
     "output_type": "execute_result"
    }
   ],
   "source": [
    "grid.best_params_"
   ]
  },
  {
   "cell_type": "markdown",
   "id": "72bc0742",
   "metadata": {
    "id": "9b5qqldTwvWf"
   },
   "source": [
    "### Logistic Regression - Tuned Model"
   ]
  },
  {
   "cell_type": "code",
   "execution_count": 835,
   "id": "75571a2c",
   "metadata": {
    "colab": {
     "base_uri": "https://localhost:8080/"
    },
    "id": "kLTZnTgF2Fm6",
    "outputId": "f183585d-0bac-4523-cb0c-3904882ecba2"
   },
   "outputs": [
    {
     "data": {
      "text/plain": [
       "LogisticRegression(C=100, max_iter=340)"
      ]
     },
     "execution_count": 835,
     "metadata": {},
     "output_type": "execute_result"
    }
   ],
   "source": [
    "logreg = LogisticRegression(max_iter=340,C=100)\n",
    "logreg.fit(X_train_sm, y_train_sm)"
   ]
  },
  {
   "cell_type": "code",
   "execution_count": 836,
   "id": "a7f60543",
   "metadata": {
    "colab": {
     "base_uri": "https://localhost:8080/"
    },
    "id": "KqPt-PJz2FpJ",
    "outputId": "64ae4916-351a-4898-bc7a-3540a071151d"
   },
   "outputs": [
    {
     "name": "stdout",
     "output_type": "stream",
     "text": [
      "Accuracy of Logistic Regression Classifier on test set: 0.806\n"
     ]
    }
   ],
   "source": [
    "y_pred = logreg.predict(X_test)\n",
    "print('Accuracy of Logistic Regression Classifier on test set: {:.3f}'.format(logreg.score(X_test, y_test)))"
   ]
  },
  {
   "cell_type": "markdown",
   "id": "82bb29e9",
   "metadata": {
    "id": "5xZiz661t_Cr"
   },
   "source": [
    "#### Confusion Matrix -"
   ]
  },
  {
   "cell_type": "code",
   "execution_count": 837,
   "id": "b276c4ee",
   "metadata": {
    "colab": {
     "base_uri": "https://localhost:8080/"
    },
    "id": "MJ1brs6c2Frd",
    "outputId": "430726ea-be1f-4fc3-c8d9-ece8f99da2a3"
   },
   "outputs": [
    {
     "data": {
      "text/plain": [
       "array([[48455, 11336],\n",
       "       [ 3054, 11447]], dtype=int64)"
      ]
     },
     "execution_count": 837,
     "metadata": {},
     "output_type": "execute_result"
    }
   ],
   "source": [
    "confusionmatrix = confusion_matrix(y_test, y_pred)\n",
    "confusionmatrix"
   ]
  },
  {
   "cell_type": "code",
   "execution_count": 838,
   "id": "80fcd04b",
   "metadata": {},
   "outputs": [
    {
     "data": {
      "text/plain": [
       "<sklearn.metrics._plot.confusion_matrix.ConfusionMatrixDisplay at 0x1c8007c9dc0>"
      ]
     },
     "execution_count": 838,
     "metadata": {},
     "output_type": "execute_result"
    },
    {
     "data": {
      "image/png": "[encoded data removed]",
      "text/plain": [
       "<Figure size 640x480 with 2 Axes>"
      ]
     },
     "metadata": {},
     "output_type": "display_data"
    }
   ],
   "source": [
    "ConfusionMatrixDisplay(confusionmatrix).plot()"
   ]
  },
  {
   "cell_type": "markdown",
   "id": "dd837c63",
   "metadata": {},
   "source": [
    "TP --> 17122 <br>\n",
    "TN --> 72878 <br>\n",
    "FP --> 16813 <br>\n",
    "FN --> 4625 "
   ]
  },
  {
   "cell_type": "markdown",
   "id": "8ee27c41",
   "metadata": {},
   "source": [
    "#### Metric Calculation -"
   ]
  },
  {
   "cell_type": "code",
   "execution_count": 839,
   "id": "de16ef2a",
   "metadata": {},
   "outputs": [
    {
     "name": "stdout",
     "output_type": "stream",
     "text": [
      "Accuracy --> 0.81\n",
      "Precision --> 0.5\n",
      "Recall --> 0.79 \n",
      "True Negative Rate --> 0.81\n",
      "False Positive Rate --> 0.19\n",
      "F1 Score --> 0.61\n"
     ]
    }
   ],
   "source": [
    "acc = np.round(np.diag(confusionmatrix).sum()/np.sum(confusionmatrix),2)\n",
    "prec = np.round(confusionmatrix[1,1]/np.sum(confusionmatrix[:,1:]),2)\n",
    "rec = np.round(confusionmatrix[1,1]/np.sum(confusionmatrix[1:,:]),2)\n",
    "tnr = np.round(confusionmatrix[0,0]/np.sum(confusionmatrix[0,:]),2)\n",
    "fpr = np.round(confusionmatrix[0,1]/np.sum(confusionmatrix[0,:]),2)\n",
    "f1 = np.round(2*prec*rec / (prec + rec),2)\n",
    "\n",
    "print(f'Accuracy --> {acc}\\nPrecision --> {prec}\\nRecall --> {rec} \\\n",
    "\\nTrue Negative Rate --> {tnr}\\nFalse Positive Rate --> {fpr}\\nF1 Score --> {f1}')"
   ]
  },
  {
   "cell_type": "markdown",
   "id": "39df9ecb",
   "metadata": {
    "id": "MjmDt7wfu-py"
   },
   "source": [
    "#### Classification Report -"
   ]
  },
  {
   "cell_type": "code",
   "execution_count": 840,
   "id": "17317f80",
   "metadata": {
    "colab": {
     "base_uri": "https://localhost:8080/"
    },
    "id": "P1PHIUsx2Ftg",
    "outputId": "e3dc3f82-9f8f-4768-d502-6c64fee06153"
   },
   "outputs": [
    {
     "name": "stdout",
     "output_type": "stream",
     "text": [
      "              precision    recall  f1-score   support\n",
      "\n",
      "         0.0       0.94      0.81      0.87     59791\n",
      "         1.0       0.50      0.79      0.61     14501\n",
      "\n",
      "    accuracy                           0.81     74292\n",
      "   macro avg       0.72      0.80      0.74     74292\n",
      "weighted avg       0.86      0.81      0.82     74292\n",
      "\n"
     ]
    }
   ],
   "source": [
    "print(classification_report(y_test, y_pred))"
   ]
  },
  {
   "cell_type": "code",
   "execution_count": 841,
   "id": "33937bd0",
   "metadata": {
    "colab": {
     "base_uri": "https://localhost:8080/",
     "height": 295
    },
    "id": "0ETktDQu2Fvv",
    "outputId": "eb39413c-27cd-4f0b-94d2-6c1d4abe6b61"
   },
   "outputs": [
    {
     "data": {
      "image/png": "[encoded data removed]",
      "text/plain": [
       "<Figure size 640x480 with 1 Axes>"
      ]
     },
     "metadata": {},
     "output_type": "display_data"
    }
   ],
   "source": [
    "fpr, tpr, thresholds = roc_curve(y_test, logreg.predict_proba(X_test)[:,1])\n",
    "logit_roc_auc = roc_auc_score(y_test, logreg.predict_proba(X_test)[:,1])\n",
    "plt.figure()\n",
    "plt.plot(fpr, tpr, label='Logistic Regression (area = %0.2f)' % logit_roc_auc)\n",
    "plt.plot([0, 1], [0, 1],'r--')\n",
    "\n",
    "plt.xlabel('False Positive Rate')\n",
    "plt.ylabel('True Positive Rate')\n",
    "plt.title('Receiver operating characteristic')\n",
    "plt.legend(loc=\"lower right\")\n",
    "\n",
    "plt.show()"
   ]
  },
  {
   "cell_type": "code",
   "execution_count": 842,
   "id": "09a814b3",
   "metadata": {},
   "outputs": [
    {
     "data": {
      "image/png": "[encoded data removed]",
      "text/plain": [
       "<Figure size 640x480 with 1 Axes>"
      ]
     },
     "metadata": {},
     "output_type": "display_data"
    }
   ],
   "source": [
    "precisions, recalls, thresholds = precision_recall_curve(y_test, logreg.predict_proba(X_test)[:,1])\n",
    "logit_auc = auc(recalls, precisions)\n",
    "plt.figure()\n",
    "plt.plot(recalls, precisions, label='Logistic Regression (area = %0.2f)' % logit_auc)\n",
    "\n",
    "plt.xlabel('recalls')\n",
    "plt.ylabel('precisions')\n",
    "plt.title('PR Curve')\n",
    "plt.legend(loc=\"lower right\")\n",
    "\n",
    "plt.show()"
   ]
  },
  {
   "cell_type": "code",
   "execution_count": 843,
   "id": "31409249",
   "metadata": {
    "colab": {
     "base_uri": "https://localhost:8080/",
     "height": 279
    },
    "id": "FXMya1BT2F2P",
    "outputId": "4f7d4d95-715f-4088-faef-40f272531ba7"
   },
   "outputs": [
    {
     "data": {
      "image/png": "[encoded data removed]",
      "text/plain": [
       "<Figure size 640x480 with 1 Axes>"
      ]
     },
     "metadata": {},
     "output_type": "display_data"
    }
   ],
   "source": [
    "def precision_recall_curve_plot(y_test, pred_proba_c1):\n",
    "    precisions, recalls, thresholds = precision_recall_curve(y_test, pred_proba_c1)\n",
    "    \n",
    "    logit_roc_auc = roc_auc_score(y_test, logreg.predict_proba(X_test)[:,1])\n",
    "    \n",
    "    threshold_boundary = thresholds.shape[0]\n",
    "    # plot precision\n",
    "    plt.plot(thresholds, precisions[0:threshold_boundary], linestyle='--', label='precision')\n",
    "    # plot recall\n",
    "    plt.plot(thresholds, recalls[0:threshold_boundary], label='recalls')\n",
    "\n",
    "    plt.xlabel('Threshold Value')\n",
    "    plt.ylabel('Precision and Recall Value')\n",
    "    plt.legend()\n",
    "    plt.grid()\n",
    "    plt.show()\n",
    "\n",
    "precision_recall_curve_plot(y_test, logreg.predict_proba(X_test)[:,1])"
   ]
  },
  {
   "cell_type": "markdown",
   "id": "sZ08Hvmf8axo",
   "metadata": {
    "id": "sZ08Hvmf8axo"
   },
   "source": [
    "### FEATURE IMPORTANCES"
   ]
  },
  {
   "cell_type": "markdown",
   "id": "K1kDEvUn8fqD",
   "metadata": {
    "id": "K1kDEvUn8fqD"
   },
   "source": [
    "In logistic regression, when multi-collinearity is removed, feature importance can be directly interpreted from weights / coefficients."
   ]
  },
  {
   "cell_type": "code",
   "execution_count": 844,
   "id": "qQdtYKHF48A0",
   "metadata": {
    "colab": {
     "base_uri": "https://localhost:8080/",
     "height": 1523
    },
    "id": "qQdtYKHF48A0",
    "outputId": "cf47c49d-eec9-4e04-b9ea-c676e54d9776"
   },
   "outputs": [
    {
     "data": {
      "text/html": [
       "<div>\n",
       "<style scoped>\n",
       "    .dataframe tbody tr th:only-of-type {\n",
       "        vertical-align: middle;\n",
       "    }\n",
       "\n",
       "    .dataframe tbody tr th {\n",
       "        vertical-align: top;\n",
       "    }\n",
       "\n",
       "    .dataframe thead th {\n",
       "        text-align: right;\n",
       "    }\n",
       "</style>\n",
       "<table border=\"1\" class=\"dataframe\">\n",
       "  <thead>\n",
       "    <tr style=\"text-align: right;\">\n",
       "      <th></th>\n",
       "      <th>Coefficients</th>\n",
       "      <th>Features</th>\n",
       "    </tr>\n",
       "  </thead>\n",
       "  <tbody>\n",
       "    <tr>\n",
       "      <th>12</th>\n",
       "      <td>39.137932</td>\n",
       "      <td>zip</td>\n",
       "    </tr>\n",
       "    <tr>\n",
       "      <th>5</th>\n",
       "      <td>2.137980</td>\n",
       "      <td>dti</td>\n",
       "    </tr>\n",
       "    <tr>\n",
       "      <th>1</th>\n",
       "      <td>1.924273</td>\n",
       "      <td>grade</td>\n",
       "    </tr>\n",
       "    <tr>\n",
       "      <th>0</th>\n",
       "      <td>0.634837</td>\n",
       "      <td>loan_amnt</td>\n",
       "    </tr>\n",
       "    <tr>\n",
       "      <th>8</th>\n",
       "      <td>0.605989</td>\n",
       "      <td>revol_util</td>\n",
       "    </tr>\n",
       "    <tr>\n",
       "      <th>13</th>\n",
       "      <td>0.412911</td>\n",
       "      <td>term_ 60 months</td>\n",
       "    </tr>\n",
       "    <tr>\n",
       "      <th>6</th>\n",
       "      <td>0.265497</td>\n",
       "      <td>pub_rec</td>\n",
       "    </tr>\n",
       "    <tr>\n",
       "      <th>4</th>\n",
       "      <td>0.218153</td>\n",
       "      <td>purpose</td>\n",
       "    </tr>\n",
       "    <tr>\n",
       "      <th>16</th>\n",
       "      <td>0.211767</td>\n",
       "      <td>home_ownership_RENT</td>\n",
       "    </tr>\n",
       "    <tr>\n",
       "      <th>17</th>\n",
       "      <td>0.199987</td>\n",
       "      <td>verification_status_Source Verified</td>\n",
       "    </tr>\n",
       "    <tr>\n",
       "      <th>15</th>\n",
       "      <td>0.133226</td>\n",
       "      <td>home_ownership_OWN</td>\n",
       "    </tr>\n",
       "    <tr>\n",
       "      <th>18</th>\n",
       "      <td>0.092395</td>\n",
       "      <td>verification_status_Verified</td>\n",
       "    </tr>\n",
       "    <tr>\n",
       "      <th>19</th>\n",
       "      <td>0.019578</td>\n",
       "      <td>initial_list_status_w</td>\n",
       "    </tr>\n",
       "    <tr>\n",
       "      <th>10</th>\n",
       "      <td>-0.016167</td>\n",
       "      <td>mort_acc</td>\n",
       "    </tr>\n",
       "    <tr>\n",
       "      <th>2</th>\n",
       "      <td>-0.048592</td>\n",
       "      <td>emp_length</td>\n",
       "    </tr>\n",
       "    <tr>\n",
       "      <th>11</th>\n",
       "      <td>-0.215842</td>\n",
       "      <td>pub_rec_bankruptcies</td>\n",
       "    </tr>\n",
       "    <tr>\n",
       "      <th>9</th>\n",
       "      <td>-0.260128</td>\n",
       "      <td>total_acc</td>\n",
       "    </tr>\n",
       "    <tr>\n",
       "      <th>14</th>\n",
       "      <td>-0.415843</td>\n",
       "      <td>home_ownership_OTHER</td>\n",
       "    </tr>\n",
       "    <tr>\n",
       "      <th>7</th>\n",
       "      <td>-0.477760</td>\n",
       "      <td>revol_bal</td>\n",
       "    </tr>\n",
       "    <tr>\n",
       "      <th>20</th>\n",
       "      <td>-1.525469</td>\n",
       "      <td>application_type_JOINT</td>\n",
       "    </tr>\n",
       "    <tr>\n",
       "      <th>3</th>\n",
       "      <td>-1.791214</td>\n",
       "      <td>annual_inc</td>\n",
       "    </tr>\n",
       "  </tbody>\n",
       "</table>\n",
       "</div>"
      ],
      "text/plain": [
       "    Coefficients                             Features\n",
       "12     39.137932                                  zip\n",
       "5       2.137980                                  dti\n",
       "1       1.924273                                grade\n",
       "0       0.634837                            loan_amnt\n",
       "8       0.605989                           revol_util\n",
       "13      0.412911                      term_ 60 months\n",
       "6       0.265497                              pub_rec\n",
       "4       0.218153                              purpose\n",
       "16      0.211767                  home_ownership_RENT\n",
       "17      0.199987  verification_status_Source Verified\n",
       "15      0.133226                   home_ownership_OWN\n",
       "18      0.092395         verification_status_Verified\n",
       "19      0.019578                initial_list_status_w\n",
       "10     -0.016167                             mort_acc\n",
       "2      -0.048592                           emp_length\n",
       "11     -0.215842                 pub_rec_bankruptcies\n",
       "9      -0.260128                            total_acc\n",
       "14     -0.415843                 home_ownership_OTHER\n",
       "7      -0.477760                            revol_bal\n",
       "20     -1.525469               application_type_JOINT\n",
       "3      -1.791214                           annual_inc"
      ]
     },
     "execution_count": 844,
     "metadata": {},
     "output_type": "execute_result"
    }
   ],
   "source": [
    "fi = pd.DataFrame()\n",
    "fi['Coefficients'] = logreg.coef_.reshape(-1,)\n",
    "fi['Features'] = X_train.columns\n",
    "fi.sort_values(by='Coefficients', ascending=False,inplace=True)\n",
    "fi"
   ]
  },
  {
   "cell_type": "code",
   "execution_count": 846,
   "id": "5EMfBxbc8e33",
   "metadata": {
    "colab": {
     "base_uri": "https://localhost:8080/",
     "height": 1000
    },
    "id": "5EMfBxbc8e33",
    "outputId": "0bccdf1c-0151-49b3-d6da-cccaa70a9db9"
   },
   "outputs": [
    {
     "data": {
      "image/png": "[encoded data removed]",
      "text/plain": [
       "<Figure size 1500x500 with 1 Axes>"
      ]
     },
     "metadata": {},
     "output_type": "display_data"
    }
   ],
   "source": [
    "plt.figure(figsize=(15,5))\n",
    "\n",
    "plt.bar(x=fi['Features'], height=fi['Coefficients'])\n",
    "plt.xticks(rotation=90)\n",
    "plt.title('Feature importances')\n",
    "plt.xlabel('Features')\n",
    "plt.ylabel('Coefficients')\n",
    "plt.show()"
   ]
  },
  {
   "cell_type": "markdown",
   "id": "32a66c59",
   "metadata": {},
   "source": [
    "### INSIGHTS AND RECOMMENDATIONS"
   ]
  },
  {
   "cell_type": "markdown",
   "id": "d3fda305",
   "metadata": {},
   "source": [
    "1. Close to 3.2 lakh people (80%) paid back their loan while 78k loans (20%) were charged off\n",
    "2. People with '36 month loan term', home ownership of 'Mortgage' or 'Rent' , purpose of 'debt consolidation' or 'credit cards' has higher chance of paying pack the loan\n",
    "3. For the loans which are defaulted interest rates are a bit on the higher side compared to those which are fully repaid.\n",
    "4. Here since it's important to identify the real defaulters inorder to exclude non performing assets while issuing loans recall is given more importance over precision. If needed, recall value can be further improved by altering threshold probability which by default is 0.5.\n",
    "4. Since the model is giving a maximum precision value of around 0.5 only even after tweeking the hyperparameter, we will need some advanced bagging or boosting algorithms inorder to improve the model performance."
   ]
  }
 ],
 "metadata": {
  "kernelspec": {
   "display_name": "Python 3 (ipykernel)",
   "language": "python",
   "name": "python3"
  },
  "language_info": {
   "codemirror_mode": {
    "name": "ipython",
    "version": 3
   },
   "file_extension": ".py",
   "mimetype": "text/x-python",
   "name": "python",
   "nbconvert_exporter": "python",
   "pygments_lexer": "ipython3",
   "version": "3.9.13"
  }
 },
 "nbformat": 4,
 "nbformat_minor": 5
}
